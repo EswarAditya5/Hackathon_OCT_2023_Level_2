{
 "cells": [
  {
   "cell_type": "code",
   "execution_count": 1,
   "id": "974686f9",
   "metadata": {},
   "outputs": [],
   "source": [
    "import io\n",
    "import os\n",
    "import numpy as np\n",
    "import pandas as pd\n",
    "import matplotlib.pyplot as plt\n",
    "import seaborn as sns\n",
    "%matplotlib inline"
   ]
  },
  {
   "cell_type": "code",
   "execution_count": 2,
   "id": "4d72df4f",
   "metadata": {},
   "outputs": [
    {
     "name": "stdout",
     "output_type": "stream",
     "text": [
      "D:\\Imarticus\\Hackathons\\Oct 2023(imarticus)\\Interview Intelligence Prediction\n"
     ]
    }
   ],
   "source": [
    "%cd \"D:\\Imarticus\\Hackathons\\Oct 2023(imarticus)\\Interview Intelligence Prediction\""
   ]
  },
  {
   "cell_type": "code",
   "execution_count": 3,
   "id": "5b911cf1",
   "metadata": {},
   "outputs": [
    {
     "data": {
      "text/html": [
       "<div>\n",
       "<style scoped>\n",
       "    .dataframe tbody tr th:only-of-type {\n",
       "        vertical-align: middle;\n",
       "    }\n",
       "\n",
       "    .dataframe tbody tr th {\n",
       "        vertical-align: top;\n",
       "    }\n",
       "\n",
       "    .dataframe thead th {\n",
       "        text-align: right;\n",
       "    }\n",
       "</style>\n",
       "<table border=\"1\" class=\"dataframe\">\n",
       "  <thead>\n",
       "    <tr style=\"text-align: right;\">\n",
       "      <th></th>\n",
       "      <th>Interview Id</th>\n",
       "      <th>Candidate Id</th>\n",
       "      <th>Interviewer Id</th>\n",
       "      <th>Profile</th>\n",
       "      <th>S.L.R.C</th>\n",
       "      <th>S.L.R.I</th>\n",
       "      <th>A.T.T</th>\n",
       "      <th>L.M.I</th>\n",
       "      <th>L.M.C</th>\n",
       "      <th>S.R</th>\n",
       "      <th>...</th>\n",
       "      <th>L.A.I</th>\n",
       "      <th>Q.A</th>\n",
       "      <th>P.E.I</th>\n",
       "      <th>P.E.C</th>\n",
       "      <th>COMPLIANCE Ratio</th>\n",
       "      <th>Interview duration</th>\n",
       "      <th>Interviewer Intro</th>\n",
       "      <th>Candidate into</th>\n",
       "      <th>Opp to ask</th>\n",
       "      <th>Status</th>\n",
       "    </tr>\n",
       "  </thead>\n",
       "  <tbody>\n",
       "    <tr>\n",
       "      <th>0</th>\n",
       "      <td>6.913030e+11</td>\n",
       "      <td>2.655774e+09</td>\n",
       "      <td>194</td>\n",
       "      <td>Developer</td>\n",
       "      <td>0.98</td>\n",
       "      <td>0.02</td>\n",
       "      <td>53</td>\n",
       "      <td>88</td>\n",
       "      <td>93</td>\n",
       "      <td>32</td>\n",
       "      <td>...</td>\n",
       "      <td>15</td>\n",
       "      <td>6</td>\n",
       "      <td>Neutral</td>\n",
       "      <td>Neutral</td>\n",
       "      <td>98</td>\n",
       "      <td>37</td>\n",
       "      <td>No</td>\n",
       "      <td>Yes</td>\n",
       "      <td>Yes</td>\n",
       "      <td>Consider</td>\n",
       "    </tr>\n",
       "    <tr>\n",
       "      <th>1</th>\n",
       "      <td>9.214326e+11</td>\n",
       "      <td>7.123846e+08</td>\n",
       "      <td>234</td>\n",
       "      <td>Sales</td>\n",
       "      <td>0.67</td>\n",
       "      <td>0.33</td>\n",
       "      <td>51</td>\n",
       "      <td>53</td>\n",
       "      <td>44</td>\n",
       "      <td>36</td>\n",
       "      <td>...</td>\n",
       "      <td>15</td>\n",
       "      <td>4</td>\n",
       "      <td>Neutral</td>\n",
       "      <td>Negative</td>\n",
       "      <td>54</td>\n",
       "      <td>33</td>\n",
       "      <td>No</td>\n",
       "      <td>No</td>\n",
       "      <td>Yes</td>\n",
       "      <td>Consider</td>\n",
       "    </tr>\n",
       "    <tr>\n",
       "      <th>2</th>\n",
       "      <td>4.718839e+10</td>\n",
       "      <td>8.445533e+08</td>\n",
       "      <td>267</td>\n",
       "      <td>Program Manager</td>\n",
       "      <td>0.81</td>\n",
       "      <td>0.19</td>\n",
       "      <td>60</td>\n",
       "      <td>77</td>\n",
       "      <td>75</td>\n",
       "      <td>54</td>\n",
       "      <td>...</td>\n",
       "      <td>7</td>\n",
       "      <td>3</td>\n",
       "      <td>Positive</td>\n",
       "      <td>Positive</td>\n",
       "      <td>31</td>\n",
       "      <td>58</td>\n",
       "      <td>No</td>\n",
       "      <td>Yes</td>\n",
       "      <td>No</td>\n",
       "      <td>Consider</td>\n",
       "    </tr>\n",
       "    <tr>\n",
       "      <th>3</th>\n",
       "      <td>9.943741e+11</td>\n",
       "      <td>6.511106e+09</td>\n",
       "      <td>199</td>\n",
       "      <td>Marketing</td>\n",
       "      <td>0.69</td>\n",
       "      <td>0.31</td>\n",
       "      <td>93</td>\n",
       "      <td>42</td>\n",
       "      <td>103</td>\n",
       "      <td>49</td>\n",
       "      <td>...</td>\n",
       "      <td>10</td>\n",
       "      <td>7</td>\n",
       "      <td>Positive</td>\n",
       "      <td>Negative</td>\n",
       "      <td>24</td>\n",
       "      <td>35</td>\n",
       "      <td>No</td>\n",
       "      <td>Yes</td>\n",
       "      <td>No</td>\n",
       "      <td>Consider</td>\n",
       "    </tr>\n",
       "    <tr>\n",
       "      <th>4</th>\n",
       "      <td>3.509007e+11</td>\n",
       "      <td>3.487001e+09</td>\n",
       "      <td>221</td>\n",
       "      <td>QA Automation</td>\n",
       "      <td>0.57</td>\n",
       "      <td>0.43</td>\n",
       "      <td>44</td>\n",
       "      <td>44</td>\n",
       "      <td>119</td>\n",
       "      <td>66</td>\n",
       "      <td>...</td>\n",
       "      <td>7</td>\n",
       "      <td>3</td>\n",
       "      <td>Negative</td>\n",
       "      <td>Positive</td>\n",
       "      <td>73</td>\n",
       "      <td>60</td>\n",
       "      <td>Yes</td>\n",
       "      <td>Yes</td>\n",
       "      <td>No</td>\n",
       "      <td>Consider</td>\n",
       "    </tr>\n",
       "  </tbody>\n",
       "</table>\n",
       "<p>5 rows × 27 columns</p>\n",
       "</div>"
      ],
      "text/plain": [
       "   Interview Id  Candidate Id  Interviewer Id          Profile  S.L.R.C  \\\n",
       "0  6.913030e+11  2.655774e+09             194        Developer     0.98   \n",
       "1  9.214326e+11  7.123846e+08             234            Sales     0.67   \n",
       "2  4.718839e+10  8.445533e+08             267  Program Manager     0.81   \n",
       "3  9.943741e+11  6.511106e+09             199        Marketing     0.69   \n",
       "4  3.509007e+11  3.487001e+09             221    QA Automation     0.57   \n",
       "\n",
       "   S.L.R.I  A.T.T  L.M.I  L.M.C  S.R  ...  L.A.I  Q.A     P.E.I     P.E.C  \\\n",
       "0     0.02     53     88     93   32  ...     15    6   Neutral   Neutral   \n",
       "1     0.33     51     53     44   36  ...     15    4   Neutral  Negative   \n",
       "2     0.19     60     77     75   54  ...      7    3  Positive  Positive   \n",
       "3     0.31     93     42    103   49  ...     10    7  Positive  Negative   \n",
       "4     0.43     44     44    119   66  ...      7    3  Negative  Positive   \n",
       "\n",
       "   COMPLIANCE Ratio  Interview duration  Interviewer Intro  Candidate into  \\\n",
       "0                98                  37                 No             Yes   \n",
       "1                54                  33                 No              No   \n",
       "2                31                  58                 No             Yes   \n",
       "3                24                  35                 No             Yes   \n",
       "4                73                  60                Yes             Yes   \n",
       "\n",
       "   Opp to ask    Status  \n",
       "0         Yes  Consider  \n",
       "1         Yes  Consider  \n",
       "2          No  Consider  \n",
       "3          No  Consider  \n",
       "4          No  Consider  \n",
       "\n",
       "[5 rows x 27 columns]"
      ]
     },
     "execution_count": 3,
     "metadata": {},
     "output_type": "execute_result"
    }
   ],
   "source": [
    "iiptr=pd.read_csv('train_IA_-_train.csv')\n",
    "iiptr.head()"
   ]
  },
  {
   "cell_type": "code",
   "execution_count": 4,
   "id": "1cff3bcf",
   "metadata": {},
   "outputs": [
    {
     "data": {
      "text/html": [
       "<div>\n",
       "<style scoped>\n",
       "    .dataframe tbody tr th:only-of-type {\n",
       "        vertical-align: middle;\n",
       "    }\n",
       "\n",
       "    .dataframe tbody tr th {\n",
       "        vertical-align: top;\n",
       "    }\n",
       "\n",
       "    .dataframe thead th {\n",
       "        text-align: right;\n",
       "    }\n",
       "</style>\n",
       "<table border=\"1\" class=\"dataframe\">\n",
       "  <thead>\n",
       "    <tr style=\"text-align: right;\">\n",
       "      <th></th>\n",
       "      <th>Interview Id</th>\n",
       "      <th>Candidate Id</th>\n",
       "      <th>Interviewer Id</th>\n",
       "      <th>Profile</th>\n",
       "      <th>S.L.R.C</th>\n",
       "      <th>S.L.R.I</th>\n",
       "      <th>A.T.T</th>\n",
       "      <th>L.M.I</th>\n",
       "      <th>L.M.C</th>\n",
       "      <th>S.R</th>\n",
       "      <th>...</th>\n",
       "      <th>L.A.C</th>\n",
       "      <th>L.A.I</th>\n",
       "      <th>Q.A</th>\n",
       "      <th>P.E.I</th>\n",
       "      <th>P.E.C</th>\n",
       "      <th>COMPLIANCE Ratio</th>\n",
       "      <th>Interview duration</th>\n",
       "      <th>Interviewer Intro</th>\n",
       "      <th>Candidate into</th>\n",
       "      <th>Opp to ask</th>\n",
       "    </tr>\n",
       "  </thead>\n",
       "  <tbody>\n",
       "    <tr>\n",
       "      <th>0</th>\n",
       "      <td>702127796635</td>\n",
       "      <td>2.381365e+09</td>\n",
       "      <td>229</td>\n",
       "      <td>Product Manager</td>\n",
       "      <td>0.52</td>\n",
       "      <td>0.48</td>\n",
       "      <td>103</td>\n",
       "      <td>53</td>\n",
       "      <td>77</td>\n",
       "      <td>30</td>\n",
       "      <td>...</td>\n",
       "      <td>5</td>\n",
       "      <td>19.0</td>\n",
       "      <td>4.0</td>\n",
       "      <td>Positive</td>\n",
       "      <td>Negative</td>\n",
       "      <td>24.0</td>\n",
       "      <td>49</td>\n",
       "      <td>Yes</td>\n",
       "      <td>Yes</td>\n",
       "      <td>Yes</td>\n",
       "    </tr>\n",
       "    <tr>\n",
       "      <th>1</th>\n",
       "      <td>613490569071</td>\n",
       "      <td>8.428514e+08</td>\n",
       "      <td>194</td>\n",
       "      <td>Product Manager</td>\n",
       "      <td>0.87</td>\n",
       "      <td>0.13</td>\n",
       "      <td>54</td>\n",
       "      <td>57</td>\n",
       "      <td>57</td>\n",
       "      <td>68</td>\n",
       "      <td>...</td>\n",
       "      <td>1</td>\n",
       "      <td>9.0</td>\n",
       "      <td>7.0</td>\n",
       "      <td>Positive</td>\n",
       "      <td>Neutral</td>\n",
       "      <td>99.0</td>\n",
       "      <td>24</td>\n",
       "      <td>No</td>\n",
       "      <td>Yes</td>\n",
       "      <td>Yes</td>\n",
       "    </tr>\n",
       "    <tr>\n",
       "      <th>2</th>\n",
       "      <td>759998772623</td>\n",
       "      <td>7.681665e+09</td>\n",
       "      <td>266</td>\n",
       "      <td>QA Automation</td>\n",
       "      <td>0.60</td>\n",
       "      <td>0.40</td>\n",
       "      <td>50</td>\n",
       "      <td>117</td>\n",
       "      <td>93</td>\n",
       "      <td>36</td>\n",
       "      <td>...</td>\n",
       "      <td>7</td>\n",
       "      <td>15.0</td>\n",
       "      <td>3.0</td>\n",
       "      <td>Negative</td>\n",
       "      <td>Positive</td>\n",
       "      <td>16.0</td>\n",
       "      <td>16</td>\n",
       "      <td>Yes</td>\n",
       "      <td>No</td>\n",
       "      <td>Yes</td>\n",
       "    </tr>\n",
       "    <tr>\n",
       "      <th>3</th>\n",
       "      <td>391760082113</td>\n",
       "      <td>6.627808e+09</td>\n",
       "      <td>256</td>\n",
       "      <td>HR</td>\n",
       "      <td>0.52</td>\n",
       "      <td>0.48</td>\n",
       "      <td>102</td>\n",
       "      <td>114</td>\n",
       "      <td>66</td>\n",
       "      <td>31</td>\n",
       "      <td>...</td>\n",
       "      <td>10</td>\n",
       "      <td>4.0</td>\n",
       "      <td>6.0</td>\n",
       "      <td>Negative</td>\n",
       "      <td>Neutral</td>\n",
       "      <td>66.0</td>\n",
       "      <td>40</td>\n",
       "      <td>No</td>\n",
       "      <td>No</td>\n",
       "      <td>Yes</td>\n",
       "    </tr>\n",
       "    <tr>\n",
       "      <th>4</th>\n",
       "      <td>941599210196</td>\n",
       "      <td>1.148634e+09</td>\n",
       "      <td>267</td>\n",
       "      <td>HR</td>\n",
       "      <td>0.59</td>\n",
       "      <td>0.41</td>\n",
       "      <td>96</td>\n",
       "      <td>73</td>\n",
       "      <td>115</td>\n",
       "      <td>23</td>\n",
       "      <td>...</td>\n",
       "      <td>10</td>\n",
       "      <td>4.0</td>\n",
       "      <td>6.0</td>\n",
       "      <td>Positive</td>\n",
       "      <td>Positive</td>\n",
       "      <td>47.0</td>\n",
       "      <td>38</td>\n",
       "      <td>No</td>\n",
       "      <td>Yes</td>\n",
       "      <td>Yes</td>\n",
       "    </tr>\n",
       "  </tbody>\n",
       "</table>\n",
       "<p>5 rows × 26 columns</p>\n",
       "</div>"
      ],
      "text/plain": [
       "   Interview Id  Candidate Id  Interviewer Id          Profile  S.L.R.C  \\\n",
       "0  702127796635  2.381365e+09             229  Product Manager     0.52   \n",
       "1  613490569071  8.428514e+08             194  Product Manager     0.87   \n",
       "2  759998772623  7.681665e+09             266    QA Automation     0.60   \n",
       "3  391760082113  6.627808e+09             256               HR     0.52   \n",
       "4  941599210196  1.148634e+09             267               HR     0.59   \n",
       "\n",
       "   S.L.R.I  A.T.T  L.M.I  L.M.C  S.R  ...  L.A.C  L.A.I  Q.A     P.E.I  \\\n",
       "0     0.48    103     53     77   30  ...      5   19.0  4.0  Positive   \n",
       "1     0.13     54     57     57   68  ...      1    9.0  7.0  Positive   \n",
       "2     0.40     50    117     93   36  ...      7   15.0  3.0  Negative   \n",
       "3     0.48    102    114     66   31  ...     10    4.0  6.0  Negative   \n",
       "4     0.41     96     73    115   23  ...     10    4.0  6.0  Positive   \n",
       "\n",
       "      P.E.C  COMPLIANCE Ratio  Interview duration  Interviewer Intro  \\\n",
       "0  Negative              24.0                  49                Yes   \n",
       "1   Neutral              99.0                  24                 No   \n",
       "2  Positive              16.0                  16                Yes   \n",
       "3   Neutral              66.0                  40                 No   \n",
       "4  Positive              47.0                  38                 No   \n",
       "\n",
       "   Candidate into Opp to ask  \n",
       "0             Yes        Yes  \n",
       "1             Yes        Yes  \n",
       "2              No        Yes  \n",
       "3              No        Yes  \n",
       "4             Yes        Yes  \n",
       "\n",
       "[5 rows x 26 columns]"
      ]
     },
     "execution_count": 4,
     "metadata": {},
     "output_type": "execute_result"
    }
   ],
   "source": [
    "iiptt=pd.read_csv('test_IA_-_test.csv')\n",
    "iiptt.head()"
   ]
  },
  {
   "cell_type": "code",
   "execution_count": 5,
   "id": "2bf9e5c0",
   "metadata": {},
   "outputs": [
    {
     "name": "stdout",
     "output_type": "stream",
     "text": [
      "<class 'pandas.core.frame.DataFrame'>\n",
      "RangeIndex: 5800 entries, 0 to 5799\n",
      "Data columns (total 27 columns):\n",
      " #   Column              Non-Null Count  Dtype  \n",
      "---  ------              --------------  -----  \n",
      " 0   Interview Id        5800 non-null   float64\n",
      " 1   Candidate Id        5800 non-null   float64\n",
      " 2   Interviewer Id      5800 non-null   int64  \n",
      " 3   Profile             5800 non-null   object \n",
      " 4   S.L.R.C             5800 non-null   float64\n",
      " 5   S.L.R.I             5800 non-null   float64\n",
      " 6   A.T.T               5800 non-null   int64  \n",
      " 7   L.M.I               5800 non-null   int64  \n",
      " 8   L.M.C               5800 non-null   int64  \n",
      " 9   S.R                 5800 non-null   int64  \n",
      " 10  L.J.T.C             5800 non-null   int64  \n",
      " 11  L.J.T.I             5800 non-null   int64  \n",
      " 12  N.I.C               5800 non-null   int64  \n",
      " 13  N.I.I               5800 non-null   int64  \n",
      " 14  S.P.I               5800 non-null   int64  \n",
      " 15  S.P.C               5800 non-null   int64  \n",
      " 16  L.A.C               5800 non-null   int64  \n",
      " 17  L.A.I               5800 non-null   int64  \n",
      " 18  Q.A                 5800 non-null   int64  \n",
      " 19  P.E.I               5799 non-null   object \n",
      " 20  P.E.C               5797 non-null   object \n",
      " 21  COMPLIANCE Ratio    5800 non-null   int64  \n",
      " 22  Interview duration  5800 non-null   int64  \n",
      " 23  Interviewer Intro   5799 non-null   object \n",
      " 24  Candidate into      5800 non-null   object \n",
      " 25  Opp to ask          5799 non-null   object \n",
      " 26  Status              5796 non-null   object \n",
      "dtypes: float64(4), int64(16), object(7)\n",
      "memory usage: 1.2+ MB\n"
     ]
    }
   ],
   "source": [
    "iiptr.info()"
   ]
  },
  {
   "cell_type": "code",
   "execution_count": 6,
   "id": "c04194ac",
   "metadata": {},
   "outputs": [
    {
     "name": "stdout",
     "output_type": "stream",
     "text": [
      "<class 'pandas.core.frame.DataFrame'>\n",
      "RangeIndex: 1200 entries, 0 to 1199\n",
      "Data columns (total 26 columns):\n",
      " #   Column              Non-Null Count  Dtype  \n",
      "---  ------              --------------  -----  \n",
      " 0   Interview Id        1200 non-null   int64  \n",
      " 1   Candidate Id        1200 non-null   float64\n",
      " 2   Interviewer Id      1200 non-null   int64  \n",
      " 3   Profile             1200 non-null   object \n",
      " 4   S.L.R.C             1200 non-null   float64\n",
      " 5   S.L.R.I             1199 non-null   float64\n",
      " 6   A.T.T               1200 non-null   int64  \n",
      " 7   L.M.I               1200 non-null   int64  \n",
      " 8   L.M.C               1200 non-null   int64  \n",
      " 9   S.R                 1200 non-null   int64  \n",
      " 10  L.J.T.C             1199 non-null   float64\n",
      " 11  L.J.T.I             1200 non-null   int64  \n",
      " 12  N.I.C               1200 non-null   int64  \n",
      " 13  N.I.I               1200 non-null   int64  \n",
      " 14  S.P.I               1198 non-null   float64\n",
      " 15  S.P.C               1200 non-null   int64  \n",
      " 16  L.A.C               1200 non-null   int64  \n",
      " 17  L.A.I               1199 non-null   float64\n",
      " 18  Q.A                 1199 non-null   float64\n",
      " 19  P.E.I               1198 non-null   object \n",
      " 20  P.E.C               1198 non-null   object \n",
      " 21  COMPLIANCE Ratio    1199 non-null   float64\n",
      " 22  Interview duration  1200 non-null   int64  \n",
      " 23  Interviewer Intro   1198 non-null   object \n",
      " 24  Candidate into      1200 non-null   object \n",
      " 25  Opp to ask          1200 non-null   object \n",
      "dtypes: float64(8), int64(12), object(6)\n",
      "memory usage: 243.9+ KB\n"
     ]
    }
   ],
   "source": [
    "iiptt.info()"
   ]
  },
  {
   "cell_type": "code",
   "execution_count": 7,
   "id": "6408a594",
   "metadata": {},
   "outputs": [],
   "source": [
    "iiptt['Status']='test'"
   ]
  },
  {
   "cell_type": "code",
   "execution_count": 8,
   "id": "c351698c",
   "metadata": {},
   "outputs": [
    {
     "name": "stdout",
     "output_type": "stream",
     "text": [
      "<class 'pandas.core.frame.DataFrame'>\n",
      "RangeIndex: 1200 entries, 0 to 1199\n",
      "Data columns (total 27 columns):\n",
      " #   Column              Non-Null Count  Dtype  \n",
      "---  ------              --------------  -----  \n",
      " 0   Interview Id        1200 non-null   int64  \n",
      " 1   Candidate Id        1200 non-null   float64\n",
      " 2   Interviewer Id      1200 non-null   int64  \n",
      " 3   Profile             1200 non-null   object \n",
      " 4   S.L.R.C             1200 non-null   float64\n",
      " 5   S.L.R.I             1199 non-null   float64\n",
      " 6   A.T.T               1200 non-null   int64  \n",
      " 7   L.M.I               1200 non-null   int64  \n",
      " 8   L.M.C               1200 non-null   int64  \n",
      " 9   S.R                 1200 non-null   int64  \n",
      " 10  L.J.T.C             1199 non-null   float64\n",
      " 11  L.J.T.I             1200 non-null   int64  \n",
      " 12  N.I.C               1200 non-null   int64  \n",
      " 13  N.I.I               1200 non-null   int64  \n",
      " 14  S.P.I               1198 non-null   float64\n",
      " 15  S.P.C               1200 non-null   int64  \n",
      " 16  L.A.C               1200 non-null   int64  \n",
      " 17  L.A.I               1199 non-null   float64\n",
      " 18  Q.A                 1199 non-null   float64\n",
      " 19  P.E.I               1198 non-null   object \n",
      " 20  P.E.C               1198 non-null   object \n",
      " 21  COMPLIANCE Ratio    1199 non-null   float64\n",
      " 22  Interview duration  1200 non-null   int64  \n",
      " 23  Interviewer Intro   1198 non-null   object \n",
      " 24  Candidate into      1200 non-null   object \n",
      " 25  Opp to ask          1200 non-null   object \n",
      " 26  Status              1200 non-null   object \n",
      "dtypes: float64(8), int64(12), object(7)\n",
      "memory usage: 253.3+ KB\n"
     ]
    }
   ],
   "source": [
    "iiptt.info()"
   ]
  },
  {
   "cell_type": "code",
   "execution_count": 9,
   "id": "266ef1ed",
   "metadata": {},
   "outputs": [],
   "source": [
    "combinedf=pd.concat([iiptr,iiptt],axis=0) # row wise concatination"
   ]
  },
  {
   "cell_type": "code",
   "execution_count": 10,
   "id": "be3a98ae",
   "metadata": {},
   "outputs": [
    {
     "name": "stdout",
     "output_type": "stream",
     "text": [
      "<class 'pandas.core.frame.DataFrame'>\n",
      "Index: 7000 entries, 0 to 1199\n",
      "Data columns (total 27 columns):\n",
      " #   Column              Non-Null Count  Dtype  \n",
      "---  ------              --------------  -----  \n",
      " 0   Interview Id        7000 non-null   float64\n",
      " 1   Candidate Id        7000 non-null   float64\n",
      " 2   Interviewer Id      7000 non-null   int64  \n",
      " 3   Profile             7000 non-null   object \n",
      " 4   S.L.R.C             7000 non-null   float64\n",
      " 5   S.L.R.I             6999 non-null   float64\n",
      " 6   A.T.T               7000 non-null   int64  \n",
      " 7   L.M.I               7000 non-null   int64  \n",
      " 8   L.M.C               7000 non-null   int64  \n",
      " 9   S.R                 7000 non-null   int64  \n",
      " 10  L.J.T.C             6999 non-null   float64\n",
      " 11  L.J.T.I             7000 non-null   int64  \n",
      " 12  N.I.C               7000 non-null   int64  \n",
      " 13  N.I.I               7000 non-null   int64  \n",
      " 14  S.P.I               6998 non-null   float64\n",
      " 15  S.P.C               7000 non-null   int64  \n",
      " 16  L.A.C               7000 non-null   int64  \n",
      " 17  L.A.I               6999 non-null   float64\n",
      " 18  Q.A                 6999 non-null   float64\n",
      " 19  P.E.I               6997 non-null   object \n",
      " 20  P.E.C               6995 non-null   object \n",
      " 21  COMPLIANCE Ratio    6999 non-null   float64\n",
      " 22  Interview duration  7000 non-null   int64  \n",
      " 23  Interviewer Intro   6997 non-null   object \n",
      " 24  Candidate into      7000 non-null   object \n",
      " 25  Opp to ask          6999 non-null   object \n",
      " 26  Status              6996 non-null   object \n",
      "dtypes: float64(9), int64(11), object(7)\n",
      "memory usage: 1.5+ MB\n"
     ]
    }
   ],
   "source": [
    "combinedf.info()"
   ]
  },
  {
   "cell_type": "code",
   "execution_count": 11,
   "id": "f41f1c4d",
   "metadata": {},
   "outputs": [],
   "source": [
    "# Removing un wanted columns\n",
    "combinedf=combinedf.drop(['Interview Id','Candidate Id','Interviewer Id'],axis=1)"
   ]
  },
  {
   "cell_type": "code",
   "execution_count": 12,
   "id": "1053354e",
   "metadata": {},
   "outputs": [
    {
     "data": {
      "text/plain": [
       "P.E.C                 5\n",
       "Status                4\n",
       "Interviewer Intro     3\n",
       "P.E.I                 3\n",
       "S.P.I                 2\n",
       "L.A.I                 1\n",
       "S.L.R.I               1\n",
       "Opp to ask            1\n",
       "L.J.T.C               1\n",
       "COMPLIANCE Ratio      1\n",
       "Q.A                   1\n",
       "Candidate into        0\n",
       "Interview duration    0\n",
       "Profile               0\n",
       "L.A.C                 0\n",
       "S.L.R.C               0\n",
       "N.I.I                 0\n",
       "N.I.C                 0\n",
       "L.J.T.I               0\n",
       "S.R                   0\n",
       "L.M.C                 0\n",
       "L.M.I                 0\n",
       "A.T.T                 0\n",
       "S.P.C                 0\n",
       "dtype: int64"
      ]
     },
     "execution_count": 12,
     "metadata": {},
     "output_type": "execute_result"
    }
   ],
   "source": [
    "combinedf.isnull().sum().sort_values(ascending=False)"
   ]
  },
  {
   "cell_type": "code",
   "execution_count": 13,
   "id": "ab7c3876",
   "metadata": {},
   "outputs": [
    {
     "data": {
      "text/plain": [
       "P.E.C\n",
       "Neutral     2376\n",
       "Positive    2353\n",
       "Negative    2266\n",
       "NaN            5\n",
       "Name: count, dtype: int64"
      ]
     },
     "execution_count": 13,
     "metadata": {},
     "output_type": "execute_result"
    }
   ],
   "source": [
    "combinedf['P.E.C'].value_counts(dropna=False)"
   ]
  },
  {
   "cell_type": "code",
   "execution_count": 14,
   "id": "39af7caa",
   "metadata": {},
   "outputs": [],
   "source": [
    "combinedf['P.E.C']=combinedf['P.E.C'].fillna('Neutral')"
   ]
  },
  {
   "cell_type": "code",
   "execution_count": 15,
   "id": "c2d7ca3c",
   "metadata": {},
   "outputs": [
    {
     "data": {
      "text/plain": [
       "Status\n",
       "Consider        2311\n",
       "May Consider    1890\n",
       "Not Consider    1595\n",
       "test            1200\n",
       "NaN                4\n",
       "Name: count, dtype: int64"
      ]
     },
     "execution_count": 15,
     "metadata": {},
     "output_type": "execute_result"
    }
   ],
   "source": [
    "combinedf.Status.value_counts(dropna=False)"
   ]
  },
  {
   "cell_type": "code",
   "execution_count": 16,
   "id": "2a79e11b",
   "metadata": {},
   "outputs": [],
   "source": [
    "combinedf.Status=combinedf.Status.fillna('Consider')"
   ]
  },
  {
   "cell_type": "code",
   "execution_count": 17,
   "id": "232ba4bb",
   "metadata": {},
   "outputs": [
    {
     "data": {
      "text/plain": [
       "Interviewer Intro\n",
       "No     3511\n",
       "Yes    3486\n",
       "NaN       3\n",
       "Name: count, dtype: int64"
      ]
     },
     "execution_count": 17,
     "metadata": {},
     "output_type": "execute_result"
    }
   ],
   "source": [
    "combinedf['Interviewer Intro'].value_counts(dropna=False)"
   ]
  },
  {
   "cell_type": "code",
   "execution_count": 18,
   "id": "1f748f04",
   "metadata": {},
   "outputs": [],
   "source": [
    "combinedf['Interviewer Intro']=combinedf['Interviewer Intro'].fillna('No')"
   ]
  },
  {
   "cell_type": "code",
   "execution_count": 19,
   "id": "8f640258",
   "metadata": {},
   "outputs": [
    {
     "data": {
      "text/plain": [
       "P.E.I\n",
       "Negative    2413\n",
       "Positive    2301\n",
       "Neutral     2283\n",
       "NaN            3\n",
       "Name: count, dtype: int64"
      ]
     },
     "execution_count": 19,
     "metadata": {},
     "output_type": "execute_result"
    }
   ],
   "source": [
    "combinedf['P.E.I'].value_counts(dropna=False)"
   ]
  },
  {
   "cell_type": "code",
   "execution_count": 20,
   "id": "50be886f",
   "metadata": {},
   "outputs": [],
   "source": [
    "combinedf['P.E.I']=combinedf['P.E.I'].fillna('Negative')"
   ]
  },
  {
   "cell_type": "code",
   "execution_count": 21,
   "id": "24808810",
   "metadata": {},
   "outputs": [
    {
     "data": {
      "text/plain": [
       "S.P.I\n",
       "46.0    120\n",
       "87.0    116\n",
       "72.0    115\n",
       "52.0    114\n",
       "56.0    111\n",
       "       ... \n",
       "84.0     84\n",
       "36.0     83\n",
       "50.0     81\n",
       "80.0     75\n",
       "NaN       2\n",
       "Name: count, Length: 72, dtype: int64"
      ]
     },
     "execution_count": 21,
     "metadata": {},
     "output_type": "execute_result"
    }
   ],
   "source": [
    "combinedf['S.P.I'].value_counts(dropna=False)"
   ]
  },
  {
   "cell_type": "code",
   "execution_count": 22,
   "id": "716d3c46",
   "metadata": {},
   "outputs": [],
   "source": [
    "combinedf['S.P.I']=combinedf['S.P.I'].fillna(46.0)"
   ]
  },
  {
   "cell_type": "code",
   "execution_count": 23,
   "id": "7385e374",
   "metadata": {},
   "outputs": [
    {
     "data": {
      "text/plain": [
       "Opp to ask\n",
       "Yes    3555\n",
       "No     3444\n",
       "NaN       1\n",
       "Name: count, dtype: int64"
      ]
     },
     "execution_count": 23,
     "metadata": {},
     "output_type": "execute_result"
    }
   ],
   "source": [
    "combinedf['Opp to ask'].value_counts(dropna=False)"
   ]
  },
  {
   "cell_type": "code",
   "execution_count": 24,
   "id": "56a89257",
   "metadata": {},
   "outputs": [],
   "source": [
    "combinedf['Opp to ask']=combinedf['Opp to ask'].fillna('Yes')"
   ]
  },
  {
   "cell_type": "code",
   "execution_count": 25,
   "id": "38a3a3e4",
   "metadata": {},
   "outputs": [
    {
     "data": {
      "text/plain": [
       "S.L.R.I\n",
       "0.19    163\n",
       "0.46    162\n",
       "0.05    159\n",
       "0.33    156\n",
       "0.16    155\n",
       "0.14    155\n",
       "0.17    154\n",
       "0.49    153\n",
       "0.08    150\n",
       "0.35    149\n",
       "0.24    149\n",
       "0.42    148\n",
       "0.02    148\n",
       "0.09    147\n",
       "0.36    146\n",
       "0.21    146\n",
       "0.20    146\n",
       "0.40    145\n",
       "0.06    144\n",
       "0.07    144\n",
       "0.38    143\n",
       "0.34    142\n",
       "0.23    142\n",
       "0.11    141\n",
       "0.31    141\n",
       "0.10    140\n",
       "0.25    139\n",
       "0.44    135\n",
       "0.47    135\n",
       "0.15    135\n",
       "0.43    135\n",
       "0.03    135\n",
       "0.28    134\n",
       "0.26    134\n",
       "0.22    134\n",
       "0.29    134\n",
       "0.27    133\n",
       "0.04    133\n",
       "0.32    132\n",
       "0.01    132\n",
       "0.50    130\n",
       "0.48    129\n",
       "0.37    129\n",
       "0.45    129\n",
       "0.13    126\n",
       "0.41    126\n",
       "0.18    123\n",
       "0.39    123\n",
       "0.12    118\n",
       "0.30    118\n",
       "NaN       1\n",
       "Name: count, dtype: int64"
      ]
     },
     "execution_count": 25,
     "metadata": {},
     "output_type": "execute_result"
    }
   ],
   "source": [
    "combinedf['S.L.R.I'].value_counts(dropna=False)"
   ]
  },
  {
   "cell_type": "code",
   "execution_count": 26,
   "id": "cd0759bb",
   "metadata": {},
   "outputs": [],
   "source": [
    "combinedf['S.L.R.I']=combinedf['S.L.R.I'].fillna(0.19)"
   ]
  },
  {
   "cell_type": "code",
   "execution_count": 27,
   "id": "cec2e437",
   "metadata": {},
   "outputs": [
    {
     "data": {
      "text/plain": [
       "COMPLIANCE Ratio\n",
       "64.0    92\n",
       "87.0    92\n",
       "11.0    90\n",
       "47.0    89\n",
       "17.0    88\n",
       "        ..\n",
       "26.0    56\n",
       "1.0     56\n",
       "97.0    53\n",
       "29.0    51\n",
       "NaN      1\n",
       "Name: count, Length: 102, dtype: int64"
      ]
     },
     "execution_count": 27,
     "metadata": {},
     "output_type": "execute_result"
    }
   ],
   "source": [
    "combinedf['COMPLIANCE Ratio'].value_counts(dropna=False)"
   ]
  },
  {
   "cell_type": "code",
   "execution_count": 28,
   "id": "cdf4db82",
   "metadata": {},
   "outputs": [],
   "source": [
    "combinedf['COMPLIANCE Ratio']=combinedf['COMPLIANCE Ratio'].fillna(64.0)"
   ]
  },
  {
   "cell_type": "code",
   "execution_count": 29,
   "id": "77d15310",
   "metadata": {},
   "outputs": [
    {
     "data": {
      "text/plain": [
       "L.J.T.C\n",
       "193.0    39\n",
       "277.0    38\n",
       "295.0    37\n",
       "104.0    35\n",
       "73.0     34\n",
       "         ..\n",
       "191.0    13\n",
       "175.0    13\n",
       "288.0    12\n",
       "22.0     10\n",
       "NaN       1\n",
       "Name: count, Length: 302, dtype: int64"
      ]
     },
     "execution_count": 29,
     "metadata": {},
     "output_type": "execute_result"
    }
   ],
   "source": [
    "combinedf['L.J.T.C'].value_counts(dropna=False)"
   ]
  },
  {
   "cell_type": "code",
   "execution_count": 30,
   "id": "d5a38b5d",
   "metadata": {},
   "outputs": [],
   "source": [
    "combinedf['L.J.T.C']=combinedf['L.J.T.C'].fillna(193.0)"
   ]
  },
  {
   "cell_type": "code",
   "execution_count": 31,
   "id": "81e1a191",
   "metadata": {},
   "outputs": [
    {
     "data": {
      "text/plain": [
       "Q.A\n",
       "5.0    1203\n",
       "3.0    1187\n",
       "6.0    1179\n",
       "4.0    1176\n",
       "2.0    1150\n",
       "7.0    1104\n",
       "NaN       1\n",
       "Name: count, dtype: int64"
      ]
     },
     "execution_count": 31,
     "metadata": {},
     "output_type": "execute_result"
    }
   ],
   "source": [
    "combinedf['Q.A'].value_counts(dropna=False)"
   ]
  },
  {
   "cell_type": "code",
   "execution_count": 32,
   "id": "f6072d4b",
   "metadata": {},
   "outputs": [],
   "source": [
    "combinedf['Q.A']=combinedf['Q.A'].fillna(5.0)"
   ]
  },
  {
   "cell_type": "code",
   "execution_count": 33,
   "id": "c088b9d0",
   "metadata": {},
   "outputs": [
    {
     "data": {
      "text/plain": [
       "L.A.I\n",
       "15.0    376\n",
       "8.0     375\n",
       "13.0    374\n",
       "12.0    367\n",
       "18.0    366\n",
       "4.0     365\n",
       "6.0     363\n",
       "10.0    354\n",
       "5.0     354\n",
       "3.0     350\n",
       "19.0    348\n",
       "16.0    341\n",
       "14.0    340\n",
       "20.0    339\n",
       "17.0    339\n",
       "2.0     338\n",
       "9.0     336\n",
       "7.0     333\n",
       "11.0    324\n",
       "1.0     317\n",
       "NaN       1\n",
       "Name: count, dtype: int64"
      ]
     },
     "execution_count": 33,
     "metadata": {},
     "output_type": "execute_result"
    }
   ],
   "source": [
    "combinedf['L.A.I'].value_counts(dropna=False)"
   ]
  },
  {
   "cell_type": "code",
   "execution_count": 34,
   "id": "fde2b5e8",
   "metadata": {},
   "outputs": [],
   "source": [
    "combinedf['L.A.I']=combinedf['L.A.I'].fillna(15.0)"
   ]
  },
  {
   "cell_type": "code",
   "execution_count": 35,
   "id": "757245be",
   "metadata": {},
   "outputs": [
    {
     "data": {
      "text/plain": [
       "Profile               0\n",
       "S.L.R.C               0\n",
       "Opp to ask            0\n",
       "Candidate into        0\n",
       "Interviewer Intro     0\n",
       "Interview duration    0\n",
       "COMPLIANCE Ratio      0\n",
       "P.E.C                 0\n",
       "P.E.I                 0\n",
       "Q.A                   0\n",
       "L.A.I                 0\n",
       "L.A.C                 0\n",
       "S.P.C                 0\n",
       "S.P.I                 0\n",
       "N.I.I                 0\n",
       "N.I.C                 0\n",
       "L.J.T.I               0\n",
       "L.J.T.C               0\n",
       "S.R                   0\n",
       "L.M.C                 0\n",
       "L.M.I                 0\n",
       "A.T.T                 0\n",
       "S.L.R.I               0\n",
       "Status                0\n",
       "dtype: int64"
      ]
     },
     "execution_count": 35,
     "metadata": {},
     "output_type": "execute_result"
    }
   ],
   "source": [
    "combinedf.isnull().sum().sort_values(ascending=False)"
   ]
  },
  {
   "cell_type": "code",
   "execution_count": 36,
   "id": "1d5f228f",
   "metadata": {},
   "outputs": [
    {
     "name": "stdout",
     "output_type": "stream",
     "text": [
      "<class 'pandas.core.frame.DataFrame'>\n",
      "Index: 7000 entries, 0 to 1199\n",
      "Data columns (total 24 columns):\n",
      " #   Column              Non-Null Count  Dtype  \n",
      "---  ------              --------------  -----  \n",
      " 0   Profile             7000 non-null   object \n",
      " 1   S.L.R.C             7000 non-null   float64\n",
      " 2   S.L.R.I             7000 non-null   float64\n",
      " 3   A.T.T               7000 non-null   int64  \n",
      " 4   L.M.I               7000 non-null   int64  \n",
      " 5   L.M.C               7000 non-null   int64  \n",
      " 6   S.R                 7000 non-null   int64  \n",
      " 7   L.J.T.C             7000 non-null   float64\n",
      " 8   L.J.T.I             7000 non-null   int64  \n",
      " 9   N.I.C               7000 non-null   int64  \n",
      " 10  N.I.I               7000 non-null   int64  \n",
      " 11  S.P.I               7000 non-null   float64\n",
      " 12  S.P.C               7000 non-null   int64  \n",
      " 13  L.A.C               7000 non-null   int64  \n",
      " 14  L.A.I               7000 non-null   float64\n",
      " 15  Q.A                 7000 non-null   float64\n",
      " 16  P.E.I               7000 non-null   object \n",
      " 17  P.E.C               7000 non-null   object \n",
      " 18  COMPLIANCE Ratio    7000 non-null   float64\n",
      " 19  Interview duration  7000 non-null   int64  \n",
      " 20  Interviewer Intro   7000 non-null   object \n",
      " 21  Candidate into      7000 non-null   object \n",
      " 22  Opp to ask          7000 non-null   object \n",
      " 23  Status              7000 non-null   object \n",
      "dtypes: float64(7), int64(10), object(7)\n",
      "memory usage: 1.3+ MB\n"
     ]
    }
   ],
   "source": [
    "combinedf.info()"
   ]
  },
  {
   "cell_type": "code",
   "execution_count": 37,
   "id": "fe4d795a",
   "metadata": {},
   "outputs": [],
   "source": [
    "#sns.pairplot(combinedf)"
   ]
  },
  {
   "cell_type": "code",
   "execution_count": 38,
   "id": "f856715d",
   "metadata": {},
   "outputs": [],
   "source": [
    "# Splitting into numcols and objcols\n",
    "numcols=combinedf.select_dtypes(include=np.number)\n",
    "objcols=combinedf.select_dtypes(include='object')"
   ]
  },
  {
   "cell_type": "code",
   "execution_count": 39,
   "id": "02fb2871",
   "metadata": {},
   "outputs": [
    {
     "data": {
      "text/html": [
       "<div>\n",
       "<style scoped>\n",
       "    .dataframe tbody tr th:only-of-type {\n",
       "        vertical-align: middle;\n",
       "    }\n",
       "\n",
       "    .dataframe tbody tr th {\n",
       "        vertical-align: top;\n",
       "    }\n",
       "\n",
       "    .dataframe thead th {\n",
       "        text-align: right;\n",
       "    }\n",
       "</style>\n",
       "<table border=\"1\" class=\"dataframe\">\n",
       "  <thead>\n",
       "    <tr style=\"text-align: right;\">\n",
       "      <th></th>\n",
       "      <th>S.L.R.C</th>\n",
       "      <th>S.L.R.I</th>\n",
       "      <th>A.T.T</th>\n",
       "      <th>L.M.I</th>\n",
       "      <th>L.M.C</th>\n",
       "      <th>S.R</th>\n",
       "      <th>L.J.T.C</th>\n",
       "      <th>L.J.T.I</th>\n",
       "      <th>N.I.C</th>\n",
       "      <th>N.I.I</th>\n",
       "      <th>S.P.I</th>\n",
       "      <th>S.P.C</th>\n",
       "      <th>L.A.C</th>\n",
       "      <th>L.A.I</th>\n",
       "      <th>Q.A</th>\n",
       "      <th>COMPLIANCE Ratio</th>\n",
       "      <th>Interview duration</th>\n",
       "    </tr>\n",
       "  </thead>\n",
       "  <tbody>\n",
       "    <tr>\n",
       "      <th>0</th>\n",
       "      <td>0.98</td>\n",
       "      <td>0.02</td>\n",
       "      <td>53</td>\n",
       "      <td>88</td>\n",
       "      <td>93</td>\n",
       "      <td>32</td>\n",
       "      <td>88.0</td>\n",
       "      <td>106</td>\n",
       "      <td>41</td>\n",
       "      <td>66</td>\n",
       "      <td>42.0</td>\n",
       "      <td>47</td>\n",
       "      <td>13</td>\n",
       "      <td>15.0</td>\n",
       "      <td>6.0</td>\n",
       "      <td>98.0</td>\n",
       "      <td>37</td>\n",
       "    </tr>\n",
       "    <tr>\n",
       "      <th>1</th>\n",
       "      <td>0.67</td>\n",
       "      <td>0.33</td>\n",
       "      <td>51</td>\n",
       "      <td>53</td>\n",
       "      <td>44</td>\n",
       "      <td>36</td>\n",
       "      <td>93.0</td>\n",
       "      <td>313</td>\n",
       "      <td>28</td>\n",
       "      <td>62</td>\n",
       "      <td>32.0</td>\n",
       "      <td>52</td>\n",
       "      <td>5</td>\n",
       "      <td>15.0</td>\n",
       "      <td>4.0</td>\n",
       "      <td>54.0</td>\n",
       "      <td>33</td>\n",
       "    </tr>\n",
       "    <tr>\n",
       "      <th>2</th>\n",
       "      <td>0.81</td>\n",
       "      <td>0.19</td>\n",
       "      <td>60</td>\n",
       "      <td>77</td>\n",
       "      <td>75</td>\n",
       "      <td>54</td>\n",
       "      <td>52.0</td>\n",
       "      <td>67</td>\n",
       "      <td>26</td>\n",
       "      <td>14</td>\n",
       "      <td>57.0</td>\n",
       "      <td>34</td>\n",
       "      <td>4</td>\n",
       "      <td>7.0</td>\n",
       "      <td>3.0</td>\n",
       "      <td>31.0</td>\n",
       "      <td>58</td>\n",
       "    </tr>\n",
       "    <tr>\n",
       "      <th>3</th>\n",
       "      <td>0.69</td>\n",
       "      <td>0.31</td>\n",
       "      <td>93</td>\n",
       "      <td>42</td>\n",
       "      <td>103</td>\n",
       "      <td>49</td>\n",
       "      <td>115.0</td>\n",
       "      <td>166</td>\n",
       "      <td>62</td>\n",
       "      <td>55</td>\n",
       "      <td>65.0</td>\n",
       "      <td>75</td>\n",
       "      <td>10</td>\n",
       "      <td>10.0</td>\n",
       "      <td>7.0</td>\n",
       "      <td>24.0</td>\n",
       "      <td>35</td>\n",
       "    </tr>\n",
       "    <tr>\n",
       "      <th>4</th>\n",
       "      <td>0.57</td>\n",
       "      <td>0.43</td>\n",
       "      <td>44</td>\n",
       "      <td>44</td>\n",
       "      <td>119</td>\n",
       "      <td>66</td>\n",
       "      <td>190.0</td>\n",
       "      <td>394</td>\n",
       "      <td>7</td>\n",
       "      <td>32</td>\n",
       "      <td>36.0</td>\n",
       "      <td>74</td>\n",
       "      <td>13</td>\n",
       "      <td>7.0</td>\n",
       "      <td>3.0</td>\n",
       "      <td>73.0</td>\n",
       "      <td>60</td>\n",
       "    </tr>\n",
       "  </tbody>\n",
       "</table>\n",
       "</div>"
      ],
      "text/plain": [
       "   S.L.R.C  S.L.R.I  A.T.T  L.M.I  L.M.C  S.R  L.J.T.C  L.J.T.I  N.I.C  N.I.I  \\\n",
       "0     0.98     0.02     53     88     93   32     88.0      106     41     66   \n",
       "1     0.67     0.33     51     53     44   36     93.0      313     28     62   \n",
       "2     0.81     0.19     60     77     75   54     52.0       67     26     14   \n",
       "3     0.69     0.31     93     42    103   49    115.0      166     62     55   \n",
       "4     0.57     0.43     44     44    119   66    190.0      394      7     32   \n",
       "\n",
       "   S.P.I  S.P.C  L.A.C  L.A.I  Q.A  COMPLIANCE Ratio  Interview duration  \n",
       "0   42.0     47     13   15.0  6.0              98.0                  37  \n",
       "1   32.0     52      5   15.0  4.0              54.0                  33  \n",
       "2   57.0     34      4    7.0  3.0              31.0                  58  \n",
       "3   65.0     75     10   10.0  7.0              24.0                  35  \n",
       "4   36.0     74     13    7.0  3.0              73.0                  60  "
      ]
     },
     "execution_count": 39,
     "metadata": {},
     "output_type": "execute_result"
    }
   ],
   "source": [
    "numcols.head()"
   ]
  },
  {
   "cell_type": "code",
   "execution_count": 40,
   "id": "3c7c7e3c",
   "metadata": {},
   "outputs": [
    {
     "name": "stdout",
     "output_type": "stream",
     "text": [
      "<class 'pandas.core.frame.DataFrame'>\n",
      "Index: 7000 entries, 0 to 1199\n",
      "Data columns (total 17 columns):\n",
      " #   Column              Non-Null Count  Dtype  \n",
      "---  ------              --------------  -----  \n",
      " 0   S.L.R.C             7000 non-null   float64\n",
      " 1   S.L.R.I             7000 non-null   float64\n",
      " 2   A.T.T               7000 non-null   int64  \n",
      " 3   L.M.I               7000 non-null   int64  \n",
      " 4   L.M.C               7000 non-null   int64  \n",
      " 5   S.R                 7000 non-null   int64  \n",
      " 6   L.J.T.C             7000 non-null   float64\n",
      " 7   L.J.T.I             7000 non-null   int64  \n",
      " 8   N.I.C               7000 non-null   int64  \n",
      " 9   N.I.I               7000 non-null   int64  \n",
      " 10  S.P.I               7000 non-null   float64\n",
      " 11  S.P.C               7000 non-null   int64  \n",
      " 12  L.A.C               7000 non-null   int64  \n",
      " 13  L.A.I               7000 non-null   float64\n",
      " 14  Q.A                 7000 non-null   float64\n",
      " 15  COMPLIANCE Ratio    7000 non-null   float64\n",
      " 16  Interview duration  7000 non-null   int64  \n",
      "dtypes: float64(7), int64(10)\n",
      "memory usage: 984.4 KB\n"
     ]
    }
   ],
   "source": [
    "numcols.info()"
   ]
  },
  {
   "cell_type": "code",
   "execution_count": 41,
   "id": "d92765fb",
   "metadata": {},
   "outputs": [
    {
     "data": {
      "text/html": [
       "<div>\n",
       "<style scoped>\n",
       "    .dataframe tbody tr th:only-of-type {\n",
       "        vertical-align: middle;\n",
       "    }\n",
       "\n",
       "    .dataframe tbody tr th {\n",
       "        vertical-align: top;\n",
       "    }\n",
       "\n",
       "    .dataframe thead th {\n",
       "        text-align: right;\n",
       "    }\n",
       "</style>\n",
       "<table border=\"1\" class=\"dataframe\">\n",
       "  <thead>\n",
       "    <tr style=\"text-align: right;\">\n",
       "      <th></th>\n",
       "      <th>Profile</th>\n",
       "      <th>P.E.I</th>\n",
       "      <th>P.E.C</th>\n",
       "      <th>Interviewer Intro</th>\n",
       "      <th>Candidate into</th>\n",
       "      <th>Opp to ask</th>\n",
       "      <th>Status</th>\n",
       "    </tr>\n",
       "  </thead>\n",
       "  <tbody>\n",
       "    <tr>\n",
       "      <th>0</th>\n",
       "      <td>Developer</td>\n",
       "      <td>Neutral</td>\n",
       "      <td>Neutral</td>\n",
       "      <td>No</td>\n",
       "      <td>Yes</td>\n",
       "      <td>Yes</td>\n",
       "      <td>Consider</td>\n",
       "    </tr>\n",
       "    <tr>\n",
       "      <th>1</th>\n",
       "      <td>Sales</td>\n",
       "      <td>Neutral</td>\n",
       "      <td>Negative</td>\n",
       "      <td>No</td>\n",
       "      <td>No</td>\n",
       "      <td>Yes</td>\n",
       "      <td>Consider</td>\n",
       "    </tr>\n",
       "    <tr>\n",
       "      <th>2</th>\n",
       "      <td>Program Manager</td>\n",
       "      <td>Positive</td>\n",
       "      <td>Positive</td>\n",
       "      <td>No</td>\n",
       "      <td>Yes</td>\n",
       "      <td>No</td>\n",
       "      <td>Consider</td>\n",
       "    </tr>\n",
       "    <tr>\n",
       "      <th>3</th>\n",
       "      <td>Marketing</td>\n",
       "      <td>Positive</td>\n",
       "      <td>Negative</td>\n",
       "      <td>No</td>\n",
       "      <td>Yes</td>\n",
       "      <td>No</td>\n",
       "      <td>Consider</td>\n",
       "    </tr>\n",
       "    <tr>\n",
       "      <th>4</th>\n",
       "      <td>QA Automation</td>\n",
       "      <td>Negative</td>\n",
       "      <td>Positive</td>\n",
       "      <td>Yes</td>\n",
       "      <td>Yes</td>\n",
       "      <td>No</td>\n",
       "      <td>Consider</td>\n",
       "    </tr>\n",
       "  </tbody>\n",
       "</table>\n",
       "</div>"
      ],
      "text/plain": [
       "           Profile     P.E.I     P.E.C Interviewer Intro Candidate into  \\\n",
       "0        Developer   Neutral   Neutral                No            Yes   \n",
       "1            Sales   Neutral  Negative                No             No   \n",
       "2  Program Manager  Positive  Positive                No            Yes   \n",
       "3        Marketing  Positive  Negative                No            Yes   \n",
       "4    QA Automation  Negative  Positive               Yes            Yes   \n",
       "\n",
       "  Opp to ask    Status  \n",
       "0        Yes  Consider  \n",
       "1        Yes  Consider  \n",
       "2         No  Consider  \n",
       "3         No  Consider  \n",
       "4         No  Consider  "
      ]
     },
     "execution_count": 41,
     "metadata": {},
     "output_type": "execute_result"
    }
   ],
   "source": [
    "objcols.head()"
   ]
  },
  {
   "cell_type": "code",
   "execution_count": 42,
   "id": "b188469a",
   "metadata": {},
   "outputs": [
    {
     "name": "stdout",
     "output_type": "stream",
     "text": [
      "<class 'pandas.core.frame.DataFrame'>\n",
      "Index: 7000 entries, 0 to 1199\n",
      "Data columns (total 7 columns):\n",
      " #   Column             Non-Null Count  Dtype \n",
      "---  ------             --------------  ----- \n",
      " 0   Profile            7000 non-null   object\n",
      " 1   P.E.I              7000 non-null   object\n",
      " 2   P.E.C              7000 non-null   object\n",
      " 3   Interviewer Intro  7000 non-null   object\n",
      " 4   Candidate into     7000 non-null   object\n",
      " 5   Opp to ask         7000 non-null   object\n",
      " 6   Status             7000 non-null   object\n",
      "dtypes: object(7)\n",
      "memory usage: 437.5+ KB\n"
     ]
    }
   ],
   "source": [
    "objcols.info()"
   ]
  },
  {
   "cell_type": "code",
   "execution_count": 43,
   "id": "1e4c4b65",
   "metadata": {},
   "outputs": [],
   "source": [
    "objcols=objcols.drop('Status',axis=1)"
   ]
  },
  {
   "cell_type": "code",
   "execution_count": 44,
   "id": "e5c0e932",
   "metadata": {},
   "outputs": [
    {
     "data": {
      "text/html": [
       "<div>\n",
       "<style scoped>\n",
       "    .dataframe tbody tr th:only-of-type {\n",
       "        vertical-align: middle;\n",
       "    }\n",
       "\n",
       "    .dataframe tbody tr th {\n",
       "        vertical-align: top;\n",
       "    }\n",
       "\n",
       "    .dataframe thead th {\n",
       "        text-align: right;\n",
       "    }\n",
       "</style>\n",
       "<table border=\"1\" class=\"dataframe\">\n",
       "  <thead>\n",
       "    <tr style=\"text-align: right;\">\n",
       "      <th></th>\n",
       "      <th>S.L.R.C</th>\n",
       "      <th>S.L.R.I</th>\n",
       "      <th>A.T.T</th>\n",
       "      <th>L.M.I</th>\n",
       "      <th>L.M.C</th>\n",
       "      <th>S.R</th>\n",
       "      <th>L.J.T.C</th>\n",
       "      <th>L.J.T.I</th>\n",
       "      <th>N.I.C</th>\n",
       "      <th>N.I.I</th>\n",
       "      <th>S.P.I</th>\n",
       "      <th>S.P.C</th>\n",
       "      <th>L.A.C</th>\n",
       "      <th>L.A.I</th>\n",
       "      <th>Q.A</th>\n",
       "      <th>COMPLIANCE Ratio</th>\n",
       "      <th>Interview duration</th>\n",
       "    </tr>\n",
       "  </thead>\n",
       "  <tbody>\n",
       "    <tr>\n",
       "      <th>S.L.R.C</th>\n",
       "      <td>1.000000</td>\n",
       "      <td>-0.999983</td>\n",
       "      <td>0.019157</td>\n",
       "      <td>-0.017049</td>\n",
       "      <td>0.008643</td>\n",
       "      <td>-0.014404</td>\n",
       "      <td>-0.009198</td>\n",
       "      <td>0.013928</td>\n",
       "      <td>0.006694</td>\n",
       "      <td>-0.009438</td>\n",
       "      <td>-0.007746</td>\n",
       "      <td>0.001242</td>\n",
       "      <td>-0.003426</td>\n",
       "      <td>0.006283</td>\n",
       "      <td>0.008698</td>\n",
       "      <td>0.002543</td>\n",
       "      <td>0.011855</td>\n",
       "    </tr>\n",
       "    <tr>\n",
       "      <th>S.L.R.I</th>\n",
       "      <td>-0.999983</td>\n",
       "      <td>1.000000</td>\n",
       "      <td>-0.019115</td>\n",
       "      <td>0.016954</td>\n",
       "      <td>-0.008644</td>\n",
       "      <td>0.014286</td>\n",
       "      <td>0.009284</td>\n",
       "      <td>-0.013928</td>\n",
       "      <td>-0.006613</td>\n",
       "      <td>0.009335</td>\n",
       "      <td>0.007627</td>\n",
       "      <td>-0.001335</td>\n",
       "      <td>0.003378</td>\n",
       "      <td>-0.006302</td>\n",
       "      <td>-0.008596</td>\n",
       "      <td>-0.002462</td>\n",
       "      <td>-0.011973</td>\n",
       "    </tr>\n",
       "    <tr>\n",
       "      <th>A.T.T</th>\n",
       "      <td>0.019157</td>\n",
       "      <td>-0.019115</td>\n",
       "      <td>1.000000</td>\n",
       "      <td>0.007958</td>\n",
       "      <td>0.016260</td>\n",
       "      <td>-0.004462</td>\n",
       "      <td>-0.001740</td>\n",
       "      <td>-0.013950</td>\n",
       "      <td>0.005298</td>\n",
       "      <td>-0.009248</td>\n",
       "      <td>0.012857</td>\n",
       "      <td>-0.009265</td>\n",
       "      <td>0.012246</td>\n",
       "      <td>-0.010205</td>\n",
       "      <td>-0.005192</td>\n",
       "      <td>0.001734</td>\n",
       "      <td>-0.003691</td>\n",
       "    </tr>\n",
       "    <tr>\n",
       "      <th>L.M.I</th>\n",
       "      <td>-0.017049</td>\n",
       "      <td>0.016954</td>\n",
       "      <td>0.007958</td>\n",
       "      <td>1.000000</td>\n",
       "      <td>0.012378</td>\n",
       "      <td>-0.016700</td>\n",
       "      <td>0.002126</td>\n",
       "      <td>-0.011251</td>\n",
       "      <td>-0.000953</td>\n",
       "      <td>-0.020785</td>\n",
       "      <td>0.001551</td>\n",
       "      <td>0.012691</td>\n",
       "      <td>0.019851</td>\n",
       "      <td>0.008794</td>\n",
       "      <td>-0.003160</td>\n",
       "      <td>-0.007757</td>\n",
       "      <td>-0.007018</td>\n",
       "    </tr>\n",
       "    <tr>\n",
       "      <th>L.M.C</th>\n",
       "      <td>0.008643</td>\n",
       "      <td>-0.008644</td>\n",
       "      <td>0.016260</td>\n",
       "      <td>0.012378</td>\n",
       "      <td>1.000000</td>\n",
       "      <td>0.003834</td>\n",
       "      <td>0.010428</td>\n",
       "      <td>0.001124</td>\n",
       "      <td>-0.008840</td>\n",
       "      <td>-0.001645</td>\n",
       "      <td>-0.007699</td>\n",
       "      <td>0.003063</td>\n",
       "      <td>0.017709</td>\n",
       "      <td>-0.003640</td>\n",
       "      <td>0.014173</td>\n",
       "      <td>0.004115</td>\n",
       "      <td>0.016587</td>\n",
       "    </tr>\n",
       "    <tr>\n",
       "      <th>S.R</th>\n",
       "      <td>-0.014404</td>\n",
       "      <td>0.014286</td>\n",
       "      <td>-0.004462</td>\n",
       "      <td>-0.016700</td>\n",
       "      <td>0.003834</td>\n",
       "      <td>1.000000</td>\n",
       "      <td>-0.005836</td>\n",
       "      <td>0.014555</td>\n",
       "      <td>-0.001778</td>\n",
       "      <td>-0.005397</td>\n",
       "      <td>0.001979</td>\n",
       "      <td>0.000744</td>\n",
       "      <td>0.002819</td>\n",
       "      <td>-0.000985</td>\n",
       "      <td>-0.005190</td>\n",
       "      <td>-0.013750</td>\n",
       "      <td>-0.027987</td>\n",
       "    </tr>\n",
       "    <tr>\n",
       "      <th>L.J.T.C</th>\n",
       "      <td>-0.009198</td>\n",
       "      <td>0.009284</td>\n",
       "      <td>-0.001740</td>\n",
       "      <td>0.002126</td>\n",
       "      <td>0.010428</td>\n",
       "      <td>-0.005836</td>\n",
       "      <td>1.000000</td>\n",
       "      <td>0.024306</td>\n",
       "      <td>0.005618</td>\n",
       "      <td>0.003404</td>\n",
       "      <td>-0.007900</td>\n",
       "      <td>-0.000536</td>\n",
       "      <td>-0.015497</td>\n",
       "      <td>-0.004040</td>\n",
       "      <td>0.026043</td>\n",
       "      <td>-0.004419</td>\n",
       "      <td>-0.002088</td>\n",
       "    </tr>\n",
       "    <tr>\n",
       "      <th>L.J.T.I</th>\n",
       "      <td>0.013928</td>\n",
       "      <td>-0.013928</td>\n",
       "      <td>-0.013950</td>\n",
       "      <td>-0.011251</td>\n",
       "      <td>0.001124</td>\n",
       "      <td>0.014555</td>\n",
       "      <td>0.024306</td>\n",
       "      <td>1.000000</td>\n",
       "      <td>-0.018019</td>\n",
       "      <td>0.000574</td>\n",
       "      <td>-0.012107</td>\n",
       "      <td>0.020512</td>\n",
       "      <td>0.016284</td>\n",
       "      <td>0.000302</td>\n",
       "      <td>0.013433</td>\n",
       "      <td>-0.017810</td>\n",
       "      <td>0.007000</td>\n",
       "    </tr>\n",
       "    <tr>\n",
       "      <th>N.I.C</th>\n",
       "      <td>0.006694</td>\n",
       "      <td>-0.006613</td>\n",
       "      <td>0.005298</td>\n",
       "      <td>-0.000953</td>\n",
       "      <td>-0.008840</td>\n",
       "      <td>-0.001778</td>\n",
       "      <td>0.005618</td>\n",
       "      <td>-0.018019</td>\n",
       "      <td>1.000000</td>\n",
       "      <td>0.000938</td>\n",
       "      <td>-0.007050</td>\n",
       "      <td>0.008377</td>\n",
       "      <td>-0.010092</td>\n",
       "      <td>0.021342</td>\n",
       "      <td>0.002051</td>\n",
       "      <td>0.001944</td>\n",
       "      <td>0.002018</td>\n",
       "    </tr>\n",
       "    <tr>\n",
       "      <th>N.I.I</th>\n",
       "      <td>-0.009438</td>\n",
       "      <td>0.009335</td>\n",
       "      <td>-0.009248</td>\n",
       "      <td>-0.020785</td>\n",
       "      <td>-0.001645</td>\n",
       "      <td>-0.005397</td>\n",
       "      <td>0.003404</td>\n",
       "      <td>0.000574</td>\n",
       "      <td>0.000938</td>\n",
       "      <td>1.000000</td>\n",
       "      <td>0.002418</td>\n",
       "      <td>0.020847</td>\n",
       "      <td>0.001356</td>\n",
       "      <td>0.023962</td>\n",
       "      <td>0.001283</td>\n",
       "      <td>0.001705</td>\n",
       "      <td>0.022033</td>\n",
       "    </tr>\n",
       "    <tr>\n",
       "      <th>S.P.I</th>\n",
       "      <td>-0.007746</td>\n",
       "      <td>0.007627</td>\n",
       "      <td>0.012857</td>\n",
       "      <td>0.001551</td>\n",
       "      <td>-0.007699</td>\n",
       "      <td>0.001979</td>\n",
       "      <td>-0.007900</td>\n",
       "      <td>-0.012107</td>\n",
       "      <td>-0.007050</td>\n",
       "      <td>0.002418</td>\n",
       "      <td>1.000000</td>\n",
       "      <td>-0.018903</td>\n",
       "      <td>-0.002102</td>\n",
       "      <td>0.007551</td>\n",
       "      <td>0.011997</td>\n",
       "      <td>-0.012958</td>\n",
       "      <td>0.003335</td>\n",
       "    </tr>\n",
       "    <tr>\n",
       "      <th>S.P.C</th>\n",
       "      <td>0.001242</td>\n",
       "      <td>-0.001335</td>\n",
       "      <td>-0.009265</td>\n",
       "      <td>0.012691</td>\n",
       "      <td>0.003063</td>\n",
       "      <td>0.000744</td>\n",
       "      <td>-0.000536</td>\n",
       "      <td>0.020512</td>\n",
       "      <td>0.008377</td>\n",
       "      <td>0.020847</td>\n",
       "      <td>-0.018903</td>\n",
       "      <td>1.000000</td>\n",
       "      <td>0.000549</td>\n",
       "      <td>-0.002393</td>\n",
       "      <td>0.025831</td>\n",
       "      <td>-0.009633</td>\n",
       "      <td>-0.008714</td>\n",
       "    </tr>\n",
       "    <tr>\n",
       "      <th>L.A.C</th>\n",
       "      <td>-0.003426</td>\n",
       "      <td>0.003378</td>\n",
       "      <td>0.012246</td>\n",
       "      <td>0.019851</td>\n",
       "      <td>0.017709</td>\n",
       "      <td>0.002819</td>\n",
       "      <td>-0.015497</td>\n",
       "      <td>0.016284</td>\n",
       "      <td>-0.010092</td>\n",
       "      <td>0.001356</td>\n",
       "      <td>-0.002102</td>\n",
       "      <td>0.000549</td>\n",
       "      <td>1.000000</td>\n",
       "      <td>0.012989</td>\n",
       "      <td>-0.003360</td>\n",
       "      <td>0.012394</td>\n",
       "      <td>0.009684</td>\n",
       "    </tr>\n",
       "    <tr>\n",
       "      <th>L.A.I</th>\n",
       "      <td>0.006283</td>\n",
       "      <td>-0.006302</td>\n",
       "      <td>-0.010205</td>\n",
       "      <td>0.008794</td>\n",
       "      <td>-0.003640</td>\n",
       "      <td>-0.000985</td>\n",
       "      <td>-0.004040</td>\n",
       "      <td>0.000302</td>\n",
       "      <td>0.021342</td>\n",
       "      <td>0.023962</td>\n",
       "      <td>0.007551</td>\n",
       "      <td>-0.002393</td>\n",
       "      <td>0.012989</td>\n",
       "      <td>1.000000</td>\n",
       "      <td>-0.014831</td>\n",
       "      <td>0.003595</td>\n",
       "      <td>-0.014183</td>\n",
       "    </tr>\n",
       "    <tr>\n",
       "      <th>Q.A</th>\n",
       "      <td>0.008698</td>\n",
       "      <td>-0.008596</td>\n",
       "      <td>-0.005192</td>\n",
       "      <td>-0.003160</td>\n",
       "      <td>0.014173</td>\n",
       "      <td>-0.005190</td>\n",
       "      <td>0.026043</td>\n",
       "      <td>0.013433</td>\n",
       "      <td>0.002051</td>\n",
       "      <td>0.001283</td>\n",
       "      <td>0.011997</td>\n",
       "      <td>0.025831</td>\n",
       "      <td>-0.003360</td>\n",
       "      <td>-0.014831</td>\n",
       "      <td>1.000000</td>\n",
       "      <td>-0.005901</td>\n",
       "      <td>-0.014954</td>\n",
       "    </tr>\n",
       "    <tr>\n",
       "      <th>COMPLIANCE Ratio</th>\n",
       "      <td>0.002543</td>\n",
       "      <td>-0.002462</td>\n",
       "      <td>0.001734</td>\n",
       "      <td>-0.007757</td>\n",
       "      <td>0.004115</td>\n",
       "      <td>-0.013750</td>\n",
       "      <td>-0.004419</td>\n",
       "      <td>-0.017810</td>\n",
       "      <td>0.001944</td>\n",
       "      <td>0.001705</td>\n",
       "      <td>-0.012958</td>\n",
       "      <td>-0.009633</td>\n",
       "      <td>0.012394</td>\n",
       "      <td>0.003595</td>\n",
       "      <td>-0.005901</td>\n",
       "      <td>1.000000</td>\n",
       "      <td>-0.010276</td>\n",
       "    </tr>\n",
       "    <tr>\n",
       "      <th>Interview duration</th>\n",
       "      <td>0.011855</td>\n",
       "      <td>-0.011973</td>\n",
       "      <td>-0.003691</td>\n",
       "      <td>-0.007018</td>\n",
       "      <td>0.016587</td>\n",
       "      <td>-0.027987</td>\n",
       "      <td>-0.002088</td>\n",
       "      <td>0.007000</td>\n",
       "      <td>0.002018</td>\n",
       "      <td>0.022033</td>\n",
       "      <td>0.003335</td>\n",
       "      <td>-0.008714</td>\n",
       "      <td>0.009684</td>\n",
       "      <td>-0.014183</td>\n",
       "      <td>-0.014954</td>\n",
       "      <td>-0.010276</td>\n",
       "      <td>1.000000</td>\n",
       "    </tr>\n",
       "  </tbody>\n",
       "</table>\n",
       "</div>"
      ],
      "text/plain": [
       "                     S.L.R.C   S.L.R.I     A.T.T     L.M.I     L.M.C  \\\n",
       "S.L.R.C             1.000000 -0.999983  0.019157 -0.017049  0.008643   \n",
       "S.L.R.I            -0.999983  1.000000 -0.019115  0.016954 -0.008644   \n",
       "A.T.T               0.019157 -0.019115  1.000000  0.007958  0.016260   \n",
       "L.M.I              -0.017049  0.016954  0.007958  1.000000  0.012378   \n",
       "L.M.C               0.008643 -0.008644  0.016260  0.012378  1.000000   \n",
       "S.R                -0.014404  0.014286 -0.004462 -0.016700  0.003834   \n",
       "L.J.T.C            -0.009198  0.009284 -0.001740  0.002126  0.010428   \n",
       "L.J.T.I             0.013928 -0.013928 -0.013950 -0.011251  0.001124   \n",
       "N.I.C               0.006694 -0.006613  0.005298 -0.000953 -0.008840   \n",
       "N.I.I              -0.009438  0.009335 -0.009248 -0.020785 -0.001645   \n",
       "S.P.I              -0.007746  0.007627  0.012857  0.001551 -0.007699   \n",
       "S.P.C               0.001242 -0.001335 -0.009265  0.012691  0.003063   \n",
       "L.A.C              -0.003426  0.003378  0.012246  0.019851  0.017709   \n",
       "L.A.I               0.006283 -0.006302 -0.010205  0.008794 -0.003640   \n",
       "Q.A                 0.008698 -0.008596 -0.005192 -0.003160  0.014173   \n",
       "COMPLIANCE Ratio    0.002543 -0.002462  0.001734 -0.007757  0.004115   \n",
       "Interview duration  0.011855 -0.011973 -0.003691 -0.007018  0.016587   \n",
       "\n",
       "                         S.R   L.J.T.C   L.J.T.I     N.I.C     N.I.I  \\\n",
       "S.L.R.C            -0.014404 -0.009198  0.013928  0.006694 -0.009438   \n",
       "S.L.R.I             0.014286  0.009284 -0.013928 -0.006613  0.009335   \n",
       "A.T.T              -0.004462 -0.001740 -0.013950  0.005298 -0.009248   \n",
       "L.M.I              -0.016700  0.002126 -0.011251 -0.000953 -0.020785   \n",
       "L.M.C               0.003834  0.010428  0.001124 -0.008840 -0.001645   \n",
       "S.R                 1.000000 -0.005836  0.014555 -0.001778 -0.005397   \n",
       "L.J.T.C            -0.005836  1.000000  0.024306  0.005618  0.003404   \n",
       "L.J.T.I             0.014555  0.024306  1.000000 -0.018019  0.000574   \n",
       "N.I.C              -0.001778  0.005618 -0.018019  1.000000  0.000938   \n",
       "N.I.I              -0.005397  0.003404  0.000574  0.000938  1.000000   \n",
       "S.P.I               0.001979 -0.007900 -0.012107 -0.007050  0.002418   \n",
       "S.P.C               0.000744 -0.000536  0.020512  0.008377  0.020847   \n",
       "L.A.C               0.002819 -0.015497  0.016284 -0.010092  0.001356   \n",
       "L.A.I              -0.000985 -0.004040  0.000302  0.021342  0.023962   \n",
       "Q.A                -0.005190  0.026043  0.013433  0.002051  0.001283   \n",
       "COMPLIANCE Ratio   -0.013750 -0.004419 -0.017810  0.001944  0.001705   \n",
       "Interview duration -0.027987 -0.002088  0.007000  0.002018  0.022033   \n",
       "\n",
       "                       S.P.I     S.P.C     L.A.C     L.A.I       Q.A  \\\n",
       "S.L.R.C            -0.007746  0.001242 -0.003426  0.006283  0.008698   \n",
       "S.L.R.I             0.007627 -0.001335  0.003378 -0.006302 -0.008596   \n",
       "A.T.T               0.012857 -0.009265  0.012246 -0.010205 -0.005192   \n",
       "L.M.I               0.001551  0.012691  0.019851  0.008794 -0.003160   \n",
       "L.M.C              -0.007699  0.003063  0.017709 -0.003640  0.014173   \n",
       "S.R                 0.001979  0.000744  0.002819 -0.000985 -0.005190   \n",
       "L.J.T.C            -0.007900 -0.000536 -0.015497 -0.004040  0.026043   \n",
       "L.J.T.I            -0.012107  0.020512  0.016284  0.000302  0.013433   \n",
       "N.I.C              -0.007050  0.008377 -0.010092  0.021342  0.002051   \n",
       "N.I.I               0.002418  0.020847  0.001356  0.023962  0.001283   \n",
       "S.P.I               1.000000 -0.018903 -0.002102  0.007551  0.011997   \n",
       "S.P.C              -0.018903  1.000000  0.000549 -0.002393  0.025831   \n",
       "L.A.C              -0.002102  0.000549  1.000000  0.012989 -0.003360   \n",
       "L.A.I               0.007551 -0.002393  0.012989  1.000000 -0.014831   \n",
       "Q.A                 0.011997  0.025831 -0.003360 -0.014831  1.000000   \n",
       "COMPLIANCE Ratio   -0.012958 -0.009633  0.012394  0.003595 -0.005901   \n",
       "Interview duration  0.003335 -0.008714  0.009684 -0.014183 -0.014954   \n",
       "\n",
       "                    COMPLIANCE Ratio  Interview duration  \n",
       "S.L.R.C                     0.002543            0.011855  \n",
       "S.L.R.I                    -0.002462           -0.011973  \n",
       "A.T.T                       0.001734           -0.003691  \n",
       "L.M.I                      -0.007757           -0.007018  \n",
       "L.M.C                       0.004115            0.016587  \n",
       "S.R                        -0.013750           -0.027987  \n",
       "L.J.T.C                    -0.004419           -0.002088  \n",
       "L.J.T.I                    -0.017810            0.007000  \n",
       "N.I.C                       0.001944            0.002018  \n",
       "N.I.I                       0.001705            0.022033  \n",
       "S.P.I                      -0.012958            0.003335  \n",
       "S.P.C                      -0.009633           -0.008714  \n",
       "L.A.C                       0.012394            0.009684  \n",
       "L.A.I                       0.003595           -0.014183  \n",
       "Q.A                        -0.005901           -0.014954  \n",
       "COMPLIANCE Ratio            1.000000           -0.010276  \n",
       "Interview duration         -0.010276            1.000000  "
      ]
     },
     "execution_count": 44,
     "metadata": {},
     "output_type": "execute_result"
    }
   ],
   "source": [
    "numcols.corr()"
   ]
  },
  {
   "cell_type": "code",
   "execution_count": 45,
   "id": "93ab5f9b",
   "metadata": {},
   "outputs": [
    {
     "data": {
      "text/plain": [
       "<Axes: >"
      ]
     },
     "execution_count": 45,
     "metadata": {},
     "output_type": "execute_result"
    },
    {
     "data": {
      "image/png": "[encoded data removed]",
      "text/plain": [
       "<Figure size 3000x1500 with 2 Axes>"
      ]
     },
     "metadata": {},
     "output_type": "display_data"
    }
   ],
   "source": [
    "plt.figure(figsize=(30,15))\n",
    "sns.heatmap(numcols.corr(),annot=True)"
   ]
  },
  {
   "cell_type": "markdown",
   "id": "4bf98137",
   "metadata": {},
   "source": [
    "# Data Pre-Processing"
   ]
  },
  {
   "cell_type": "markdown",
   "id": "9560d844",
   "metadata": {},
   "source": [
    "## Standard Scaler"
   ]
  },
  {
   "cell_type": "code",
   "execution_count": 46,
   "id": "8760bdb4",
   "metadata": {},
   "outputs": [],
   "source": [
    "from sklearn.preprocessing import StandardScaler"
   ]
  },
  {
   "cell_type": "code",
   "execution_count": 47,
   "id": "c788128f",
   "metadata": {},
   "outputs": [],
   "source": [
    "sc=StandardScaler()"
   ]
  },
  {
   "cell_type": "code",
   "execution_count": 48,
   "id": "fc7eec2d",
   "metadata": {},
   "outputs": [],
   "source": [
    "numcols_sc=sc.fit_transform(numcols)"
   ]
  },
  {
   "cell_type": "code",
   "execution_count": 49,
   "id": "51d6d35e",
   "metadata": {},
   "outputs": [],
   "source": [
    "numcols_sc=pd.DataFrame(numcols_sc,columns=numcols.columns)"
   ]
  },
  {
   "cell_type": "code",
   "execution_count": 50,
   "id": "4961f6d1",
   "metadata": {},
   "outputs": [
    {
     "data": {
      "text/html": [
       "<div>\n",
       "<style scoped>\n",
       "    .dataframe tbody tr th:only-of-type {\n",
       "        vertical-align: middle;\n",
       "    }\n",
       "\n",
       "    .dataframe tbody tr th {\n",
       "        vertical-align: top;\n",
       "    }\n",
       "\n",
       "    .dataframe thead th {\n",
       "        text-align: right;\n",
       "    }\n",
       "</style>\n",
       "<table border=\"1\" class=\"dataframe\">\n",
       "  <thead>\n",
       "    <tr style=\"text-align: right;\">\n",
       "      <th></th>\n",
       "      <th>S.L.R.C</th>\n",
       "      <th>S.L.R.I</th>\n",
       "      <th>A.T.T</th>\n",
       "      <th>L.M.I</th>\n",
       "      <th>L.M.C</th>\n",
       "      <th>S.R</th>\n",
       "      <th>L.J.T.C</th>\n",
       "      <th>L.J.T.I</th>\n",
       "      <th>N.I.C</th>\n",
       "      <th>N.I.I</th>\n",
       "      <th>S.P.I</th>\n",
       "      <th>S.P.C</th>\n",
       "      <th>L.A.C</th>\n",
       "      <th>L.A.I</th>\n",
       "      <th>Q.A</th>\n",
       "      <th>COMPLIANCE Ratio</th>\n",
       "      <th>Interview duration</th>\n",
       "    </tr>\n",
       "  </thead>\n",
       "  <tbody>\n",
       "    <tr>\n",
       "      <th>0</th>\n",
       "      <td>1.617812</td>\n",
       "      <td>-1.617958</td>\n",
       "      <td>-0.577336</td>\n",
       "      <td>0.330354</td>\n",
       "      <td>0.540954</td>\n",
       "      <td>-0.888602</td>\n",
       "      <td>-0.717349</td>\n",
       "      <td>-1.129610</td>\n",
       "      <td>0.175097</td>\n",
       "      <td>1.492038</td>\n",
       "      <td>-0.640521</td>\n",
       "      <td>-0.015766</td>\n",
       "      <td>1.159800</td>\n",
       "      <td>0.778738</td>\n",
       "      <td>0.896869</td>\n",
       "      <td>1.655712</td>\n",
       "      <td>-0.028574</td>\n",
       "    </tr>\n",
       "    <tr>\n",
       "      <th>1</th>\n",
       "      <td>-0.530111</td>\n",
       "      <td>0.530067</td>\n",
       "      <td>-0.645362</td>\n",
       "      <td>-1.166062</td>\n",
       "      <td>-1.547226</td>\n",
       "      <td>-0.616576</td>\n",
       "      <td>-0.659983</td>\n",
       "      <td>0.065193</td>\n",
       "      <td>-0.508288</td>\n",
       "      <td>1.283105</td>\n",
       "      <td>-1.130237</td>\n",
       "      <td>0.185847</td>\n",
       "      <td>-0.689329</td>\n",
       "      <td>0.778738</td>\n",
       "      <td>-0.286224</td>\n",
       "      <td>0.128229</td>\n",
       "      <td>-0.329125</td>\n",
       "    </tr>\n",
       "    <tr>\n",
       "      <th>2</th>\n",
       "      <td>0.439918</td>\n",
       "      <td>-0.440009</td>\n",
       "      <td>-0.339243</td>\n",
       "      <td>-0.139948</td>\n",
       "      <td>-0.226132</td>\n",
       "      <td>0.607541</td>\n",
       "      <td>-1.130378</td>\n",
       "      <td>-1.354718</td>\n",
       "      <td>-0.613424</td>\n",
       "      <td>-1.224082</td>\n",
       "      <td>0.094054</td>\n",
       "      <td>-0.539962</td>\n",
       "      <td>-0.920470</td>\n",
       "      <td>-0.618549</td>\n",
       "      <td>-0.877770</td>\n",
       "      <td>-0.670228</td>\n",
       "      <td>1.549321</td>\n",
       "    </tr>\n",
       "    <tr>\n",
       "      <th>3</th>\n",
       "      <td>-0.391536</td>\n",
       "      <td>0.391485</td>\n",
       "      <td>0.783193</td>\n",
       "      <td>-1.636364</td>\n",
       "      <td>0.967113</td>\n",
       "      <td>0.267508</td>\n",
       "      <td>-0.407577</td>\n",
       "      <td>-0.783290</td>\n",
       "      <td>1.279025</td>\n",
       "      <td>0.917474</td>\n",
       "      <td>0.485827</td>\n",
       "      <td>1.113270</td>\n",
       "      <td>0.466377</td>\n",
       "      <td>-0.094566</td>\n",
       "      <td>1.488415</td>\n",
       "      <td>-0.913236</td>\n",
       "      <td>-0.178850</td>\n",
       "    </tr>\n",
       "    <tr>\n",
       "      <th>4</th>\n",
       "      <td>-1.222990</td>\n",
       "      <td>1.222978</td>\n",
       "      <td>-0.883455</td>\n",
       "      <td>-1.550854</td>\n",
       "      <td>1.648968</td>\n",
       "      <td>1.423619</td>\n",
       "      <td>0.452902</td>\n",
       "      <td>0.532725</td>\n",
       "      <td>-1.612216</td>\n",
       "      <td>-0.283887</td>\n",
       "      <td>-0.934351</td>\n",
       "      <td>1.072948</td>\n",
       "      <td>1.159800</td>\n",
       "      <td>-0.618549</td>\n",
       "      <td>-0.877770</td>\n",
       "      <td>0.787824</td>\n",
       "      <td>1.699597</td>\n",
       "    </tr>\n",
       "  </tbody>\n",
       "</table>\n",
       "</div>"
      ],
      "text/plain": [
       "    S.L.R.C   S.L.R.I     A.T.T     L.M.I     L.M.C       S.R   L.J.T.C  \\\n",
       "0  1.617812 -1.617958 -0.577336  0.330354  0.540954 -0.888602 -0.717349   \n",
       "1 -0.530111  0.530067 -0.645362 -1.166062 -1.547226 -0.616576 -0.659983   \n",
       "2  0.439918 -0.440009 -0.339243 -0.139948 -0.226132  0.607541 -1.130378   \n",
       "3 -0.391536  0.391485  0.783193 -1.636364  0.967113  0.267508 -0.407577   \n",
       "4 -1.222990  1.222978 -0.883455 -1.550854  1.648968  1.423619  0.452902   \n",
       "\n",
       "    L.J.T.I     N.I.C     N.I.I     S.P.I     S.P.C     L.A.C     L.A.I  \\\n",
       "0 -1.129610  0.175097  1.492038 -0.640521 -0.015766  1.159800  0.778738   \n",
       "1  0.065193 -0.508288  1.283105 -1.130237  0.185847 -0.689329  0.778738   \n",
       "2 -1.354718 -0.613424 -1.224082  0.094054 -0.539962 -0.920470 -0.618549   \n",
       "3 -0.783290  1.279025  0.917474  0.485827  1.113270  0.466377 -0.094566   \n",
       "4  0.532725 -1.612216 -0.283887 -0.934351  1.072948  1.159800 -0.618549   \n",
       "\n",
       "        Q.A  COMPLIANCE Ratio  Interview duration  \n",
       "0  0.896869          1.655712           -0.028574  \n",
       "1 -0.286224          0.128229           -0.329125  \n",
       "2 -0.877770         -0.670228            1.549321  \n",
       "3  1.488415         -0.913236           -0.178850  \n",
       "4 -0.877770          0.787824            1.699597  "
      ]
     },
     "execution_count": 50,
     "metadata": {},
     "output_type": "execute_result"
    }
   ],
   "source": [
    "numcols_sc.head()"
   ]
  },
  {
   "cell_type": "code",
   "execution_count": 51,
   "id": "e92ec32f",
   "metadata": {},
   "outputs": [
    {
     "name": "stderr",
     "output_type": "stream",
     "text": [
      "C:\\Users\\Eswar Aditya\\anaconda3\\Lib\\site-packages\\seaborn\\_oldcore.py:1498: FutureWarning: is_categorical_dtype is deprecated and will be removed in a future version. Use isinstance(dtype, CategoricalDtype) instead\n",
      "  if pd.api.types.is_categorical_dtype(vector):\n",
      "C:\\Users\\Eswar Aditya\\anaconda3\\Lib\\site-packages\\seaborn\\_oldcore.py:1498: FutureWarning: is_categorical_dtype is deprecated and will be removed in a future version. Use isinstance(dtype, CategoricalDtype) instead\n",
      "  if pd.api.types.is_categorical_dtype(vector):\n",
      "C:\\Users\\Eswar Aditya\\anaconda3\\Lib\\site-packages\\seaborn\\_oldcore.py:1498: FutureWarning: is_categorical_dtype is deprecated and will be removed in a future version. Use isinstance(dtype, CategoricalDtype) instead\n",
      "  if pd.api.types.is_categorical_dtype(vector):\n",
      "C:\\Users\\Eswar Aditya\\anaconda3\\Lib\\site-packages\\seaborn\\_oldcore.py:1498: FutureWarning: is_categorical_dtype is deprecated and will be removed in a future version. Use isinstance(dtype, CategoricalDtype) instead\n",
      "  if pd.api.types.is_categorical_dtype(vector):\n",
      "C:\\Users\\Eswar Aditya\\anaconda3\\Lib\\site-packages\\seaborn\\_oldcore.py:1498: FutureWarning: is_categorical_dtype is deprecated and will be removed in a future version. Use isinstance(dtype, CategoricalDtype) instead\n",
      "  if pd.api.types.is_categorical_dtype(vector):\n",
      "C:\\Users\\Eswar Aditya\\anaconda3\\Lib\\site-packages\\seaborn\\_oldcore.py:1498: FutureWarning: is_categorical_dtype is deprecated and will be removed in a future version. Use isinstance(dtype, CategoricalDtype) instead\n",
      "  if pd.api.types.is_categorical_dtype(vector):\n",
      "C:\\Users\\Eswar Aditya\\anaconda3\\Lib\\site-packages\\seaborn\\_oldcore.py:1498: FutureWarning: is_categorical_dtype is deprecated and will be removed in a future version. Use isinstance(dtype, CategoricalDtype) instead\n",
      "  if pd.api.types.is_categorical_dtype(vector):\n",
      "C:\\Users\\Eswar Aditya\\anaconda3\\Lib\\site-packages\\seaborn\\_oldcore.py:1498: FutureWarning: is_categorical_dtype is deprecated and will be removed in a future version. Use isinstance(dtype, CategoricalDtype) instead\n",
      "  if pd.api.types.is_categorical_dtype(vector):\n",
      "C:\\Users\\Eswar Aditya\\anaconda3\\Lib\\site-packages\\seaborn\\_oldcore.py:1498: FutureWarning: is_categorical_dtype is deprecated and will be removed in a future version. Use isinstance(dtype, CategoricalDtype) instead\n",
      "  if pd.api.types.is_categorical_dtype(vector):\n",
      "C:\\Users\\Eswar Aditya\\anaconda3\\Lib\\site-packages\\seaborn\\_oldcore.py:1498: FutureWarning: is_categorical_dtype is deprecated and will be removed in a future version. Use isinstance(dtype, CategoricalDtype) instead\n",
      "  if pd.api.types.is_categorical_dtype(vector):\n",
      "C:\\Users\\Eswar Aditya\\anaconda3\\Lib\\site-packages\\seaborn\\_oldcore.py:1498: FutureWarning: is_categorical_dtype is deprecated and will be removed in a future version. Use isinstance(dtype, CategoricalDtype) instead\n",
      "  if pd.api.types.is_categorical_dtype(vector):\n",
      "C:\\Users\\Eswar Aditya\\anaconda3\\Lib\\site-packages\\seaborn\\_oldcore.py:1498: FutureWarning: is_categorical_dtype is deprecated and will be removed in a future version. Use isinstance(dtype, CategoricalDtype) instead\n",
      "  if pd.api.types.is_categorical_dtype(vector):\n",
      "C:\\Users\\Eswar Aditya\\anaconda3\\Lib\\site-packages\\seaborn\\_oldcore.py:1498: FutureWarning: is_categorical_dtype is deprecated and will be removed in a future version. Use isinstance(dtype, CategoricalDtype) instead\n",
      "  if pd.api.types.is_categorical_dtype(vector):\n",
      "C:\\Users\\Eswar Aditya\\anaconda3\\Lib\\site-packages\\seaborn\\_oldcore.py:1498: FutureWarning: is_categorical_dtype is deprecated and will be removed in a future version. Use isinstance(dtype, CategoricalDtype) instead\n",
      "  if pd.api.types.is_categorical_dtype(vector):\n",
      "C:\\Users\\Eswar Aditya\\anaconda3\\Lib\\site-packages\\seaborn\\_oldcore.py:1498: FutureWarning: is_categorical_dtype is deprecated and will be removed in a future version. Use isinstance(dtype, CategoricalDtype) instead\n",
      "  if pd.api.types.is_categorical_dtype(vector):\n",
      "C:\\Users\\Eswar Aditya\\anaconda3\\Lib\\site-packages\\seaborn\\_oldcore.py:1498: FutureWarning: is_categorical_dtype is deprecated and will be removed in a future version. Use isinstance(dtype, CategoricalDtype) instead\n",
      "  if pd.api.types.is_categorical_dtype(vector):\n",
      "C:\\Users\\Eswar Aditya\\anaconda3\\Lib\\site-packages\\seaborn\\_oldcore.py:1498: FutureWarning: is_categorical_dtype is deprecated and will be removed in a future version. Use isinstance(dtype, CategoricalDtype) instead\n",
      "  if pd.api.types.is_categorical_dtype(vector):\n"
     ]
    },
    {
     "data": {
      "text/plain": [
       "<Axes: >"
      ]
     },
     "execution_count": 51,
     "metadata": {},
     "output_type": "execute_result"
    },
    {
     "data": {
      "image/png": "[encoded data removed]",
      "text/plain": [
       "<Figure size 2000x1000 with 1 Axes>"
      ]
     },
     "metadata": {},
     "output_type": "display_data"
    }
   ],
   "source": [
    "plt.figure(figsize=(20,10))\n",
    "sns.boxplot(numcols_sc)"
   ]
  },
  {
   "cell_type": "markdown",
   "id": "8bd72657",
   "metadata": {},
   "source": [
    "# Minmax Scaler"
   ]
  },
  {
   "cell_type": "code",
   "execution_count": 52,
   "id": "ac51d9f0",
   "metadata": {},
   "outputs": [],
   "source": [
    "from sklearn.preprocessing import MinMaxScaler"
   ]
  },
  {
   "cell_type": "code",
   "execution_count": 53,
   "id": "9a33ca34",
   "metadata": {},
   "outputs": [],
   "source": [
    "mm=MinMaxScaler()"
   ]
  },
  {
   "cell_type": "code",
   "execution_count": 54,
   "id": "c7dcdeec",
   "metadata": {},
   "outputs": [],
   "source": [
    "numcols_mm=mm.fit_transform(numcols)"
   ]
  },
  {
   "cell_type": "code",
   "execution_count": 55,
   "id": "ea47071c",
   "metadata": {},
   "outputs": [],
   "source": [
    "numcols_mm=pd.DataFrame(numcols_mm,columns=numcols.columns)"
   ]
  },
  {
   "cell_type": "code",
   "execution_count": 56,
   "id": "13d901ae",
   "metadata": {},
   "outputs": [
    {
     "data": {
      "text/html": [
       "<div>\n",
       "<style scoped>\n",
       "    .dataframe tbody tr th:only-of-type {\n",
       "        vertical-align: middle;\n",
       "    }\n",
       "\n",
       "    .dataframe tbody tr th {\n",
       "        vertical-align: top;\n",
       "    }\n",
       "\n",
       "    .dataframe thead th {\n",
       "        text-align: right;\n",
       "    }\n",
       "</style>\n",
       "<table border=\"1\" class=\"dataframe\">\n",
       "  <thead>\n",
       "    <tr style=\"text-align: right;\">\n",
       "      <th></th>\n",
       "      <th>S.L.R.C</th>\n",
       "      <th>S.L.R.I</th>\n",
       "      <th>A.T.T</th>\n",
       "      <th>L.M.I</th>\n",
       "      <th>L.M.C</th>\n",
       "      <th>S.R</th>\n",
       "      <th>L.J.T.C</th>\n",
       "      <th>L.J.T.I</th>\n",
       "      <th>N.I.C</th>\n",
       "      <th>N.I.I</th>\n",
       "      <th>S.P.I</th>\n",
       "      <th>S.P.C</th>\n",
       "      <th>L.A.C</th>\n",
       "      <th>L.A.I</th>\n",
       "      <th>Q.A</th>\n",
       "      <th>COMPLIANCE Ratio</th>\n",
       "      <th>Interview duration</th>\n",
       "    </tr>\n",
       "  </thead>\n",
       "  <tbody>\n",
       "    <tr>\n",
       "      <th>0</th>\n",
       "      <td>0.979592</td>\n",
       "      <td>0.020408</td>\n",
       "      <td>0.33</td>\n",
       "      <td>0.6000</td>\n",
       "      <td>0.6625</td>\n",
       "      <td>0.24</td>\n",
       "      <td>0.293333</td>\n",
       "      <td>0.176667</td>\n",
       "      <td>0.553846</td>\n",
       "      <td>0.938462</td>\n",
       "      <td>0.314286</td>\n",
       "      <td>0.494118</td>\n",
       "      <td>0.857143</td>\n",
       "      <td>0.736842</td>\n",
       "      <td>0.8</td>\n",
       "      <td>0.98</td>\n",
       "      <td>0.488889</td>\n",
       "    </tr>\n",
       "    <tr>\n",
       "      <th>1</th>\n",
       "      <td>0.346939</td>\n",
       "      <td>0.653061</td>\n",
       "      <td>0.31</td>\n",
       "      <td>0.1625</td>\n",
       "      <td>0.0500</td>\n",
       "      <td>0.32</td>\n",
       "      <td>0.310000</td>\n",
       "      <td>0.521667</td>\n",
       "      <td>0.353846</td>\n",
       "      <td>0.876923</td>\n",
       "      <td>0.171429</td>\n",
       "      <td>0.552941</td>\n",
       "      <td>0.285714</td>\n",
       "      <td>0.736842</td>\n",
       "      <td>0.4</td>\n",
       "      <td>0.54</td>\n",
       "      <td>0.400000</td>\n",
       "    </tr>\n",
       "    <tr>\n",
       "      <th>2</th>\n",
       "      <td>0.632653</td>\n",
       "      <td>0.367347</td>\n",
       "      <td>0.40</td>\n",
       "      <td>0.4625</td>\n",
       "      <td>0.4375</td>\n",
       "      <td>0.68</td>\n",
       "      <td>0.173333</td>\n",
       "      <td>0.111667</td>\n",
       "      <td>0.323077</td>\n",
       "      <td>0.138462</td>\n",
       "      <td>0.528571</td>\n",
       "      <td>0.341176</td>\n",
       "      <td>0.214286</td>\n",
       "      <td>0.315789</td>\n",
       "      <td>0.2</td>\n",
       "      <td>0.31</td>\n",
       "      <td>0.955556</td>\n",
       "    </tr>\n",
       "    <tr>\n",
       "      <th>3</th>\n",
       "      <td>0.387755</td>\n",
       "      <td>0.612245</td>\n",
       "      <td>0.73</td>\n",
       "      <td>0.0250</td>\n",
       "      <td>0.7875</td>\n",
       "      <td>0.58</td>\n",
       "      <td>0.383333</td>\n",
       "      <td>0.276667</td>\n",
       "      <td>0.876923</td>\n",
       "      <td>0.769231</td>\n",
       "      <td>0.642857</td>\n",
       "      <td>0.823529</td>\n",
       "      <td>0.642857</td>\n",
       "      <td>0.473684</td>\n",
       "      <td>1.0</td>\n",
       "      <td>0.24</td>\n",
       "      <td>0.444444</td>\n",
       "    </tr>\n",
       "    <tr>\n",
       "      <th>4</th>\n",
       "      <td>0.142857</td>\n",
       "      <td>0.857143</td>\n",
       "      <td>0.24</td>\n",
       "      <td>0.0500</td>\n",
       "      <td>0.9875</td>\n",
       "      <td>0.92</td>\n",
       "      <td>0.633333</td>\n",
       "      <td>0.656667</td>\n",
       "      <td>0.030769</td>\n",
       "      <td>0.415385</td>\n",
       "      <td>0.228571</td>\n",
       "      <td>0.811765</td>\n",
       "      <td>0.857143</td>\n",
       "      <td>0.315789</td>\n",
       "      <td>0.2</td>\n",
       "      <td>0.73</td>\n",
       "      <td>1.000000</td>\n",
       "    </tr>\n",
       "  </tbody>\n",
       "</table>\n",
       "</div>"
      ],
      "text/plain": [
       "    S.L.R.C   S.L.R.I  A.T.T   L.M.I   L.M.C   S.R   L.J.T.C   L.J.T.I  \\\n",
       "0  0.979592  0.020408   0.33  0.6000  0.6625  0.24  0.293333  0.176667   \n",
       "1  0.346939  0.653061   0.31  0.1625  0.0500  0.32  0.310000  0.521667   \n",
       "2  0.632653  0.367347   0.40  0.4625  0.4375  0.68  0.173333  0.111667   \n",
       "3  0.387755  0.612245   0.73  0.0250  0.7875  0.58  0.383333  0.276667   \n",
       "4  0.142857  0.857143   0.24  0.0500  0.9875  0.92  0.633333  0.656667   \n",
       "\n",
       "      N.I.C     N.I.I     S.P.I     S.P.C     L.A.C     L.A.I  Q.A  \\\n",
       "0  0.553846  0.938462  0.314286  0.494118  0.857143  0.736842  0.8   \n",
       "1  0.353846  0.876923  0.171429  0.552941  0.285714  0.736842  0.4   \n",
       "2  0.323077  0.138462  0.528571  0.341176  0.214286  0.315789  0.2   \n",
       "3  0.876923  0.769231  0.642857  0.823529  0.642857  0.473684  1.0   \n",
       "4  0.030769  0.415385  0.228571  0.811765  0.857143  0.315789  0.2   \n",
       "\n",
       "   COMPLIANCE Ratio  Interview duration  \n",
       "0              0.98            0.488889  \n",
       "1              0.54            0.400000  \n",
       "2              0.31            0.955556  \n",
       "3              0.24            0.444444  \n",
       "4              0.73            1.000000  "
      ]
     },
     "execution_count": 56,
     "metadata": {},
     "output_type": "execute_result"
    }
   ],
   "source": [
    "numcols_mm.head()"
   ]
  },
  {
   "cell_type": "code",
   "execution_count": 57,
   "id": "cadfd8b8",
   "metadata": {},
   "outputs": [
    {
     "name": "stderr",
     "output_type": "stream",
     "text": [
      "C:\\Users\\Eswar Aditya\\anaconda3\\Lib\\site-packages\\seaborn\\_oldcore.py:1498: FutureWarning: is_categorical_dtype is deprecated and will be removed in a future version. Use isinstance(dtype, CategoricalDtype) instead\n",
      "  if pd.api.types.is_categorical_dtype(vector):\n",
      "C:\\Users\\Eswar Aditya\\anaconda3\\Lib\\site-packages\\seaborn\\_oldcore.py:1498: FutureWarning: is_categorical_dtype is deprecated and will be removed in a future version. Use isinstance(dtype, CategoricalDtype) instead\n",
      "  if pd.api.types.is_categorical_dtype(vector):\n",
      "C:\\Users\\Eswar Aditya\\anaconda3\\Lib\\site-packages\\seaborn\\_oldcore.py:1498: FutureWarning: is_categorical_dtype is deprecated and will be removed in a future version. Use isinstance(dtype, CategoricalDtype) instead\n",
      "  if pd.api.types.is_categorical_dtype(vector):\n",
      "C:\\Users\\Eswar Aditya\\anaconda3\\Lib\\site-packages\\seaborn\\_oldcore.py:1498: FutureWarning: is_categorical_dtype is deprecated and will be removed in a future version. Use isinstance(dtype, CategoricalDtype) instead\n",
      "  if pd.api.types.is_categorical_dtype(vector):\n",
      "C:\\Users\\Eswar Aditya\\anaconda3\\Lib\\site-packages\\seaborn\\_oldcore.py:1498: FutureWarning: is_categorical_dtype is deprecated and will be removed in a future version. Use isinstance(dtype, CategoricalDtype) instead\n",
      "  if pd.api.types.is_categorical_dtype(vector):\n",
      "C:\\Users\\Eswar Aditya\\anaconda3\\Lib\\site-packages\\seaborn\\_oldcore.py:1498: FutureWarning: is_categorical_dtype is deprecated and will be removed in a future version. Use isinstance(dtype, CategoricalDtype) instead\n",
      "  if pd.api.types.is_categorical_dtype(vector):\n",
      "C:\\Users\\Eswar Aditya\\anaconda3\\Lib\\site-packages\\seaborn\\_oldcore.py:1498: FutureWarning: is_categorical_dtype is deprecated and will be removed in a future version. Use isinstance(dtype, CategoricalDtype) instead\n",
      "  if pd.api.types.is_categorical_dtype(vector):\n",
      "C:\\Users\\Eswar Aditya\\anaconda3\\Lib\\site-packages\\seaborn\\_oldcore.py:1498: FutureWarning: is_categorical_dtype is deprecated and will be removed in a future version. Use isinstance(dtype, CategoricalDtype) instead\n",
      "  if pd.api.types.is_categorical_dtype(vector):\n",
      "C:\\Users\\Eswar Aditya\\anaconda3\\Lib\\site-packages\\seaborn\\_oldcore.py:1498: FutureWarning: is_categorical_dtype is deprecated and will be removed in a future version. Use isinstance(dtype, CategoricalDtype) instead\n",
      "  if pd.api.types.is_categorical_dtype(vector):\n",
      "C:\\Users\\Eswar Aditya\\anaconda3\\Lib\\site-packages\\seaborn\\_oldcore.py:1498: FutureWarning: is_categorical_dtype is deprecated and will be removed in a future version. Use isinstance(dtype, CategoricalDtype) instead\n",
      "  if pd.api.types.is_categorical_dtype(vector):\n",
      "C:\\Users\\Eswar Aditya\\anaconda3\\Lib\\site-packages\\seaborn\\_oldcore.py:1498: FutureWarning: is_categorical_dtype is deprecated and will be removed in a future version. Use isinstance(dtype, CategoricalDtype) instead\n",
      "  if pd.api.types.is_categorical_dtype(vector):\n",
      "C:\\Users\\Eswar Aditya\\anaconda3\\Lib\\site-packages\\seaborn\\_oldcore.py:1498: FutureWarning: is_categorical_dtype is deprecated and will be removed in a future version. Use isinstance(dtype, CategoricalDtype) instead\n",
      "  if pd.api.types.is_categorical_dtype(vector):\n",
      "C:\\Users\\Eswar Aditya\\anaconda3\\Lib\\site-packages\\seaborn\\_oldcore.py:1498: FutureWarning: is_categorical_dtype is deprecated and will be removed in a future version. Use isinstance(dtype, CategoricalDtype) instead\n",
      "  if pd.api.types.is_categorical_dtype(vector):\n",
      "C:\\Users\\Eswar Aditya\\anaconda3\\Lib\\site-packages\\seaborn\\_oldcore.py:1498: FutureWarning: is_categorical_dtype is deprecated and will be removed in a future version. Use isinstance(dtype, CategoricalDtype) instead\n",
      "  if pd.api.types.is_categorical_dtype(vector):\n",
      "C:\\Users\\Eswar Aditya\\anaconda3\\Lib\\site-packages\\seaborn\\_oldcore.py:1498: FutureWarning: is_categorical_dtype is deprecated and will be removed in a future version. Use isinstance(dtype, CategoricalDtype) instead\n",
      "  if pd.api.types.is_categorical_dtype(vector):\n",
      "C:\\Users\\Eswar Aditya\\anaconda3\\Lib\\site-packages\\seaborn\\_oldcore.py:1498: FutureWarning: is_categorical_dtype is deprecated and will be removed in a future version. Use isinstance(dtype, CategoricalDtype) instead\n",
      "  if pd.api.types.is_categorical_dtype(vector):\n",
      "C:\\Users\\Eswar Aditya\\anaconda3\\Lib\\site-packages\\seaborn\\_oldcore.py:1498: FutureWarning: is_categorical_dtype is deprecated and will be removed in a future version. Use isinstance(dtype, CategoricalDtype) instead\n",
      "  if pd.api.types.is_categorical_dtype(vector):\n"
     ]
    },
    {
     "data": {
      "text/plain": [
       "<Axes: >"
      ]
     },
     "execution_count": 57,
     "metadata": {},
     "output_type": "execute_result"
    },
    {
     "data": {
      "image/png": "[encoded data removed]",
      "text/plain": [
       "<Figure size 2000x1000 with 1 Axes>"
      ]
     },
     "metadata": {},
     "output_type": "display_data"
    }
   ],
   "source": [
    "plt.figure(figsize=(20,10))\n",
    "sns.boxplot(numcols_mm)"
   ]
  },
  {
   "cell_type": "markdown",
   "id": "26c925f3",
   "metadata": {},
   "source": [
    "# Robust scaler"
   ]
  },
  {
   "cell_type": "code",
   "execution_count": 58,
   "id": "1b0256eb",
   "metadata": {},
   "outputs": [],
   "source": [
    "from sklearn.preprocessing import RobustScaler"
   ]
  },
  {
   "cell_type": "code",
   "execution_count": 59,
   "id": "46764fe7",
   "metadata": {},
   "outputs": [],
   "source": [
    "robust=RobustScaler()"
   ]
  },
  {
   "cell_type": "code",
   "execution_count": 60,
   "id": "1a82da36",
   "metadata": {},
   "outputs": [],
   "source": [
    "numcols_robust=robust.fit_transform(numcols)"
   ]
  },
  {
   "cell_type": "code",
   "execution_count": 61,
   "id": "c5851004",
   "metadata": {},
   "outputs": [],
   "source": [
    "numcols_robust=pd.DataFrame(numcols_robust,columns=numcols.columns)"
   ]
  },
  {
   "cell_type": "code",
   "execution_count": 62,
   "id": "60253b59",
   "metadata": {},
   "outputs": [
    {
     "data": {
      "text/html": [
       "<div>\n",
       "<style scoped>\n",
       "    .dataframe tbody tr th:only-of-type {\n",
       "        vertical-align: middle;\n",
       "    }\n",
       "\n",
       "    .dataframe tbody tr th {\n",
       "        vertical-align: top;\n",
       "    }\n",
       "\n",
       "    .dataframe thead th {\n",
       "        text-align: right;\n",
       "    }\n",
       "</style>\n",
       "<table border=\"1\" class=\"dataframe\">\n",
       "  <thead>\n",
       "    <tr style=\"text-align: right;\">\n",
       "      <th></th>\n",
       "      <th>S.L.R.C</th>\n",
       "      <th>S.L.R.I</th>\n",
       "      <th>A.T.T</th>\n",
       "      <th>L.M.I</th>\n",
       "      <th>L.M.C</th>\n",
       "      <th>S.R</th>\n",
       "      <th>L.J.T.C</th>\n",
       "      <th>L.J.T.I</th>\n",
       "      <th>N.I.C</th>\n",
       "      <th>N.I.I</th>\n",
       "      <th>S.P.I</th>\n",
       "      <th>S.P.C</th>\n",
       "      <th>L.A.C</th>\n",
       "      <th>L.A.I</th>\n",
       "      <th>Q.A</th>\n",
       "      <th>COMPLIANCE Ratio</th>\n",
       "      <th>Interview duration</th>\n",
       "    </tr>\n",
       "  </thead>\n",
       "  <tbody>\n",
       "    <tr>\n",
       "      <th>0</th>\n",
       "      <td>0.92</td>\n",
       "      <td>-0.92</td>\n",
       "      <td>-0.326923</td>\n",
       "      <td>0.195122</td>\n",
       "      <td>0.292683</td>\n",
       "      <td>-0.500000</td>\n",
       "      <td>-0.407895</td>\n",
       "      <td>-0.652174</td>\n",
       "      <td>0.090909</td>\n",
       "      <td>0.823529</td>\n",
       "      <td>-0.371429</td>\n",
       "      <td>0.000000</td>\n",
       "      <td>0.625</td>\n",
       "      <td>0.444444</td>\n",
       "      <td>0.666667</td>\n",
       "      <td>0.94</td>\n",
       "      <td>0.000000</td>\n",
       "    </tr>\n",
       "    <tr>\n",
       "      <th>1</th>\n",
       "      <td>-0.32</td>\n",
       "      <td>0.32</td>\n",
       "      <td>-0.365385</td>\n",
       "      <td>-0.658537</td>\n",
       "      <td>-0.902439</td>\n",
       "      <td>-0.346154</td>\n",
       "      <td>-0.375000</td>\n",
       "      <td>0.040134</td>\n",
       "      <td>-0.303030</td>\n",
       "      <td>0.705882</td>\n",
       "      <td>-0.657143</td>\n",
       "      <td>0.116279</td>\n",
       "      <td>-0.375</td>\n",
       "      <td>0.444444</td>\n",
       "      <td>0.000000</td>\n",
       "      <td>0.06</td>\n",
       "      <td>-0.173913</td>\n",
       "    </tr>\n",
       "    <tr>\n",
       "      <th>2</th>\n",
       "      <td>0.24</td>\n",
       "      <td>-0.24</td>\n",
       "      <td>-0.192308</td>\n",
       "      <td>-0.073171</td>\n",
       "      <td>-0.146341</td>\n",
       "      <td>0.346154</td>\n",
       "      <td>-0.644737</td>\n",
       "      <td>-0.782609</td>\n",
       "      <td>-0.363636</td>\n",
       "      <td>-0.705882</td>\n",
       "      <td>0.057143</td>\n",
       "      <td>-0.302326</td>\n",
       "      <td>-0.500</td>\n",
       "      <td>-0.444444</td>\n",
       "      <td>-0.333333</td>\n",
       "      <td>-0.40</td>\n",
       "      <td>0.913043</td>\n",
       "    </tr>\n",
       "    <tr>\n",
       "      <th>3</th>\n",
       "      <td>-0.24</td>\n",
       "      <td>0.24</td>\n",
       "      <td>0.442308</td>\n",
       "      <td>-0.926829</td>\n",
       "      <td>0.536585</td>\n",
       "      <td>0.153846</td>\n",
       "      <td>-0.230263</td>\n",
       "      <td>-0.451505</td>\n",
       "      <td>0.727273</td>\n",
       "      <td>0.500000</td>\n",
       "      <td>0.285714</td>\n",
       "      <td>0.651163</td>\n",
       "      <td>0.250</td>\n",
       "      <td>-0.111111</td>\n",
       "      <td>1.000000</td>\n",
       "      <td>-0.54</td>\n",
       "      <td>-0.086957</td>\n",
       "    </tr>\n",
       "    <tr>\n",
       "      <th>4</th>\n",
       "      <td>-0.72</td>\n",
       "      <td>0.72</td>\n",
       "      <td>-0.500000</td>\n",
       "      <td>-0.878049</td>\n",
       "      <td>0.926829</td>\n",
       "      <td>0.807692</td>\n",
       "      <td>0.263158</td>\n",
       "      <td>0.311037</td>\n",
       "      <td>-0.939394</td>\n",
       "      <td>-0.176471</td>\n",
       "      <td>-0.542857</td>\n",
       "      <td>0.627907</td>\n",
       "      <td>0.625</td>\n",
       "      <td>-0.444444</td>\n",
       "      <td>-0.333333</td>\n",
       "      <td>0.44</td>\n",
       "      <td>1.000000</td>\n",
       "    </tr>\n",
       "  </tbody>\n",
       "</table>\n",
       "</div>"
      ],
      "text/plain": [
       "   S.L.R.C  S.L.R.I     A.T.T     L.M.I     L.M.C       S.R   L.J.T.C  \\\n",
       "0     0.92    -0.92 -0.326923  0.195122  0.292683 -0.500000 -0.407895   \n",
       "1    -0.32     0.32 -0.365385 -0.658537 -0.902439 -0.346154 -0.375000   \n",
       "2     0.24    -0.24 -0.192308 -0.073171 -0.146341  0.346154 -0.644737   \n",
       "3    -0.24     0.24  0.442308 -0.926829  0.536585  0.153846 -0.230263   \n",
       "4    -0.72     0.72 -0.500000 -0.878049  0.926829  0.807692  0.263158   \n",
       "\n",
       "    L.J.T.I     N.I.C     N.I.I     S.P.I     S.P.C  L.A.C     L.A.I  \\\n",
       "0 -0.652174  0.090909  0.823529 -0.371429  0.000000  0.625  0.444444   \n",
       "1  0.040134 -0.303030  0.705882 -0.657143  0.116279 -0.375  0.444444   \n",
       "2 -0.782609 -0.363636 -0.705882  0.057143 -0.302326 -0.500 -0.444444   \n",
       "3 -0.451505  0.727273  0.500000  0.285714  0.651163  0.250 -0.111111   \n",
       "4  0.311037 -0.939394 -0.176471 -0.542857  0.627907  0.625 -0.444444   \n",
       "\n",
       "        Q.A  COMPLIANCE Ratio  Interview duration  \n",
       "0  0.666667              0.94            0.000000  \n",
       "1  0.000000              0.06           -0.173913  \n",
       "2 -0.333333             -0.40            0.913043  \n",
       "3  1.000000             -0.54           -0.086957  \n",
       "4 -0.333333              0.44            1.000000  "
      ]
     },
     "execution_count": 62,
     "metadata": {},
     "output_type": "execute_result"
    }
   ],
   "source": [
    "numcols_robust.head()"
   ]
  },
  {
   "cell_type": "code",
   "execution_count": 63,
   "id": "f3e326ff",
   "metadata": {},
   "outputs": [
    {
     "name": "stderr",
     "output_type": "stream",
     "text": [
      "C:\\Users\\Eswar Aditya\\anaconda3\\Lib\\site-packages\\seaborn\\_oldcore.py:1498: FutureWarning: is_categorical_dtype is deprecated and will be removed in a future version. Use isinstance(dtype, CategoricalDtype) instead\n",
      "  if pd.api.types.is_categorical_dtype(vector):\n",
      "C:\\Users\\Eswar Aditya\\anaconda3\\Lib\\site-packages\\seaborn\\_oldcore.py:1498: FutureWarning: is_categorical_dtype is deprecated and will be removed in a future version. Use isinstance(dtype, CategoricalDtype) instead\n",
      "  if pd.api.types.is_categorical_dtype(vector):\n",
      "C:\\Users\\Eswar Aditya\\anaconda3\\Lib\\site-packages\\seaborn\\_oldcore.py:1498: FutureWarning: is_categorical_dtype is deprecated and will be removed in a future version. Use isinstance(dtype, CategoricalDtype) instead\n",
      "  if pd.api.types.is_categorical_dtype(vector):\n",
      "C:\\Users\\Eswar Aditya\\anaconda3\\Lib\\site-packages\\seaborn\\_oldcore.py:1498: FutureWarning: is_categorical_dtype is deprecated and will be removed in a future version. Use isinstance(dtype, CategoricalDtype) instead\n",
      "  if pd.api.types.is_categorical_dtype(vector):\n",
      "C:\\Users\\Eswar Aditya\\anaconda3\\Lib\\site-packages\\seaborn\\_oldcore.py:1498: FutureWarning: is_categorical_dtype is deprecated and will be removed in a future version. Use isinstance(dtype, CategoricalDtype) instead\n",
      "  if pd.api.types.is_categorical_dtype(vector):\n",
      "C:\\Users\\Eswar Aditya\\anaconda3\\Lib\\site-packages\\seaborn\\_oldcore.py:1498: FutureWarning: is_categorical_dtype is deprecated and will be removed in a future version. Use isinstance(dtype, CategoricalDtype) instead\n",
      "  if pd.api.types.is_categorical_dtype(vector):\n",
      "C:\\Users\\Eswar Aditya\\anaconda3\\Lib\\site-packages\\seaborn\\_oldcore.py:1498: FutureWarning: is_categorical_dtype is deprecated and will be removed in a future version. Use isinstance(dtype, CategoricalDtype) instead\n",
      "  if pd.api.types.is_categorical_dtype(vector):\n",
      "C:\\Users\\Eswar Aditya\\anaconda3\\Lib\\site-packages\\seaborn\\_oldcore.py:1498: FutureWarning: is_categorical_dtype is deprecated and will be removed in a future version. Use isinstance(dtype, CategoricalDtype) instead\n",
      "  if pd.api.types.is_categorical_dtype(vector):\n",
      "C:\\Users\\Eswar Aditya\\anaconda3\\Lib\\site-packages\\seaborn\\_oldcore.py:1498: FutureWarning: is_categorical_dtype is deprecated and will be removed in a future version. Use isinstance(dtype, CategoricalDtype) instead\n",
      "  if pd.api.types.is_categorical_dtype(vector):\n",
      "C:\\Users\\Eswar Aditya\\anaconda3\\Lib\\site-packages\\seaborn\\_oldcore.py:1498: FutureWarning: is_categorical_dtype is deprecated and will be removed in a future version. Use isinstance(dtype, CategoricalDtype) instead\n",
      "  if pd.api.types.is_categorical_dtype(vector):\n",
      "C:\\Users\\Eswar Aditya\\anaconda3\\Lib\\site-packages\\seaborn\\_oldcore.py:1498: FutureWarning: is_categorical_dtype is deprecated and will be removed in a future version. Use isinstance(dtype, CategoricalDtype) instead\n",
      "  if pd.api.types.is_categorical_dtype(vector):\n",
      "C:\\Users\\Eswar Aditya\\anaconda3\\Lib\\site-packages\\seaborn\\_oldcore.py:1498: FutureWarning: is_categorical_dtype is deprecated and will be removed in a future version. Use isinstance(dtype, CategoricalDtype) instead\n",
      "  if pd.api.types.is_categorical_dtype(vector):\n",
      "C:\\Users\\Eswar Aditya\\anaconda3\\Lib\\site-packages\\seaborn\\_oldcore.py:1498: FutureWarning: is_categorical_dtype is deprecated and will be removed in a future version. Use isinstance(dtype, CategoricalDtype) instead\n",
      "  if pd.api.types.is_categorical_dtype(vector):\n",
      "C:\\Users\\Eswar Aditya\\anaconda3\\Lib\\site-packages\\seaborn\\_oldcore.py:1498: FutureWarning: is_categorical_dtype is deprecated and will be removed in a future version. Use isinstance(dtype, CategoricalDtype) instead\n",
      "  if pd.api.types.is_categorical_dtype(vector):\n",
      "C:\\Users\\Eswar Aditya\\anaconda3\\Lib\\site-packages\\seaborn\\_oldcore.py:1498: FutureWarning: is_categorical_dtype is deprecated and will be removed in a future version. Use isinstance(dtype, CategoricalDtype) instead\n",
      "  if pd.api.types.is_categorical_dtype(vector):\n",
      "C:\\Users\\Eswar Aditya\\anaconda3\\Lib\\site-packages\\seaborn\\_oldcore.py:1498: FutureWarning: is_categorical_dtype is deprecated and will be removed in a future version. Use isinstance(dtype, CategoricalDtype) instead\n",
      "  if pd.api.types.is_categorical_dtype(vector):\n",
      "C:\\Users\\Eswar Aditya\\anaconda3\\Lib\\site-packages\\seaborn\\_oldcore.py:1498: FutureWarning: is_categorical_dtype is deprecated and will be removed in a future version. Use isinstance(dtype, CategoricalDtype) instead\n",
      "  if pd.api.types.is_categorical_dtype(vector):\n"
     ]
    },
    {
     "data": {
      "text/plain": [
       "<Axes: >"
      ]
     },
     "execution_count": 63,
     "metadata": {},
     "output_type": "execute_result"
    },
    {
     "data": {
      "image/png": "[encoded data removed]",
      "text/plain": [
       "<Figure size 2000x1000 with 1 Axes>"
      ]
     },
     "metadata": {},
     "output_type": "display_data"
    }
   ],
   "source": [
    "plt.figure(figsize=(20,10))\n",
    "sns.boxplot(numcols_robust)"
   ]
  },
  {
   "cell_type": "code",
   "execution_count": null,
   "id": "6531776c",
   "metadata": {},
   "outputs": [],
   "source": []
  },
  {
   "cell_type": "markdown",
   "id": "c96e1e67",
   "metadata": {},
   "source": [
    "## Dummy encoding for objcols"
   ]
  },
  {
   "cell_type": "code",
   "execution_count": 64,
   "id": "962e7466",
   "metadata": {},
   "outputs": [
    {
     "data": {
      "text/html": [
       "<div>\n",
       "<style scoped>\n",
       "    .dataframe tbody tr th:only-of-type {\n",
       "        vertical-align: middle;\n",
       "    }\n",
       "\n",
       "    .dataframe tbody tr th {\n",
       "        vertical-align: top;\n",
       "    }\n",
       "\n",
       "    .dataframe thead th {\n",
       "        text-align: right;\n",
       "    }\n",
       "</style>\n",
       "<table border=\"1\" class=\"dataframe\">\n",
       "  <thead>\n",
       "    <tr style=\"text-align: right;\">\n",
       "      <th></th>\n",
       "      <th>Profile_Account Manager</th>\n",
       "      <th>Profile_Data Scientist</th>\n",
       "      <th>Profile_Developer</th>\n",
       "      <th>Profile_HR</th>\n",
       "      <th>Profile_Marketing</th>\n",
       "      <th>Profile_Product Manager</th>\n",
       "      <th>Profile_Program Manager</th>\n",
       "      <th>Profile_QA Automation</th>\n",
       "      <th>Profile_QA Manual</th>\n",
       "      <th>Profile_Sales</th>\n",
       "      <th>...</th>\n",
       "      <th>P.E.I_Positive</th>\n",
       "      <th>P.E.C_Negative</th>\n",
       "      <th>P.E.C_Neutral</th>\n",
       "      <th>P.E.C_Positive</th>\n",
       "      <th>Interviewer Intro_No</th>\n",
       "      <th>Interviewer Intro_Yes</th>\n",
       "      <th>Candidate into_No</th>\n",
       "      <th>Candidate into_Yes</th>\n",
       "      <th>Opp to ask_No</th>\n",
       "      <th>Opp to ask_Yes</th>\n",
       "    </tr>\n",
       "  </thead>\n",
       "  <tbody>\n",
       "    <tr>\n",
       "      <th>0</th>\n",
       "      <td>False</td>\n",
       "      <td>False</td>\n",
       "      <td>True</td>\n",
       "      <td>False</td>\n",
       "      <td>False</td>\n",
       "      <td>False</td>\n",
       "      <td>False</td>\n",
       "      <td>False</td>\n",
       "      <td>False</td>\n",
       "      <td>False</td>\n",
       "      <td>...</td>\n",
       "      <td>False</td>\n",
       "      <td>False</td>\n",
       "      <td>True</td>\n",
       "      <td>False</td>\n",
       "      <td>True</td>\n",
       "      <td>False</td>\n",
       "      <td>False</td>\n",
       "      <td>True</td>\n",
       "      <td>False</td>\n",
       "      <td>True</td>\n",
       "    </tr>\n",
       "    <tr>\n",
       "      <th>1</th>\n",
       "      <td>False</td>\n",
       "      <td>False</td>\n",
       "      <td>False</td>\n",
       "      <td>False</td>\n",
       "      <td>False</td>\n",
       "      <td>False</td>\n",
       "      <td>False</td>\n",
       "      <td>False</td>\n",
       "      <td>False</td>\n",
       "      <td>True</td>\n",
       "      <td>...</td>\n",
       "      <td>False</td>\n",
       "      <td>True</td>\n",
       "      <td>False</td>\n",
       "      <td>False</td>\n",
       "      <td>True</td>\n",
       "      <td>False</td>\n",
       "      <td>True</td>\n",
       "      <td>False</td>\n",
       "      <td>False</td>\n",
       "      <td>True</td>\n",
       "    </tr>\n",
       "    <tr>\n",
       "      <th>2</th>\n",
       "      <td>False</td>\n",
       "      <td>False</td>\n",
       "      <td>False</td>\n",
       "      <td>False</td>\n",
       "      <td>False</td>\n",
       "      <td>False</td>\n",
       "      <td>True</td>\n",
       "      <td>False</td>\n",
       "      <td>False</td>\n",
       "      <td>False</td>\n",
       "      <td>...</td>\n",
       "      <td>True</td>\n",
       "      <td>False</td>\n",
       "      <td>False</td>\n",
       "      <td>True</td>\n",
       "      <td>True</td>\n",
       "      <td>False</td>\n",
       "      <td>False</td>\n",
       "      <td>True</td>\n",
       "      <td>True</td>\n",
       "      <td>False</td>\n",
       "    </tr>\n",
       "    <tr>\n",
       "      <th>3</th>\n",
       "      <td>False</td>\n",
       "      <td>False</td>\n",
       "      <td>False</td>\n",
       "      <td>False</td>\n",
       "      <td>True</td>\n",
       "      <td>False</td>\n",
       "      <td>False</td>\n",
       "      <td>False</td>\n",
       "      <td>False</td>\n",
       "      <td>False</td>\n",
       "      <td>...</td>\n",
       "      <td>True</td>\n",
       "      <td>True</td>\n",
       "      <td>False</td>\n",
       "      <td>False</td>\n",
       "      <td>True</td>\n",
       "      <td>False</td>\n",
       "      <td>False</td>\n",
       "      <td>True</td>\n",
       "      <td>True</td>\n",
       "      <td>False</td>\n",
       "    </tr>\n",
       "    <tr>\n",
       "      <th>4</th>\n",
       "      <td>False</td>\n",
       "      <td>False</td>\n",
       "      <td>False</td>\n",
       "      <td>False</td>\n",
       "      <td>False</td>\n",
       "      <td>False</td>\n",
       "      <td>False</td>\n",
       "      <td>True</td>\n",
       "      <td>False</td>\n",
       "      <td>False</td>\n",
       "      <td>...</td>\n",
       "      <td>False</td>\n",
       "      <td>False</td>\n",
       "      <td>False</td>\n",
       "      <td>True</td>\n",
       "      <td>False</td>\n",
       "      <td>True</td>\n",
       "      <td>False</td>\n",
       "      <td>True</td>\n",
       "      <td>True</td>\n",
       "      <td>False</td>\n",
       "    </tr>\n",
       "  </tbody>\n",
       "</table>\n",
       "<p>5 rows × 22 columns</p>\n",
       "</div>"
      ],
      "text/plain": [
       "   Profile_Account Manager  Profile_Data Scientist  Profile_Developer  \\\n",
       "0                    False                   False               True   \n",
       "1                    False                   False              False   \n",
       "2                    False                   False              False   \n",
       "3                    False                   False              False   \n",
       "4                    False                   False              False   \n",
       "\n",
       "   Profile_HR  Profile_Marketing  Profile_Product Manager  \\\n",
       "0       False              False                    False   \n",
       "1       False              False                    False   \n",
       "2       False              False                    False   \n",
       "3       False               True                    False   \n",
       "4       False              False                    False   \n",
       "\n",
       "   Profile_Program Manager  Profile_QA Automation  Profile_QA Manual  \\\n",
       "0                    False                  False              False   \n",
       "1                    False                  False              False   \n",
       "2                     True                  False              False   \n",
       "3                    False                  False              False   \n",
       "4                    False                   True              False   \n",
       "\n",
       "   Profile_Sales  ...  P.E.I_Positive  P.E.C_Negative  P.E.C_Neutral  \\\n",
       "0          False  ...           False           False           True   \n",
       "1           True  ...           False            True          False   \n",
       "2          False  ...            True           False          False   \n",
       "3          False  ...            True            True          False   \n",
       "4          False  ...           False           False          False   \n",
       "\n",
       "   P.E.C_Positive  Interviewer Intro_No  Interviewer Intro_Yes  \\\n",
       "0           False                  True                  False   \n",
       "1           False                  True                  False   \n",
       "2            True                  True                  False   \n",
       "3           False                  True                  False   \n",
       "4            True                 False                   True   \n",
       "\n",
       "   Candidate into_No  Candidate into_Yes  Opp to ask_No  Opp to ask_Yes  \n",
       "0              False                True          False            True  \n",
       "1               True               False          False            True  \n",
       "2              False                True           True           False  \n",
       "3              False                True           True           False  \n",
       "4              False                True           True           False  \n",
       "\n",
       "[5 rows x 22 columns]"
      ]
     },
     "execution_count": 64,
     "metadata": {},
     "output_type": "execute_result"
    }
   ],
   "source": [
    "objcols_dummy=pd.get_dummies(objcols)\n",
    "objcols_dummy.head()"
   ]
  },
  {
   "cell_type": "code",
   "execution_count": 65,
   "id": "f79ccf79",
   "metadata": {},
   "outputs": [
    {
     "name": "stdout",
     "output_type": "stream",
     "text": [
      "<class 'pandas.core.frame.DataFrame'>\n",
      "Index: 7000 entries, 0 to 1199\n",
      "Data columns (total 22 columns):\n",
      " #   Column                   Non-Null Count  Dtype\n",
      "---  ------                   --------------  -----\n",
      " 0   Profile_Account Manager  7000 non-null   bool \n",
      " 1   Profile_Data Scientist   7000 non-null   bool \n",
      " 2   Profile_Developer        7000 non-null   bool \n",
      " 3   Profile_HR               7000 non-null   bool \n",
      " 4   Profile_Marketing        7000 non-null   bool \n",
      " 5   Profile_Product Manager  7000 non-null   bool \n",
      " 6   Profile_Program Manager  7000 non-null   bool \n",
      " 7   Profile_QA Automation    7000 non-null   bool \n",
      " 8   Profile_QA Manual        7000 non-null   bool \n",
      " 9   Profile_Sales            7000 non-null   bool \n",
      " 10  P.E.I_Negative           7000 non-null   bool \n",
      " 11  P.E.I_Neutral            7000 non-null   bool \n",
      " 12  P.E.I_Positive           7000 non-null   bool \n",
      " 13  P.E.C_Negative           7000 non-null   bool \n",
      " 14  P.E.C_Neutral            7000 non-null   bool \n",
      " 15  P.E.C_Positive           7000 non-null   bool \n",
      " 16  Interviewer Intro_No     7000 non-null   bool \n",
      " 17  Interviewer Intro_Yes    7000 non-null   bool \n",
      " 18  Candidate into_No        7000 non-null   bool \n",
      " 19  Candidate into_Yes       7000 non-null   bool \n",
      " 20  Opp to ask_No            7000 non-null   bool \n",
      " 21  Opp to ask_Yes           7000 non-null   bool \n",
      "dtypes: bool(22)\n",
      "memory usage: 205.1 KB\n"
     ]
    }
   ],
   "source": [
    "objcols_dummy.info()"
   ]
  },
  {
   "cell_type": "code",
   "execution_count": 66,
   "id": "1e21d18b",
   "metadata": {},
   "outputs": [],
   "source": [
    "objcols_dummy=objcols_dummy.replace({True:1,False:0})"
   ]
  },
  {
   "cell_type": "code",
   "execution_count": 67,
   "id": "52f1a1ab",
   "metadata": {},
   "outputs": [
    {
     "data": {
      "text/html": [
       "<div>\n",
       "<style scoped>\n",
       "    .dataframe tbody tr th:only-of-type {\n",
       "        vertical-align: middle;\n",
       "    }\n",
       "\n",
       "    .dataframe tbody tr th {\n",
       "        vertical-align: top;\n",
       "    }\n",
       "\n",
       "    .dataframe thead th {\n",
       "        text-align: right;\n",
       "    }\n",
       "</style>\n",
       "<table border=\"1\" class=\"dataframe\">\n",
       "  <thead>\n",
       "    <tr style=\"text-align: right;\">\n",
       "      <th></th>\n",
       "      <th>Profile_Account Manager</th>\n",
       "      <th>Profile_Data Scientist</th>\n",
       "      <th>Profile_Developer</th>\n",
       "      <th>Profile_HR</th>\n",
       "      <th>Profile_Marketing</th>\n",
       "      <th>Profile_Product Manager</th>\n",
       "      <th>Profile_Program Manager</th>\n",
       "      <th>Profile_QA Automation</th>\n",
       "      <th>Profile_QA Manual</th>\n",
       "      <th>Profile_Sales</th>\n",
       "      <th>...</th>\n",
       "      <th>P.E.I_Positive</th>\n",
       "      <th>P.E.C_Negative</th>\n",
       "      <th>P.E.C_Neutral</th>\n",
       "      <th>P.E.C_Positive</th>\n",
       "      <th>Interviewer Intro_No</th>\n",
       "      <th>Interviewer Intro_Yes</th>\n",
       "      <th>Candidate into_No</th>\n",
       "      <th>Candidate into_Yes</th>\n",
       "      <th>Opp to ask_No</th>\n",
       "      <th>Opp to ask_Yes</th>\n",
       "    </tr>\n",
       "  </thead>\n",
       "  <tbody>\n",
       "    <tr>\n",
       "      <th>0</th>\n",
       "      <td>0</td>\n",
       "      <td>0</td>\n",
       "      <td>1</td>\n",
       "      <td>0</td>\n",
       "      <td>0</td>\n",
       "      <td>0</td>\n",
       "      <td>0</td>\n",
       "      <td>0</td>\n",
       "      <td>0</td>\n",
       "      <td>0</td>\n",
       "      <td>...</td>\n",
       "      <td>0</td>\n",
       "      <td>0</td>\n",
       "      <td>1</td>\n",
       "      <td>0</td>\n",
       "      <td>1</td>\n",
       "      <td>0</td>\n",
       "      <td>0</td>\n",
       "      <td>1</td>\n",
       "      <td>0</td>\n",
       "      <td>1</td>\n",
       "    </tr>\n",
       "    <tr>\n",
       "      <th>1</th>\n",
       "      <td>0</td>\n",
       "      <td>0</td>\n",
       "      <td>0</td>\n",
       "      <td>0</td>\n",
       "      <td>0</td>\n",
       "      <td>0</td>\n",
       "      <td>0</td>\n",
       "      <td>0</td>\n",
       "      <td>0</td>\n",
       "      <td>1</td>\n",
       "      <td>...</td>\n",
       "      <td>0</td>\n",
       "      <td>1</td>\n",
       "      <td>0</td>\n",
       "      <td>0</td>\n",
       "      <td>1</td>\n",
       "      <td>0</td>\n",
       "      <td>1</td>\n",
       "      <td>0</td>\n",
       "      <td>0</td>\n",
       "      <td>1</td>\n",
       "    </tr>\n",
       "    <tr>\n",
       "      <th>2</th>\n",
       "      <td>0</td>\n",
       "      <td>0</td>\n",
       "      <td>0</td>\n",
       "      <td>0</td>\n",
       "      <td>0</td>\n",
       "      <td>0</td>\n",
       "      <td>1</td>\n",
       "      <td>0</td>\n",
       "      <td>0</td>\n",
       "      <td>0</td>\n",
       "      <td>...</td>\n",
       "      <td>1</td>\n",
       "      <td>0</td>\n",
       "      <td>0</td>\n",
       "      <td>1</td>\n",
       "      <td>1</td>\n",
       "      <td>0</td>\n",
       "      <td>0</td>\n",
       "      <td>1</td>\n",
       "      <td>1</td>\n",
       "      <td>0</td>\n",
       "    </tr>\n",
       "    <tr>\n",
       "      <th>3</th>\n",
       "      <td>0</td>\n",
       "      <td>0</td>\n",
       "      <td>0</td>\n",
       "      <td>0</td>\n",
       "      <td>1</td>\n",
       "      <td>0</td>\n",
       "      <td>0</td>\n",
       "      <td>0</td>\n",
       "      <td>0</td>\n",
       "      <td>0</td>\n",
       "      <td>...</td>\n",
       "      <td>1</td>\n",
       "      <td>1</td>\n",
       "      <td>0</td>\n",
       "      <td>0</td>\n",
       "      <td>1</td>\n",
       "      <td>0</td>\n",
       "      <td>0</td>\n",
       "      <td>1</td>\n",
       "      <td>1</td>\n",
       "      <td>0</td>\n",
       "    </tr>\n",
       "    <tr>\n",
       "      <th>4</th>\n",
       "      <td>0</td>\n",
       "      <td>0</td>\n",
       "      <td>0</td>\n",
       "      <td>0</td>\n",
       "      <td>0</td>\n",
       "      <td>0</td>\n",
       "      <td>0</td>\n",
       "      <td>1</td>\n",
       "      <td>0</td>\n",
       "      <td>0</td>\n",
       "      <td>...</td>\n",
       "      <td>0</td>\n",
       "      <td>0</td>\n",
       "      <td>0</td>\n",
       "      <td>1</td>\n",
       "      <td>0</td>\n",
       "      <td>1</td>\n",
       "      <td>0</td>\n",
       "      <td>1</td>\n",
       "      <td>1</td>\n",
       "      <td>0</td>\n",
       "    </tr>\n",
       "  </tbody>\n",
       "</table>\n",
       "<p>5 rows × 22 columns</p>\n",
       "</div>"
      ],
      "text/plain": [
       "   Profile_Account Manager  Profile_Data Scientist  Profile_Developer  \\\n",
       "0                        0                       0                  1   \n",
       "1                        0                       0                  0   \n",
       "2                        0                       0                  0   \n",
       "3                        0                       0                  0   \n",
       "4                        0                       0                  0   \n",
       "\n",
       "   Profile_HR  Profile_Marketing  Profile_Product Manager  \\\n",
       "0           0                  0                        0   \n",
       "1           0                  0                        0   \n",
       "2           0                  0                        0   \n",
       "3           0                  1                        0   \n",
       "4           0                  0                        0   \n",
       "\n",
       "   Profile_Program Manager  Profile_QA Automation  Profile_QA Manual  \\\n",
       "0                        0                      0                  0   \n",
       "1                        0                      0                  0   \n",
       "2                        1                      0                  0   \n",
       "3                        0                      0                  0   \n",
       "4                        0                      1                  0   \n",
       "\n",
       "   Profile_Sales  ...  P.E.I_Positive  P.E.C_Negative  P.E.C_Neutral  \\\n",
       "0              0  ...               0               0              1   \n",
       "1              1  ...               0               1              0   \n",
       "2              0  ...               1               0              0   \n",
       "3              0  ...               1               1              0   \n",
       "4              0  ...               0               0              0   \n",
       "\n",
       "   P.E.C_Positive  Interviewer Intro_No  Interviewer Intro_Yes  \\\n",
       "0               0                     1                      0   \n",
       "1               0                     1                      0   \n",
       "2               1                     1                      0   \n",
       "3               0                     1                      0   \n",
       "4               1                     0                      1   \n",
       "\n",
       "   Candidate into_No  Candidate into_Yes  Opp to ask_No  Opp to ask_Yes  \n",
       "0                  0                   1              0               1  \n",
       "1                  1                   0              0               1  \n",
       "2                  0                   1              1               0  \n",
       "3                  0                   1              1               0  \n",
       "4                  0                   1              1               0  \n",
       "\n",
       "[5 rows x 22 columns]"
      ]
     },
     "execution_count": 67,
     "metadata": {},
     "output_type": "execute_result"
    }
   ],
   "source": [
    "objcols_dummy.head()"
   ]
  },
  {
   "cell_type": "code",
   "execution_count": 68,
   "id": "198544c8",
   "metadata": {},
   "outputs": [
    {
     "name": "stdout",
     "output_type": "stream",
     "text": [
      "<class 'pandas.core.frame.DataFrame'>\n",
      "RangeIndex: 7000 entries, 0 to 6999\n",
      "Data columns (total 43 columns):\n",
      " #   Column                   Non-Null Count  Dtype  \n",
      "---  ------                   --------------  -----  \n",
      " 0   index                    7000 non-null   int64  \n",
      " 1   S.L.R.C                  7000 non-null   float64\n",
      " 2   S.L.R.I                  7000 non-null   float64\n",
      " 3   A.T.T                    7000 non-null   float64\n",
      " 4   L.M.I                    7000 non-null   float64\n",
      " 5   L.M.C                    7000 non-null   float64\n",
      " 6   S.R                      7000 non-null   float64\n",
      " 7   L.J.T.C                  7000 non-null   float64\n",
      " 8   L.J.T.I                  7000 non-null   float64\n",
      " 9   N.I.C                    7000 non-null   float64\n",
      " 10  N.I.I                    7000 non-null   float64\n",
      " 11  S.P.I                    7000 non-null   float64\n",
      " 12  S.P.C                    7000 non-null   float64\n",
      " 13  L.A.C                    7000 non-null   float64\n",
      " 14  L.A.I                    7000 non-null   float64\n",
      " 15  Q.A                      7000 non-null   float64\n",
      " 16  COMPLIANCE Ratio         7000 non-null   float64\n",
      " 17  Interview duration       7000 non-null   float64\n",
      " 18  index                    7000 non-null   int64  \n",
      " 19  Profile_Account Manager  7000 non-null   int64  \n",
      " 20  Profile_Data Scientist   7000 non-null   int64  \n",
      " 21  Profile_Developer        7000 non-null   int64  \n",
      " 22  Profile_HR               7000 non-null   int64  \n",
      " 23  Profile_Marketing        7000 non-null   int64  \n",
      " 24  Profile_Product Manager  7000 non-null   int64  \n",
      " 25  Profile_Program Manager  7000 non-null   int64  \n",
      " 26  Profile_QA Automation    7000 non-null   int64  \n",
      " 27  Profile_QA Manual        7000 non-null   int64  \n",
      " 28  Profile_Sales            7000 non-null   int64  \n",
      " 29  P.E.I_Negative           7000 non-null   int64  \n",
      " 30  P.E.I_Neutral            7000 non-null   int64  \n",
      " 31  P.E.I_Positive           7000 non-null   int64  \n",
      " 32  P.E.C_Negative           7000 non-null   int64  \n",
      " 33  P.E.C_Neutral            7000 non-null   int64  \n",
      " 34  P.E.C_Positive           7000 non-null   int64  \n",
      " 35  Interviewer Intro_No     7000 non-null   int64  \n",
      " 36  Interviewer Intro_Yes    7000 non-null   int64  \n",
      " 37  Candidate into_No        7000 non-null   int64  \n",
      " 38  Candidate into_Yes       7000 non-null   int64  \n",
      " 39  Opp to ask_No            7000 non-null   int64  \n",
      " 40  Opp to ask_Yes           7000 non-null   int64  \n",
      " 41  index                    7000 non-null   int64  \n",
      " 42  Status                   7000 non-null   object \n",
      "dtypes: float64(17), int64(25), object(1)\n",
      "memory usage: 2.3+ MB\n"
     ]
    }
   ],
   "source": [
    "combinedf_clean=pd.concat([numcols_mm.reset_index(),objcols_dummy.reset_index(),combinedf.Status.reset_index()],axis=1)\n",
    "combinedf_clean.info()"
   ]
  },
  {
   "cell_type": "code",
   "execution_count": 69,
   "id": "00529c65",
   "metadata": {},
   "outputs": [
    {
     "name": "stdout",
     "output_type": "stream",
     "text": [
      "<class 'pandas.core.frame.DataFrame'>\n",
      "RangeIndex: 7000 entries, 0 to 6999\n",
      "Data columns (total 40 columns):\n",
      " #   Column                   Non-Null Count  Dtype  \n",
      "---  ------                   --------------  -----  \n",
      " 0   S.L.R.C                  7000 non-null   float64\n",
      " 1   S.L.R.I                  7000 non-null   float64\n",
      " 2   A.T.T                    7000 non-null   float64\n",
      " 3   L.M.I                    7000 non-null   float64\n",
      " 4   L.M.C                    7000 non-null   float64\n",
      " 5   S.R                      7000 non-null   float64\n",
      " 6   L.J.T.C                  7000 non-null   float64\n",
      " 7   L.J.T.I                  7000 non-null   float64\n",
      " 8   N.I.C                    7000 non-null   float64\n",
      " 9   N.I.I                    7000 non-null   float64\n",
      " 10  S.P.I                    7000 non-null   float64\n",
      " 11  S.P.C                    7000 non-null   float64\n",
      " 12  L.A.C                    7000 non-null   float64\n",
      " 13  L.A.I                    7000 non-null   float64\n",
      " 14  Q.A                      7000 non-null   float64\n",
      " 15  COMPLIANCE Ratio         7000 non-null   float64\n",
      " 16  Interview duration       7000 non-null   float64\n",
      " 17  Profile_Account Manager  7000 non-null   int64  \n",
      " 18  Profile_Data Scientist   7000 non-null   int64  \n",
      " 19  Profile_Developer        7000 non-null   int64  \n",
      " 20  Profile_HR               7000 non-null   int64  \n",
      " 21  Profile_Marketing        7000 non-null   int64  \n",
      " 22  Profile_Product Manager  7000 non-null   int64  \n",
      " 23  Profile_Program Manager  7000 non-null   int64  \n",
      " 24  Profile_QA Automation    7000 non-null   int64  \n",
      " 25  Profile_QA Manual        7000 non-null   int64  \n",
      " 26  Profile_Sales            7000 non-null   int64  \n",
      " 27  P.E.I_Negative           7000 non-null   int64  \n",
      " 28  P.E.I_Neutral            7000 non-null   int64  \n",
      " 29  P.E.I_Positive           7000 non-null   int64  \n",
      " 30  P.E.C_Negative           7000 non-null   int64  \n",
      " 31  P.E.C_Neutral            7000 non-null   int64  \n",
      " 32  P.E.C_Positive           7000 non-null   int64  \n",
      " 33  Interviewer Intro_No     7000 non-null   int64  \n",
      " 34  Interviewer Intro_Yes    7000 non-null   int64  \n",
      " 35  Candidate into_No        7000 non-null   int64  \n",
      " 36  Candidate into_Yes       7000 non-null   int64  \n",
      " 37  Opp to ask_No            7000 non-null   int64  \n",
      " 38  Opp to ask_Yes           7000 non-null   int64  \n",
      " 39  Status                   7000 non-null   object \n",
      "dtypes: float64(17), int64(22), object(1)\n",
      "memory usage: 2.1+ MB\n"
     ]
    }
   ],
   "source": [
    "combinedf_clean=combinedf_clean.drop('index',axis=1)\n",
    "combinedf_clean.info()"
   ]
  },
  {
   "cell_type": "code",
   "execution_count": 70,
   "id": "43b7a574",
   "metadata": {},
   "outputs": [],
   "source": [
    "iitr=combinedf_clean[combinedf_clean.Status!='test']\n",
    "iitt=combinedf_clean[combinedf_clean.Status=='test']"
   ]
  },
  {
   "cell_type": "code",
   "execution_count": 71,
   "id": "098332b5",
   "metadata": {},
   "outputs": [
    {
     "name": "stdout",
     "output_type": "stream",
     "text": [
      "<class 'pandas.core.frame.DataFrame'>\n",
      "Index: 5800 entries, 0 to 5799\n",
      "Data columns (total 40 columns):\n",
      " #   Column                   Non-Null Count  Dtype  \n",
      "---  ------                   --------------  -----  \n",
      " 0   S.L.R.C                  5800 non-null   float64\n",
      " 1   S.L.R.I                  5800 non-null   float64\n",
      " 2   A.T.T                    5800 non-null   float64\n",
      " 3   L.M.I                    5800 non-null   float64\n",
      " 4   L.M.C                    5800 non-null   float64\n",
      " 5   S.R                      5800 non-null   float64\n",
      " 6   L.J.T.C                  5800 non-null   float64\n",
      " 7   L.J.T.I                  5800 non-null   float64\n",
      " 8   N.I.C                    5800 non-null   float64\n",
      " 9   N.I.I                    5800 non-null   float64\n",
      " 10  S.P.I                    5800 non-null   float64\n",
      " 11  S.P.C                    5800 non-null   float64\n",
      " 12  L.A.C                    5800 non-null   float64\n",
      " 13  L.A.I                    5800 non-null   float64\n",
      " 14  Q.A                      5800 non-null   float64\n",
      " 15  COMPLIANCE Ratio         5800 non-null   float64\n",
      " 16  Interview duration       5800 non-null   float64\n",
      " 17  Profile_Account Manager  5800 non-null   int64  \n",
      " 18  Profile_Data Scientist   5800 non-null   int64  \n",
      " 19  Profile_Developer        5800 non-null   int64  \n",
      " 20  Profile_HR               5800 non-null   int64  \n",
      " 21  Profile_Marketing        5800 non-null   int64  \n",
      " 22  Profile_Product Manager  5800 non-null   int64  \n",
      " 23  Profile_Program Manager  5800 non-null   int64  \n",
      " 24  Profile_QA Automation    5800 non-null   int64  \n",
      " 25  Profile_QA Manual        5800 non-null   int64  \n",
      " 26  Profile_Sales            5800 non-null   int64  \n",
      " 27  P.E.I_Negative           5800 non-null   int64  \n",
      " 28  P.E.I_Neutral            5800 non-null   int64  \n",
      " 29  P.E.I_Positive           5800 non-null   int64  \n",
      " 30  P.E.C_Negative           5800 non-null   int64  \n",
      " 31  P.E.C_Neutral            5800 non-null   int64  \n",
      " 32  P.E.C_Positive           5800 non-null   int64  \n",
      " 33  Interviewer Intro_No     5800 non-null   int64  \n",
      " 34  Interviewer Intro_Yes    5800 non-null   int64  \n",
      " 35  Candidate into_No        5800 non-null   int64  \n",
      " 36  Candidate into_Yes       5800 non-null   int64  \n",
      " 37  Opp to ask_No            5800 non-null   int64  \n",
      " 38  Opp to ask_Yes           5800 non-null   int64  \n",
      " 39  Status                   5800 non-null   object \n",
      "dtypes: float64(17), int64(22), object(1)\n",
      "memory usage: 1.8+ MB\n"
     ]
    }
   ],
   "source": [
    "iitr.info()"
   ]
  },
  {
   "cell_type": "code",
   "execution_count": 72,
   "id": "df8a95b4",
   "metadata": {},
   "outputs": [
    {
     "name": "stdout",
     "output_type": "stream",
     "text": [
      "<class 'pandas.core.frame.DataFrame'>\n",
      "Index: 1200 entries, 5800 to 6999\n",
      "Data columns (total 40 columns):\n",
      " #   Column                   Non-Null Count  Dtype  \n",
      "---  ------                   --------------  -----  \n",
      " 0   S.L.R.C                  1200 non-null   float64\n",
      " 1   S.L.R.I                  1200 non-null   float64\n",
      " 2   A.T.T                    1200 non-null   float64\n",
      " 3   L.M.I                    1200 non-null   float64\n",
      " 4   L.M.C                    1200 non-null   float64\n",
      " 5   S.R                      1200 non-null   float64\n",
      " 6   L.J.T.C                  1200 non-null   float64\n",
      " 7   L.J.T.I                  1200 non-null   float64\n",
      " 8   N.I.C                    1200 non-null   float64\n",
      " 9   N.I.I                    1200 non-null   float64\n",
      " 10  S.P.I                    1200 non-null   float64\n",
      " 11  S.P.C                    1200 non-null   float64\n",
      " 12  L.A.C                    1200 non-null   float64\n",
      " 13  L.A.I                    1200 non-null   float64\n",
      " 14  Q.A                      1200 non-null   float64\n",
      " 15  COMPLIANCE Ratio         1200 non-null   float64\n",
      " 16  Interview duration       1200 non-null   float64\n",
      " 17  Profile_Account Manager  1200 non-null   int64  \n",
      " 18  Profile_Data Scientist   1200 non-null   int64  \n",
      " 19  Profile_Developer        1200 non-null   int64  \n",
      " 20  Profile_HR               1200 non-null   int64  \n",
      " 21  Profile_Marketing        1200 non-null   int64  \n",
      " 22  Profile_Product Manager  1200 non-null   int64  \n",
      " 23  Profile_Program Manager  1200 non-null   int64  \n",
      " 24  Profile_QA Automation    1200 non-null   int64  \n",
      " 25  Profile_QA Manual        1200 non-null   int64  \n",
      " 26  Profile_Sales            1200 non-null   int64  \n",
      " 27  P.E.I_Negative           1200 non-null   int64  \n",
      " 28  P.E.I_Neutral            1200 non-null   int64  \n",
      " 29  P.E.I_Positive           1200 non-null   int64  \n",
      " 30  P.E.C_Negative           1200 non-null   int64  \n",
      " 31  P.E.C_Neutral            1200 non-null   int64  \n",
      " 32  P.E.C_Positive           1200 non-null   int64  \n",
      " 33  Interviewer Intro_No     1200 non-null   int64  \n",
      " 34  Interviewer Intro_Yes    1200 non-null   int64  \n",
      " 35  Candidate into_No        1200 non-null   int64  \n",
      " 36  Candidate into_Yes       1200 non-null   int64  \n",
      " 37  Opp to ask_No            1200 non-null   int64  \n",
      " 38  Opp to ask_Yes           1200 non-null   int64  \n",
      " 39  Status                   1200 non-null   object \n",
      "dtypes: float64(17), int64(22), object(1)\n",
      "memory usage: 384.4+ KB\n"
     ]
    }
   ],
   "source": [
    "iitt.info()"
   ]
  },
  {
   "cell_type": "code",
   "execution_count": 73,
   "id": "7ef168c5",
   "metadata": {},
   "outputs": [],
   "source": [
    "iitt=iitt.drop('Status',axis=1)"
   ]
  },
  {
   "cell_type": "code",
   "execution_count": 74,
   "id": "bb3c5fae",
   "metadata": {},
   "outputs": [],
   "source": [
    "X=iitr.drop('Status',axis=1)\n",
    "y=iitr.Status"
   ]
  },
  {
   "cell_type": "code",
   "execution_count": 75,
   "id": "05154d5b",
   "metadata": {},
   "outputs": [
    {
     "name": "stdout",
     "output_type": "stream",
     "text": [
      "<class 'pandas.core.frame.DataFrame'>\n",
      "Index: 5800 entries, 0 to 5799\n",
      "Data columns (total 39 columns):\n",
      " #   Column                   Non-Null Count  Dtype  \n",
      "---  ------                   --------------  -----  \n",
      " 0   S.L.R.C                  5800 non-null   float64\n",
      " 1   S.L.R.I                  5800 non-null   float64\n",
      " 2   A.T.T                    5800 non-null   float64\n",
      " 3   L.M.I                    5800 non-null   float64\n",
      " 4   L.M.C                    5800 non-null   float64\n",
      " 5   S.R                      5800 non-null   float64\n",
      " 6   L.J.T.C                  5800 non-null   float64\n",
      " 7   L.J.T.I                  5800 non-null   float64\n",
      " 8   N.I.C                    5800 non-null   float64\n",
      " 9   N.I.I                    5800 non-null   float64\n",
      " 10  S.P.I                    5800 non-null   float64\n",
      " 11  S.P.C                    5800 non-null   float64\n",
      " 12  L.A.C                    5800 non-null   float64\n",
      " 13  L.A.I                    5800 non-null   float64\n",
      " 14  Q.A                      5800 non-null   float64\n",
      " 15  COMPLIANCE Ratio         5800 non-null   float64\n",
      " 16  Interview duration       5800 non-null   float64\n",
      " 17  Profile_Account Manager  5800 non-null   int64  \n",
      " 18  Profile_Data Scientist   5800 non-null   int64  \n",
      " 19  Profile_Developer        5800 non-null   int64  \n",
      " 20  Profile_HR               5800 non-null   int64  \n",
      " 21  Profile_Marketing        5800 non-null   int64  \n",
      " 22  Profile_Product Manager  5800 non-null   int64  \n",
      " 23  Profile_Program Manager  5800 non-null   int64  \n",
      " 24  Profile_QA Automation    5800 non-null   int64  \n",
      " 25  Profile_QA Manual        5800 non-null   int64  \n",
      " 26  Profile_Sales            5800 non-null   int64  \n",
      " 27  P.E.I_Negative           5800 non-null   int64  \n",
      " 28  P.E.I_Neutral            5800 non-null   int64  \n",
      " 29  P.E.I_Positive           5800 non-null   int64  \n",
      " 30  P.E.C_Negative           5800 non-null   int64  \n",
      " 31  P.E.C_Neutral            5800 non-null   int64  \n",
      " 32  P.E.C_Positive           5800 non-null   int64  \n",
      " 33  Interviewer Intro_No     5800 non-null   int64  \n",
      " 34  Interviewer Intro_Yes    5800 non-null   int64  \n",
      " 35  Candidate into_No        5800 non-null   int64  \n",
      " 36  Candidate into_Yes       5800 non-null   int64  \n",
      " 37  Opp to ask_No            5800 non-null   int64  \n",
      " 38  Opp to ask_Yes           5800 non-null   int64  \n",
      "dtypes: float64(17), int64(22)\n",
      "memory usage: 1.8 MB\n"
     ]
    }
   ],
   "source": [
    "X.info()"
   ]
  },
  {
   "cell_type": "code",
   "execution_count": 76,
   "id": "4addb78d",
   "metadata": {},
   "outputs": [
    {
     "data": {
      "text/plain": [
       "0    Consider\n",
       "1    Consider\n",
       "2    Consider\n",
       "3    Consider\n",
       "4    Consider\n",
       "Name: Status, dtype: object"
      ]
     },
     "execution_count": 76,
     "metadata": {},
     "output_type": "execute_result"
    }
   ],
   "source": [
    "y.head()"
   ]
  },
  {
   "cell_type": "code",
   "execution_count": 77,
   "id": "32282ad4",
   "metadata": {},
   "outputs": [
    {
     "data": {
      "text/plain": [
       "<Axes: ylabel='Frequency'>"
      ]
     },
     "execution_count": 77,
     "metadata": {},
     "output_type": "execute_result"
    },
    {
     "data": {
      "text/plain": [
       "<Figure size 3000x1500 with 0 Axes>"
      ]
     },
     "metadata": {},
     "output_type": "display_data"
    },
    {
     "data": {
      "image/png": "[encoded data removed]",
      "text/plain": [
       "<Figure size 640x480 with 3 Axes>"
      ]
     },
     "metadata": {},
     "output_type": "display_data"
    }
   ],
   "source": [
    "plt.figure(figsize=(30,15))\n",
    "fig,ax=plt.subplots(3,1)\n",
    "y.value_counts().plot(kind='kde',ax=ax[0])\n",
    "y.value_counts().plot(kind='box',ax=ax[1],vert=False)\n",
    "y.value_counts().plot(kind='hist',ax=ax[2])"
   ]
  },
  {
   "cell_type": "markdown",
   "id": "a89b99a8",
   "metadata": {},
   "source": [
    "# label encodor for depedent variable"
   ]
  },
  {
   "cell_type": "code",
   "execution_count": 78,
   "id": "4baab9a2",
   "metadata": {},
   "outputs": [],
   "source": [
    "from sklearn.preprocessing import LabelEncoder"
   ]
  },
  {
   "cell_type": "code",
   "execution_count": 79,
   "id": "78a098af",
   "metadata": {},
   "outputs": [],
   "source": [
    "le=LabelEncoder()"
   ]
  },
  {
   "cell_type": "code",
   "execution_count": 80,
   "id": "27fae75a",
   "metadata": {},
   "outputs": [],
   "source": [
    "y=le.fit_transform(y)"
   ]
  },
  {
   "cell_type": "code",
   "execution_count": null,
   "id": "5dfcf8fe",
   "metadata": {},
   "outputs": [],
   "source": []
  },
  {
   "cell_type": "markdown",
   "id": "28b497f1",
   "metadata": {},
   "source": [
    "# Building Model"
   ]
  },
  {
   "cell_type": "markdown",
   "id": "b16efd10",
   "metadata": {},
   "source": [
    "### Logistic Regression"
   ]
  },
  {
   "cell_type": "code",
   "execution_count": 81,
   "id": "60017b0f",
   "metadata": {},
   "outputs": [],
   "source": [
    "from sklearn.linear_model import LogisticRegression"
   ]
  },
  {
   "cell_type": "code",
   "execution_count": 82,
   "id": "22a85b0d",
   "metadata": {},
   "outputs": [],
   "source": [
    "reg=LogisticRegression(max_iter=400)"
   ]
  },
  {
   "cell_type": "code",
   "execution_count": 83,
   "id": "17a21c1b",
   "metadata": {},
   "outputs": [],
   "source": [
    "regmodel=reg.fit(X,y)"
   ]
  },
  {
   "cell_type": "code",
   "execution_count": 84,
   "id": "6863d212",
   "metadata": {},
   "outputs": [
    {
     "data": {
      "text/plain": [
       "0.9891379310344828"
      ]
     },
     "execution_count": 84,
     "metadata": {},
     "output_type": "execute_result"
    }
   ],
   "source": [
    "regmodel.score(X,y)"
   ]
  },
  {
   "cell_type": "code",
   "execution_count": 85,
   "id": "979f10d5",
   "metadata": {},
   "outputs": [],
   "source": [
    "regpredict_X=regmodel.predict(X)"
   ]
  },
  {
   "cell_type": "code",
   "execution_count": 86,
   "id": "72cd529e",
   "metadata": {},
   "outputs": [],
   "source": [
    "from sklearn.model_selection import cross_val_score\n",
    "from sklearn.metrics import classification_report"
   ]
  },
  {
   "cell_type": "code",
   "execution_count": 87,
   "id": "9dae54b4",
   "metadata": {},
   "outputs": [
    {
     "data": {
      "text/plain": [
       "array([0.97758621, 0.98017241, 0.97586207, 0.97758621, 0.98017241])"
      ]
     },
     "execution_count": 87,
     "metadata": {},
     "output_type": "execute_result"
    }
   ],
   "source": [
    "cross_val_score(reg,X,y)"
   ]
  },
  {
   "cell_type": "code",
   "execution_count": 88,
   "id": "316d43d2",
   "metadata": {},
   "outputs": [
    {
     "data": {
      "text/plain": [
       "0.9782758619999999"
      ]
     },
     "execution_count": 88,
     "metadata": {},
     "output_type": "execute_result"
    }
   ],
   "source": [
    "np.mean([0.97758621, 0.98017241, 0.97586207, 0.97758621, 0.98017241])"
   ]
  },
  {
   "cell_type": "code",
   "execution_count": 89,
   "id": "b0ea26ae",
   "metadata": {},
   "outputs": [
    {
     "name": "stdout",
     "output_type": "stream",
     "text": [
      "              precision    recall  f1-score   support\n",
      "\n",
      "           0       0.99      0.99      0.99      2315\n",
      "           1       0.98      0.98      0.98      1890\n",
      "           2       0.99      0.99      0.99      1595\n",
      "\n",
      "    accuracy                           0.99      5800\n",
      "   macro avg       0.99      0.99      0.99      5800\n",
      "weighted avg       0.99      0.99      0.99      5800\n",
      "\n"
     ]
    }
   ],
   "source": [
    "print(classification_report(y,regpredict_X))"
   ]
  },
  {
   "cell_type": "code",
   "execution_count": 90,
   "id": "2ee4054d",
   "metadata": {},
   "outputs": [
    {
     "data": {
      "text/html": [
       "<div>\n",
       "<style scoped>\n",
       "    .dataframe tbody tr th:only-of-type {\n",
       "        vertical-align: middle;\n",
       "    }\n",
       "\n",
       "    .dataframe tbody tr th {\n",
       "        vertical-align: top;\n",
       "    }\n",
       "\n",
       "    .dataframe thead th {\n",
       "        text-align: right;\n",
       "    }\n",
       "</style>\n",
       "<table border=\"1\" class=\"dataframe\">\n",
       "  <thead>\n",
       "    <tr style=\"text-align: right;\">\n",
       "      <th>col_0</th>\n",
       "      <th>0</th>\n",
       "      <th>1</th>\n",
       "      <th>2</th>\n",
       "    </tr>\n",
       "    <tr>\n",
       "      <th>row_0</th>\n",
       "      <th></th>\n",
       "      <th></th>\n",
       "      <th></th>\n",
       "    </tr>\n",
       "  </thead>\n",
       "  <tbody>\n",
       "    <tr>\n",
       "      <th>0</th>\n",
       "      <td>2297</td>\n",
       "      <td>16</td>\n",
       "      <td>2</td>\n",
       "    </tr>\n",
       "    <tr>\n",
       "      <th>1</th>\n",
       "      <td>15</td>\n",
       "      <td>1859</td>\n",
       "      <td>16</td>\n",
       "    </tr>\n",
       "    <tr>\n",
       "      <th>2</th>\n",
       "      <td>0</td>\n",
       "      <td>14</td>\n",
       "      <td>1581</td>\n",
       "    </tr>\n",
       "  </tbody>\n",
       "</table>\n",
       "</div>"
      ],
      "text/plain": [
       "col_0     0     1     2\n",
       "row_0                  \n",
       "0      2297    16     2\n",
       "1        15  1859    16\n",
       "2         0    14  1581"
      ]
     },
     "execution_count": 90,
     "metadata": {},
     "output_type": "execute_result"
    }
   ],
   "source": [
    "pd.crosstab(y,regpredict_X)"
   ]
  },
  {
   "cell_type": "code",
   "execution_count": 91,
   "id": "7c12497f",
   "metadata": {},
   "outputs": [],
   "source": [
    "predict_test=regmodel.predict(iitt)"
   ]
  },
  {
   "cell_type": "code",
   "execution_count": 92,
   "id": "3dac3c17",
   "metadata": {},
   "outputs": [],
   "source": [
    "predict_test=pd.DataFrame(predict_test)"
   ]
  },
  {
   "cell_type": "code",
   "execution_count": 93,
   "id": "7d27686c",
   "metadata": {},
   "outputs": [],
   "source": [
    "predict_test=predict_test.replace({0:'Consider',1:'May Consider',2:'Not Consider'})"
   ]
  },
  {
   "cell_type": "code",
   "execution_count": 94,
   "id": "134a3c21",
   "metadata": {},
   "outputs": [
    {
     "data": {
      "text/plain": [
       "Consider        490\n",
       "May Consider    401\n",
       "Not Consider    309\n",
       "Name: count, dtype: int64"
      ]
     },
     "execution_count": 94,
     "metadata": {},
     "output_type": "execute_result"
    }
   ],
   "source": [
    "predict_test.value_counts()"
   ]
  },
  {
   "cell_type": "code",
   "execution_count": 95,
   "id": "ac072cf9",
   "metadata": {},
   "outputs": [],
   "source": [
    "predict_test_df = pd.DataFrame({'Interview Id': iiptt['Interview Id'], 'Status': predict_test[0]})\n",
    "predict_test_df.to_csv('reg.csv', index=False)"
   ]
  },
  {
   "cell_type": "code",
   "execution_count": null,
   "id": "0ad930ec",
   "metadata": {},
   "outputs": [],
   "source": []
  },
  {
   "cell_type": "markdown",
   "id": "cb73f5d2",
   "metadata": {},
   "source": [
    "# Decision Tree"
   ]
  },
  {
   "cell_type": "code",
   "execution_count": 96,
   "id": "e0fb4a4b",
   "metadata": {},
   "outputs": [],
   "source": [
    "from sklearn.tree import DecisionTreeClassifier"
   ]
  },
  {
   "cell_type": "code",
   "execution_count": 97,
   "id": "032ba0cd",
   "metadata": {},
   "outputs": [],
   "source": [
    "tree=DecisionTreeClassifier(max_depth=6)"
   ]
  },
  {
   "cell_type": "code",
   "execution_count": 98,
   "id": "372bbc27",
   "metadata": {},
   "outputs": [],
   "source": [
    "treemodel=tree.fit(X,y)"
   ]
  },
  {
   "cell_type": "code",
   "execution_count": 99,
   "id": "a3e3bb73",
   "metadata": {},
   "outputs": [
    {
     "data": {
      "text/plain": [
       "0.896896551724138"
      ]
     },
     "execution_count": 99,
     "metadata": {},
     "output_type": "execute_result"
    }
   ],
   "source": [
    "treemodel.score(X,y)"
   ]
  },
  {
   "cell_type": "code",
   "execution_count": 100,
   "id": "963bb08d",
   "metadata": {},
   "outputs": [],
   "source": [
    "treepredict=treemodel.predict(X)"
   ]
  },
  {
   "cell_type": "code",
   "execution_count": 101,
   "id": "1a446e44",
   "metadata": {},
   "outputs": [
    {
     "data": {
      "text/html": [
       "<div>\n",
       "<style scoped>\n",
       "    .dataframe tbody tr th:only-of-type {\n",
       "        vertical-align: middle;\n",
       "    }\n",
       "\n",
       "    .dataframe tbody tr th {\n",
       "        vertical-align: top;\n",
       "    }\n",
       "\n",
       "    .dataframe thead th {\n",
       "        text-align: right;\n",
       "    }\n",
       "</style>\n",
       "<table border=\"1\" class=\"dataframe\">\n",
       "  <thead>\n",
       "    <tr style=\"text-align: right;\">\n",
       "      <th>col_0</th>\n",
       "      <th>0</th>\n",
       "      <th>1</th>\n",
       "      <th>2</th>\n",
       "    </tr>\n",
       "    <tr>\n",
       "      <th>row_0</th>\n",
       "      <th></th>\n",
       "      <th></th>\n",
       "      <th></th>\n",
       "    </tr>\n",
       "  </thead>\n",
       "  <tbody>\n",
       "    <tr>\n",
       "      <th>0</th>\n",
       "      <td>2129</td>\n",
       "      <td>184</td>\n",
       "      <td>2</td>\n",
       "    </tr>\n",
       "    <tr>\n",
       "      <th>1</th>\n",
       "      <td>92</td>\n",
       "      <td>1646</td>\n",
       "      <td>152</td>\n",
       "    </tr>\n",
       "    <tr>\n",
       "      <th>2</th>\n",
       "      <td>0</td>\n",
       "      <td>168</td>\n",
       "      <td>1427</td>\n",
       "    </tr>\n",
       "  </tbody>\n",
       "</table>\n",
       "</div>"
      ],
      "text/plain": [
       "col_0     0     1     2\n",
       "row_0                  \n",
       "0      2129   184     2\n",
       "1        92  1646   152\n",
       "2         0   168  1427"
      ]
     },
     "execution_count": 101,
     "metadata": {},
     "output_type": "execute_result"
    }
   ],
   "source": [
    "pd.crosstab(y,treepredict)"
   ]
  },
  {
   "cell_type": "code",
   "execution_count": 102,
   "id": "dd780f43",
   "metadata": {},
   "outputs": [
    {
     "data": {
      "text/plain": [
       "array([0.87844828, 0.85      , 0.87327586, 0.85862069, 0.85      ])"
      ]
     },
     "execution_count": 102,
     "metadata": {},
     "output_type": "execute_result"
    }
   ],
   "source": [
    "cross_val_score(tree,X,y)"
   ]
  },
  {
   "cell_type": "code",
   "execution_count": 103,
   "id": "964af099",
   "metadata": {},
   "outputs": [
    {
     "data": {
      "text/plain": [
       "0.86137931"
      ]
     },
     "execution_count": 103,
     "metadata": {},
     "output_type": "execute_result"
    }
   ],
   "source": [
    "np.mean([0.87844828, 0.84827586, 0.87327586, 0.85689655, 0.85      ])"
   ]
  },
  {
   "cell_type": "code",
   "execution_count": 104,
   "id": "7c9564ab",
   "metadata": {},
   "outputs": [
    {
     "name": "stdout",
     "output_type": "stream",
     "text": [
      "              precision    recall  f1-score   support\n",
      "\n",
      "           0       0.96      0.92      0.94      2315\n",
      "           1       0.82      0.87      0.85      1890\n",
      "           2       0.90      0.89      0.90      1595\n",
      "\n",
      "    accuracy                           0.90      5800\n",
      "   macro avg       0.89      0.90      0.89      5800\n",
      "weighted avg       0.90      0.90      0.90      5800\n",
      "\n"
     ]
    }
   ],
   "source": [
    "print(classification_report(y,treepredict))"
   ]
  },
  {
   "cell_type": "code",
   "execution_count": 105,
   "id": "c7f80222",
   "metadata": {},
   "outputs": [],
   "source": [
    "tree_testpredict=treemodel.predict(iitt)"
   ]
  },
  {
   "cell_type": "code",
   "execution_count": 106,
   "id": "465bdfa1",
   "metadata": {},
   "outputs": [],
   "source": [
    "tree_testpredict=pd.DataFrame(tree_testpredict)"
   ]
  },
  {
   "cell_type": "code",
   "execution_count": 107,
   "id": "aff5f817",
   "metadata": {},
   "outputs": [
    {
     "data": {
      "text/plain": [
       "0    478\n",
       "1    407\n",
       "2    315\n",
       "Name: count, dtype: int64"
      ]
     },
     "execution_count": 107,
     "metadata": {},
     "output_type": "execute_result"
    }
   ],
   "source": [
    "tree_testpredict.value_counts()"
   ]
  },
  {
   "cell_type": "code",
   "execution_count": 108,
   "id": "bf976a12",
   "metadata": {},
   "outputs": [],
   "source": [
    "tree_test=tree_testpredict.replace({0:'Consider',1:'May Consider',2:'Not Consider'})"
   ]
  },
  {
   "cell_type": "code",
   "execution_count": 109,
   "id": "00f2af32",
   "metadata": {},
   "outputs": [
    {
     "data": {
      "text/plain": [
       "Consider        478\n",
       "May Consider    407\n",
       "Not Consider    315\n",
       "Name: count, dtype: int64"
      ]
     },
     "execution_count": 109,
     "metadata": {},
     "output_type": "execute_result"
    }
   ],
   "source": [
    "tree_test.value_counts()"
   ]
  },
  {
   "cell_type": "markdown",
   "id": "02d7ccfe",
   "metadata": {},
   "source": [
    "tree_test.to_csv('tree1.csv')"
   ]
  },
  {
   "cell_type": "code",
   "execution_count": 110,
   "id": "2d579320",
   "metadata": {},
   "outputs": [],
   "source": [
    "test_predictions_df = pd.DataFrame({'Interview Id': iiptt['Interview Id'], 'Status': tree_test[0]})\n",
    "test_predictions_df.to_csv('predictions.csv', index=False)"
   ]
  },
  {
   "cell_type": "code",
   "execution_count": null,
   "id": "80225734",
   "metadata": {},
   "outputs": [],
   "source": []
  },
  {
   "cell_type": "markdown",
   "id": "fab9a6f1",
   "metadata": {},
   "source": [
    "# Random Forest"
   ]
  },
  {
   "cell_type": "code",
   "execution_count": 111,
   "id": "afecd512",
   "metadata": {},
   "outputs": [],
   "source": [
    "from sklearn.ensemble import RandomForestClassifier"
   ]
  },
  {
   "cell_type": "code",
   "execution_count": 112,
   "id": "7bf7f1fe",
   "metadata": {},
   "outputs": [],
   "source": [
    "rf=RandomForestClassifier(max_depth=6,n_estimators=300)"
   ]
  },
  {
   "cell_type": "code",
   "execution_count": 113,
   "id": "2309166a",
   "metadata": {},
   "outputs": [],
   "source": [
    "rfmodel=rf.fit(X,y)"
   ]
  },
  {
   "cell_type": "code",
   "execution_count": 114,
   "id": "9f1a7fd9",
   "metadata": {},
   "outputs": [
    {
     "data": {
      "text/plain": [
       "0.9063793103448275"
      ]
     },
     "execution_count": 114,
     "metadata": {},
     "output_type": "execute_result"
    }
   ],
   "source": [
    "rfmodel.score(X,y)"
   ]
  },
  {
   "cell_type": "code",
   "execution_count": 115,
   "id": "a655bb8c",
   "metadata": {},
   "outputs": [],
   "source": [
    "rfpredict=rfmodel.predict(X)"
   ]
  },
  {
   "cell_type": "code",
   "execution_count": 116,
   "id": "91bcf7c9",
   "metadata": {},
   "outputs": [
    {
     "data": {
      "text/html": [
       "<div>\n",
       "<style scoped>\n",
       "    .dataframe tbody tr th:only-of-type {\n",
       "        vertical-align: middle;\n",
       "    }\n",
       "\n",
       "    .dataframe tbody tr th {\n",
       "        vertical-align: top;\n",
       "    }\n",
       "\n",
       "    .dataframe thead th {\n",
       "        text-align: right;\n",
       "    }\n",
       "</style>\n",
       "<table border=\"1\" class=\"dataframe\">\n",
       "  <thead>\n",
       "    <tr style=\"text-align: right;\">\n",
       "      <th>col_0</th>\n",
       "      <th>0</th>\n",
       "      <th>1</th>\n",
       "      <th>2</th>\n",
       "    </tr>\n",
       "    <tr>\n",
       "      <th>row_0</th>\n",
       "      <th></th>\n",
       "      <th></th>\n",
       "      <th></th>\n",
       "    </tr>\n",
       "  </thead>\n",
       "  <tbody>\n",
       "    <tr>\n",
       "      <th>0</th>\n",
       "      <td>2158</td>\n",
       "      <td>155</td>\n",
       "      <td>2</td>\n",
       "    </tr>\n",
       "    <tr>\n",
       "      <th>1</th>\n",
       "      <td>255</td>\n",
       "      <td>1604</td>\n",
       "      <td>31</td>\n",
       "    </tr>\n",
       "    <tr>\n",
       "      <th>2</th>\n",
       "      <td>0</td>\n",
       "      <td>100</td>\n",
       "      <td>1495</td>\n",
       "    </tr>\n",
       "  </tbody>\n",
       "</table>\n",
       "</div>"
      ],
      "text/plain": [
       "col_0     0     1     2\n",
       "row_0                  \n",
       "0      2158   155     2\n",
       "1       255  1604    31\n",
       "2         0   100  1495"
      ]
     },
     "execution_count": 116,
     "metadata": {},
     "output_type": "execute_result"
    }
   ],
   "source": [
    "pd.crosstab(y,rfpredict)"
   ]
  },
  {
   "cell_type": "code",
   "execution_count": 117,
   "id": "cd5b0fb1",
   "metadata": {},
   "outputs": [
    {
     "data": {
      "text/plain": [
       "array([0.87758621, 0.86206897, 0.87155172, 0.83017241, 0.85603448])"
      ]
     },
     "execution_count": 117,
     "metadata": {},
     "output_type": "execute_result"
    }
   ],
   "source": [
    "cross_val_score(rf,X,y)"
   ]
  },
  {
   "cell_type": "code",
   "execution_count": 118,
   "id": "d257a3ac",
   "metadata": {},
   "outputs": [
    {
     "data": {
      "text/plain": [
       "0.871724138"
      ]
     },
     "execution_count": 118,
     "metadata": {},
     "output_type": "execute_result"
    }
   ],
   "source": [
    "np.mean([0.88534483, 0.87931034, 0.8862069 , 0.84741379, 0.86034483])"
   ]
  },
  {
   "cell_type": "code",
   "execution_count": 119,
   "id": "a7796733",
   "metadata": {},
   "outputs": [
    {
     "name": "stdout",
     "output_type": "stream",
     "text": [
      "              precision    recall  f1-score   support\n",
      "\n",
      "           0       0.89      0.93      0.91      2315\n",
      "           1       0.86      0.85      0.86      1890\n",
      "           2       0.98      0.94      0.96      1595\n",
      "\n",
      "    accuracy                           0.91      5800\n",
      "   macro avg       0.91      0.91      0.91      5800\n",
      "weighted avg       0.91      0.91      0.91      5800\n",
      "\n"
     ]
    }
   ],
   "source": [
    "print(classification_report(y,rfpredict))"
   ]
  },
  {
   "cell_type": "code",
   "execution_count": 120,
   "id": "deb67a4e",
   "metadata": {},
   "outputs": [],
   "source": [
    "rf_testpredict=rfmodel.predict(iitt)"
   ]
  },
  {
   "cell_type": "code",
   "execution_count": 121,
   "id": "399c1ea4",
   "metadata": {},
   "outputs": [],
   "source": [
    "rf_testpredict=pd.DataFrame(rf_testpredict)"
   ]
  },
  {
   "cell_type": "code",
   "execution_count": 122,
   "id": "ca3771d4",
   "metadata": {},
   "outputs": [
    {
     "data": {
      "text/plain": [
       "0    512\n",
       "1    384\n",
       "2    304\n",
       "Name: count, dtype: int64"
      ]
     },
     "execution_count": 122,
     "metadata": {},
     "output_type": "execute_result"
    }
   ],
   "source": [
    "rf_testpredict.value_counts()"
   ]
  },
  {
   "cell_type": "code",
   "execution_count": 123,
   "id": "c74c054c",
   "metadata": {},
   "outputs": [],
   "source": [
    "rf_testpredict=rf_testpredict.replace({0:'Consider',1:'May Consider',2:'Not Consider'})"
   ]
  },
  {
   "cell_type": "code",
   "execution_count": 124,
   "id": "9616f5f2",
   "metadata": {},
   "outputs": [
    {
     "data": {
      "text/plain": [
       "Consider        512\n",
       "May Consider    384\n",
       "Not Consider    304\n",
       "Name: count, dtype: int64"
      ]
     },
     "execution_count": 124,
     "metadata": {},
     "output_type": "execute_result"
    }
   ],
   "source": [
    "rf_testpredict.value_counts()"
   ]
  },
  {
   "cell_type": "code",
   "execution_count": 125,
   "id": "aa06f3cf",
   "metadata": {},
   "outputs": [],
   "source": [
    "rftest_predictions_df = pd.DataFrame({'Interview Id': iiptt['Interview Id'], 'Status': rf_testpredict[0]})\n",
    "rftest_predictions_df.to_csv('rf.csv', index=False)"
   ]
  },
  {
   "cell_type": "markdown",
   "id": "9453be84",
   "metadata": {},
   "source": [
    "# GBM"
   ]
  },
  {
   "cell_type": "code",
   "execution_count": 126,
   "id": "9568cf52",
   "metadata": {},
   "outputs": [],
   "source": [
    "from sklearn.ensemble import GradientBoostingClassifier"
   ]
  },
  {
   "cell_type": "code",
   "execution_count": 127,
   "id": "d822a541",
   "metadata": {},
   "outputs": [],
   "source": [
    "gbm=GradientBoostingClassifier(max_depth=3,n_estimators=50)"
   ]
  },
  {
   "cell_type": "code",
   "execution_count": 128,
   "id": "7591acb9",
   "metadata": {},
   "outputs": [],
   "source": [
    "gbmmodel=gbm.fit(X,y)"
   ]
  },
  {
   "cell_type": "code",
   "execution_count": 129,
   "id": "88105466",
   "metadata": {},
   "outputs": [
    {
     "data": {
      "text/plain": [
       "0.9368965517241379"
      ]
     },
     "execution_count": 129,
     "metadata": {},
     "output_type": "execute_result"
    }
   ],
   "source": [
    "gbmmodel.score(X,y)"
   ]
  },
  {
   "cell_type": "code",
   "execution_count": 130,
   "id": "703c0c3a",
   "metadata": {},
   "outputs": [],
   "source": [
    "gbmpredict=gbm.predict(X)"
   ]
  },
  {
   "cell_type": "code",
   "execution_count": 131,
   "id": "0f1c89fa",
   "metadata": {},
   "outputs": [
    {
     "data": {
      "text/html": [
       "<div>\n",
       "<style scoped>\n",
       "    .dataframe tbody tr th:only-of-type {\n",
       "        vertical-align: middle;\n",
       "    }\n",
       "\n",
       "    .dataframe tbody tr th {\n",
       "        vertical-align: top;\n",
       "    }\n",
       "\n",
       "    .dataframe thead th {\n",
       "        text-align: right;\n",
       "    }\n",
       "</style>\n",
       "<table border=\"1\" class=\"dataframe\">\n",
       "  <thead>\n",
       "    <tr style=\"text-align: right;\">\n",
       "      <th>col_0</th>\n",
       "      <th>0</th>\n",
       "      <th>1</th>\n",
       "      <th>2</th>\n",
       "    </tr>\n",
       "    <tr>\n",
       "      <th>row_0</th>\n",
       "      <th></th>\n",
       "      <th></th>\n",
       "      <th></th>\n",
       "    </tr>\n",
       "  </thead>\n",
       "  <tbody>\n",
       "    <tr>\n",
       "      <th>0</th>\n",
       "      <td>2211</td>\n",
       "      <td>102</td>\n",
       "      <td>2</td>\n",
       "    </tr>\n",
       "    <tr>\n",
       "      <th>1</th>\n",
       "      <td>85</td>\n",
       "      <td>1729</td>\n",
       "      <td>76</td>\n",
       "    </tr>\n",
       "    <tr>\n",
       "      <th>2</th>\n",
       "      <td>0</td>\n",
       "      <td>101</td>\n",
       "      <td>1494</td>\n",
       "    </tr>\n",
       "  </tbody>\n",
       "</table>\n",
       "</div>"
      ],
      "text/plain": [
       "col_0     0     1     2\n",
       "row_0                  \n",
       "0      2211   102     2\n",
       "1        85  1729    76\n",
       "2         0   101  1494"
      ]
     },
     "execution_count": 131,
     "metadata": {},
     "output_type": "execute_result"
    }
   ],
   "source": [
    "pd.crosstab(y,gbmpredict)"
   ]
  },
  {
   "cell_type": "code",
   "execution_count": 132,
   "id": "4e03b0aa",
   "metadata": {
    "scrolled": true
   },
   "outputs": [
    {
     "data": {
      "text/plain": [
       "array([0.92068966, 0.90086207, 0.92672414, 0.89051724, 0.89482759])"
      ]
     },
     "execution_count": 132,
     "metadata": {},
     "output_type": "execute_result"
    }
   ],
   "source": [
    "cross_val_score(gbm,X,y)"
   ]
  },
  {
   "cell_type": "code",
   "execution_count": 133,
   "id": "1648e34d",
   "metadata": {},
   "outputs": [
    {
     "data": {
      "text/plain": [
       "0.90672414"
      ]
     },
     "execution_count": 133,
     "metadata": {},
     "output_type": "execute_result"
    }
   ],
   "source": [
    "np.mean([0.92068966, 0.90086207, 0.92672414, 0.89051724, 0.89482759])"
   ]
  },
  {
   "cell_type": "code",
   "execution_count": 134,
   "id": "0b69542c",
   "metadata": {},
   "outputs": [
    {
     "name": "stdout",
     "output_type": "stream",
     "text": [
      "              precision    recall  f1-score   support\n",
      "\n",
      "           0       0.96      0.96      0.96      2315\n",
      "           1       0.89      0.91      0.90      1890\n",
      "           2       0.95      0.94      0.94      1595\n",
      "\n",
      "    accuracy                           0.94      5800\n",
      "   macro avg       0.94      0.94      0.94      5800\n",
      "weighted avg       0.94      0.94      0.94      5800\n",
      "\n"
     ]
    }
   ],
   "source": [
    "print(classification_report(y,gbmpredict))"
   ]
  },
  {
   "cell_type": "code",
   "execution_count": 135,
   "id": "52d83b0c",
   "metadata": {},
   "outputs": [],
   "source": [
    "gbm_testpredict=gbmmodel.predict(iitt)"
   ]
  },
  {
   "cell_type": "code",
   "execution_count": 136,
   "id": "702497ed",
   "metadata": {},
   "outputs": [],
   "source": [
    "gbm_testpredict=pd.DataFrame(gbm_testpredict)"
   ]
  },
  {
   "cell_type": "code",
   "execution_count": 137,
   "id": "95d2b46d",
   "metadata": {},
   "outputs": [
    {
     "data": {
      "text/plain": [
       "0    484\n",
       "1    401\n",
       "2    315\n",
       "Name: count, dtype: int64"
      ]
     },
     "execution_count": 137,
     "metadata": {},
     "output_type": "execute_result"
    }
   ],
   "source": [
    "gbm_testpredict.value_counts()"
   ]
  },
  {
   "cell_type": "code",
   "execution_count": 138,
   "id": "ada4f017",
   "metadata": {},
   "outputs": [],
   "source": [
    "gbm_testpredict=gbm_testpredict.replace({0:'Consider',1:'May Consider',2:'Not Consider'})"
   ]
  },
  {
   "cell_type": "code",
   "execution_count": 139,
   "id": "97374942",
   "metadata": {},
   "outputs": [
    {
     "data": {
      "text/plain": [
       "Consider        484\n",
       "May Consider    401\n",
       "Not Consider    315\n",
       "Name: count, dtype: int64"
      ]
     },
     "execution_count": 139,
     "metadata": {},
     "output_type": "execute_result"
    }
   ],
   "source": [
    "gbm_testpredict.value_counts()"
   ]
  },
  {
   "cell_type": "code",
   "execution_count": 140,
   "id": "ac3edb4c",
   "metadata": {},
   "outputs": [],
   "source": [
    "gbmtest_predictions_df = pd.DataFrame({'Interview Id': iiptt['Interview Id'], 'Status': gbm_testpredict[0]})\n",
    "gbmtest_predictions_df.to_csv('gbm.csv', index=False)"
   ]
  },
  {
   "cell_type": "markdown",
   "id": "0011e1cf",
   "metadata": {},
   "source": [
    "# SVC"
   ]
  },
  {
   "cell_type": "code",
   "execution_count": 141,
   "id": "1e371015",
   "metadata": {},
   "outputs": [],
   "source": [
    "from sklearn.svm import SVC"
   ]
  },
  {
   "cell_type": "code",
   "execution_count": 142,
   "id": "f865bff6",
   "metadata": {},
   "outputs": [],
   "source": [
    "svc=SVC(C=0.40)"
   ]
  },
  {
   "cell_type": "code",
   "execution_count": 143,
   "id": "0578701f",
   "metadata": {},
   "outputs": [],
   "source": [
    "svcmodel=svc.fit(X,y)"
   ]
  },
  {
   "cell_type": "code",
   "execution_count": 144,
   "id": "81cc8b21",
   "metadata": {},
   "outputs": [
    {
     "data": {
      "text/plain": [
       "0.9751724137931035"
      ]
     },
     "execution_count": 144,
     "metadata": {},
     "output_type": "execute_result"
    }
   ],
   "source": [
    "svcmodel.score(X,y)"
   ]
  },
  {
   "cell_type": "code",
   "execution_count": 145,
   "id": "c25865f4",
   "metadata": {},
   "outputs": [],
   "source": [
    "svcpredict=svc.predict(X)"
   ]
  },
  {
   "cell_type": "code",
   "execution_count": 146,
   "id": "04489785",
   "metadata": {},
   "outputs": [
    {
     "data": {
      "text/html": [
       "<div>\n",
       "<style scoped>\n",
       "    .dataframe tbody tr th:only-of-type {\n",
       "        vertical-align: middle;\n",
       "    }\n",
       "\n",
       "    .dataframe tbody tr th {\n",
       "        vertical-align: top;\n",
       "    }\n",
       "\n",
       "    .dataframe thead th {\n",
       "        text-align: right;\n",
       "    }\n",
       "</style>\n",
       "<table border=\"1\" class=\"dataframe\">\n",
       "  <thead>\n",
       "    <tr style=\"text-align: right;\">\n",
       "      <th>col_0</th>\n",
       "      <th>0</th>\n",
       "      <th>1</th>\n",
       "      <th>2</th>\n",
       "    </tr>\n",
       "    <tr>\n",
       "      <th>row_0</th>\n",
       "      <th></th>\n",
       "      <th></th>\n",
       "      <th></th>\n",
       "    </tr>\n",
       "  </thead>\n",
       "  <tbody>\n",
       "    <tr>\n",
       "      <th>0</th>\n",
       "      <td>2278</td>\n",
       "      <td>35</td>\n",
       "      <td>2</td>\n",
       "    </tr>\n",
       "    <tr>\n",
       "      <th>1</th>\n",
       "      <td>39</td>\n",
       "      <td>1838</td>\n",
       "      <td>13</td>\n",
       "    </tr>\n",
       "    <tr>\n",
       "      <th>2</th>\n",
       "      <td>0</td>\n",
       "      <td>55</td>\n",
       "      <td>1540</td>\n",
       "    </tr>\n",
       "  </tbody>\n",
       "</table>\n",
       "</div>"
      ],
      "text/plain": [
       "col_0     0     1     2\n",
       "row_0                  \n",
       "0      2278    35     2\n",
       "1        39  1838    13\n",
       "2         0    55  1540"
      ]
     },
     "execution_count": 146,
     "metadata": {},
     "output_type": "execute_result"
    }
   ],
   "source": [
    "pd.crosstab(y,svcpredict)"
   ]
  },
  {
   "cell_type": "code",
   "execution_count": 147,
   "id": "21b2e901",
   "metadata": {},
   "outputs": [
    {
     "data": {
      "text/plain": [
       "array([0.91810345, 0.9362069 , 0.93017241, 0.91982759, 0.92155172])"
      ]
     },
     "execution_count": 147,
     "metadata": {},
     "output_type": "execute_result"
    }
   ],
   "source": [
    "cross_val_score(svc,X,y)"
   ]
  },
  {
   "cell_type": "code",
   "execution_count": 148,
   "id": "15c2cf5a",
   "metadata": {},
   "outputs": [
    {
     "data": {
      "text/plain": [
       "0.925172414"
      ]
     },
     "execution_count": 148,
     "metadata": {},
     "output_type": "execute_result"
    }
   ],
   "source": [
    "np.mean([0.91810345, 0.9362069 , 0.93017241, 0.91982759, 0.92155172])"
   ]
  },
  {
   "cell_type": "code",
   "execution_count": 149,
   "id": "0054903c",
   "metadata": {},
   "outputs": [
    {
     "name": "stdout",
     "output_type": "stream",
     "text": [
      "              precision    recall  f1-score   support\n",
      "\n",
      "           0       0.98      0.98      0.98      2315\n",
      "           1       0.95      0.97      0.96      1890\n",
      "           2       0.99      0.97      0.98      1595\n",
      "\n",
      "    accuracy                           0.98      5800\n",
      "   macro avg       0.98      0.97      0.97      5800\n",
      "weighted avg       0.98      0.98      0.98      5800\n",
      "\n"
     ]
    }
   ],
   "source": [
    "print(classification_report(y,svcpredict))"
   ]
  },
  {
   "cell_type": "code",
   "execution_count": 150,
   "id": "d669cc5c",
   "metadata": {},
   "outputs": [],
   "source": [
    "svc_testpredict=svc.predict(iitt)"
   ]
  },
  {
   "cell_type": "code",
   "execution_count": 151,
   "id": "72a1f9d1",
   "metadata": {},
   "outputs": [],
   "source": [
    "svc_testpredict=pd.DataFrame(svc_testpredict)"
   ]
  },
  {
   "cell_type": "code",
   "execution_count": 152,
   "id": "99d9e861",
   "metadata": {},
   "outputs": [
    {
     "data": {
      "text/plain": [
       "0    490\n",
       "1    407\n",
       "2    303\n",
       "Name: count, dtype: int64"
      ]
     },
     "execution_count": 152,
     "metadata": {},
     "output_type": "execute_result"
    }
   ],
   "source": [
    "svc_testpredict.value_counts()"
   ]
  },
  {
   "cell_type": "code",
   "execution_count": 153,
   "id": "a21c9b64",
   "metadata": {},
   "outputs": [],
   "source": [
    "svc_testpredict=svc_testpredict.replace({0:'Consider',1:'May Consider',2:'Not Consider'})"
   ]
  },
  {
   "cell_type": "code",
   "execution_count": 154,
   "id": "18bbc34e",
   "metadata": {},
   "outputs": [
    {
     "data": {
      "text/plain": [
       "Consider        490\n",
       "May Consider    407\n",
       "Not Consider    303\n",
       "Name: count, dtype: int64"
      ]
     },
     "execution_count": 154,
     "metadata": {},
     "output_type": "execute_result"
    }
   ],
   "source": [
    "svc_testpredict.value_counts()"
   ]
  },
  {
   "cell_type": "code",
   "execution_count": 155,
   "id": "c47a263a",
   "metadata": {},
   "outputs": [],
   "source": [
    "svctest_predictions_df = pd.DataFrame({'Interview Id': iiptt['Interview Id'], 'Status': svc_testpredict[0]})\n",
    "svctest_predictions_df.to_csv('svc.csv', index=False)"
   ]
  },
  {
   "cell_type": "markdown",
   "id": "5f2b2e39",
   "metadata": {},
   "source": [
    "# Linear SVC"
   ]
  },
  {
   "cell_type": "code",
   "execution_count": 162,
   "id": "2f17a493",
   "metadata": {},
   "outputs": [],
   "source": [
    "from sklearn.svm import LinearSVC"
   ]
  },
  {
   "cell_type": "code",
   "execution_count": 280,
   "id": "2008b557",
   "metadata": {},
   "outputs": [],
   "source": [
    "lsvc=LinearSVC(C=7.7)"
   ]
  },
  {
   "cell_type": "code",
   "execution_count": 281,
   "id": "7d79f7ad",
   "metadata": {},
   "outputs": [
    {
     "name": "stderr",
     "output_type": "stream",
     "text": [
      "C:\\Users\\Eswar Aditya\\anaconda3\\Lib\\site-packages\\sklearn\\svm\\_classes.py:32: FutureWarning: The default value of `dual` will change from `True` to `'auto'` in 1.5. Set the value of `dual` explicitly to suppress the warning.\n",
      "  warnings.warn(\n",
      "C:\\Users\\Eswar Aditya\\anaconda3\\Lib\\site-packages\\sklearn\\svm\\_base.py:1242: ConvergenceWarning: Liblinear failed to converge, increase the number of iterations.\n",
      "  warnings.warn(\n"
     ]
    }
   ],
   "source": [
    "lsvcmodel=lsvc.fit(X,y)"
   ]
  },
  {
   "cell_type": "code",
   "execution_count": 282,
   "id": "4b1ca1a5",
   "metadata": {},
   "outputs": [
    {
     "data": {
      "text/plain": [
       "0.9693103448275862"
      ]
     },
     "execution_count": 282,
     "metadata": {},
     "output_type": "execute_result"
    }
   ],
   "source": [
    "lsvcmodel.score(X,y)"
   ]
  },
  {
   "cell_type": "code",
   "execution_count": 230,
   "id": "ec32a787",
   "metadata": {},
   "outputs": [],
   "source": [
    "lsvcpredict=lsvc.predict(X)"
   ]
  },
  {
   "cell_type": "code",
   "execution_count": 231,
   "id": "d8d439f7",
   "metadata": {},
   "outputs": [
    {
     "data": {
      "text/html": [
       "<div>\n",
       "<style scoped>\n",
       "    .dataframe tbody tr th:only-of-type {\n",
       "        vertical-align: middle;\n",
       "    }\n",
       "\n",
       "    .dataframe tbody tr th {\n",
       "        vertical-align: top;\n",
       "    }\n",
       "\n",
       "    .dataframe thead th {\n",
       "        text-align: right;\n",
       "    }\n",
       "</style>\n",
       "<table border=\"1\" class=\"dataframe\">\n",
       "  <thead>\n",
       "    <tr style=\"text-align: right;\">\n",
       "      <th>col_0</th>\n",
       "      <th>0</th>\n",
       "      <th>1</th>\n",
       "      <th>2</th>\n",
       "    </tr>\n",
       "    <tr>\n",
       "      <th>row_0</th>\n",
       "      <th></th>\n",
       "      <th></th>\n",
       "      <th></th>\n",
       "    </tr>\n",
       "  </thead>\n",
       "  <tbody>\n",
       "    <tr>\n",
       "      <th>0</th>\n",
       "      <td>2312</td>\n",
       "      <td>1</td>\n",
       "      <td>2</td>\n",
       "    </tr>\n",
       "    <tr>\n",
       "      <th>1</th>\n",
       "      <td>133</td>\n",
       "      <td>1707</td>\n",
       "      <td>50</td>\n",
       "    </tr>\n",
       "    <tr>\n",
       "      <th>2</th>\n",
       "      <td>0</td>\n",
       "      <td>0</td>\n",
       "      <td>1595</td>\n",
       "    </tr>\n",
       "  </tbody>\n",
       "</table>\n",
       "</div>"
      ],
      "text/plain": [
       "col_0     0     1     2\n",
       "row_0                  \n",
       "0      2312     1     2\n",
       "1       133  1707    50\n",
       "2         0     0  1595"
      ]
     },
     "execution_count": 231,
     "metadata": {},
     "output_type": "execute_result"
    }
   ],
   "source": [
    "pd.crosstab(y,lsvcpredict)"
   ]
  },
  {
   "cell_type": "code",
   "execution_count": 232,
   "id": "3ed0d0f7",
   "metadata": {},
   "outputs": [
    {
     "name": "stderr",
     "output_type": "stream",
     "text": [
      "C:\\Users\\Eswar Aditya\\anaconda3\\Lib\\site-packages\\sklearn\\svm\\_classes.py:32: FutureWarning: The default value of `dual` will change from `True` to `'auto'` in 1.5. Set the value of `dual` explicitly to suppress the warning.\n",
      "  warnings.warn(\n",
      "C:\\Users\\Eswar Aditya\\anaconda3\\Lib\\site-packages\\sklearn\\svm\\_base.py:1242: ConvergenceWarning: Liblinear failed to converge, increase the number of iterations.\n",
      "  warnings.warn(\n",
      "C:\\Users\\Eswar Aditya\\anaconda3\\Lib\\site-packages\\sklearn\\svm\\_classes.py:32: FutureWarning: The default value of `dual` will change from `True` to `'auto'` in 1.5. Set the value of `dual` explicitly to suppress the warning.\n",
      "  warnings.warn(\n",
      "C:\\Users\\Eswar Aditya\\anaconda3\\Lib\\site-packages\\sklearn\\svm\\_base.py:1242: ConvergenceWarning: Liblinear failed to converge, increase the number of iterations.\n",
      "  warnings.warn(\n",
      "C:\\Users\\Eswar Aditya\\anaconda3\\Lib\\site-packages\\sklearn\\svm\\_classes.py:32: FutureWarning: The default value of `dual` will change from `True` to `'auto'` in 1.5. Set the value of `dual` explicitly to suppress the warning.\n",
      "  warnings.warn(\n",
      "C:\\Users\\Eswar Aditya\\anaconda3\\Lib\\site-packages\\sklearn\\svm\\_base.py:1242: ConvergenceWarning: Liblinear failed to converge, increase the number of iterations.\n",
      "  warnings.warn(\n",
      "C:\\Users\\Eswar Aditya\\anaconda3\\Lib\\site-packages\\sklearn\\svm\\_classes.py:32: FutureWarning: The default value of `dual` will change from `True` to `'auto'` in 1.5. Set the value of `dual` explicitly to suppress the warning.\n",
      "  warnings.warn(\n",
      "C:\\Users\\Eswar Aditya\\anaconda3\\Lib\\site-packages\\sklearn\\svm\\_base.py:1242: ConvergenceWarning: Liblinear failed to converge, increase the number of iterations.\n",
      "  warnings.warn(\n",
      "C:\\Users\\Eswar Aditya\\anaconda3\\Lib\\site-packages\\sklearn\\svm\\_classes.py:32: FutureWarning: The default value of `dual` will change from `True` to `'auto'` in 1.5. Set the value of `dual` explicitly to suppress the warning.\n",
      "  warnings.warn(\n",
      "C:\\Users\\Eswar Aditya\\anaconda3\\Lib\\site-packages\\sklearn\\svm\\_base.py:1242: ConvergenceWarning: Liblinear failed to converge, increase the number of iterations.\n",
      "  warnings.warn(\n"
     ]
    },
    {
     "data": {
      "text/plain": [
       "array([0.94827586, 0.9637931 , 0.96034483, 0.96637931, 0.95862069])"
      ]
     },
     "execution_count": 232,
     "metadata": {},
     "output_type": "execute_result"
    }
   ],
   "source": [
    "cross_val_score(lsvc,X,y)"
   ]
  },
  {
   "cell_type": "code",
   "execution_count": 233,
   "id": "1ba467a9",
   "metadata": {},
   "outputs": [
    {
     "data": {
      "text/plain": [
       "0.959482758"
      ]
     },
     "execution_count": 233,
     "metadata": {},
     "output_type": "execute_result"
    }
   ],
   "source": [
    "np.mean([0.94827586, 0.9637931 , 0.96034483, 0.96637931, 0.95862069])"
   ]
  },
  {
   "cell_type": "code",
   "execution_count": 171,
   "id": "94f32b48",
   "metadata": {},
   "outputs": [
    {
     "data": {
      "text/plain": [
       "0.9456896560000001"
      ]
     },
     "execution_count": 171,
     "metadata": {},
     "output_type": "execute_result"
    }
   ],
   "source": [
    "np.mean([0.93534483, 0.95172414, 0.94396552, 0.95603448, 0.94137931])"
   ]
  },
  {
   "cell_type": "code",
   "execution_count": 234,
   "id": "281a3bf8",
   "metadata": {},
   "outputs": [
    {
     "name": "stdout",
     "output_type": "stream",
     "text": [
      "              precision    recall  f1-score   support\n",
      "\n",
      "           0       0.95      1.00      0.97      2315\n",
      "           1       1.00      0.90      0.95      1890\n",
      "           2       0.97      1.00      0.98      1595\n",
      "\n",
      "    accuracy                           0.97      5800\n",
      "   macro avg       0.97      0.97      0.97      5800\n",
      "weighted avg       0.97      0.97      0.97      5800\n",
      "\n"
     ]
    }
   ],
   "source": [
    "print(classification_report(y,lsvcpredict))"
   ]
  },
  {
   "cell_type": "code",
   "execution_count": 235,
   "id": "e27d846f",
   "metadata": {},
   "outputs": [],
   "source": [
    "lsvc_testpredict=lsvc.predict(iitt)"
   ]
  },
  {
   "cell_type": "code",
   "execution_count": 236,
   "id": "68461403",
   "metadata": {},
   "outputs": [],
   "source": [
    "lsvc_testpredict=pd.DataFrame(lsvc_testpredict)"
   ]
  },
  {
   "cell_type": "code",
   "execution_count": 237,
   "id": "06fb6147",
   "metadata": {},
   "outputs": [
    {
     "data": {
      "text/plain": [
       "0    519\n",
       "1    356\n",
       "2    325\n",
       "Name: count, dtype: int64"
      ]
     },
     "execution_count": 237,
     "metadata": {},
     "output_type": "execute_result"
    }
   ],
   "source": [
    "lsvc_testpredict.value_counts()"
   ]
  },
  {
   "cell_type": "code",
   "execution_count": 238,
   "id": "6ab44942",
   "metadata": {},
   "outputs": [],
   "source": [
    "lsvc_testpredict=lsvc_testpredict.replace({0:'Consider',1:'May Consider',2:'Not Consider'})"
   ]
  },
  {
   "cell_type": "code",
   "execution_count": 239,
   "id": "6c652dcb",
   "metadata": {},
   "outputs": [
    {
     "data": {
      "text/plain": [
       "Consider        519\n",
       "May Consider    356\n",
       "Not Consider    325\n",
       "Name: count, dtype: int64"
      ]
     },
     "execution_count": 239,
     "metadata": {},
     "output_type": "execute_result"
    }
   ],
   "source": [
    "lsvc_testpredict.value_counts()"
   ]
  },
  {
   "cell_type": "code",
   "execution_count": 240,
   "id": "1ec39057",
   "metadata": {},
   "outputs": [],
   "source": [
    "lsvctest_predictions_df = pd.DataFrame({'Interview Id': iiptt['Interview Id'], 'Status': lsvc_testpredict[0]})\n",
    "lsvctest_predictions_df.to_csv('lsvc.csv', index=False)"
   ]
  },
  {
   "cell_type": "markdown",
   "id": "abf12fed",
   "metadata": {},
   "source": [
    "# GaussianNB"
   ]
  },
  {
   "cell_type": "code",
   "execution_count": 301,
   "id": "33605b47",
   "metadata": {},
   "outputs": [],
   "source": [
    "from sklearn.naive_bayes import GaussianNB"
   ]
  },
  {
   "cell_type": "code",
   "execution_count": 302,
   "id": "0033cedd",
   "metadata": {},
   "outputs": [],
   "source": [
    "gb=GaussianNB()"
   ]
  },
  {
   "cell_type": "code",
   "execution_count": 303,
   "id": "13c741ca",
   "metadata": {},
   "outputs": [],
   "source": [
    "gbmodel=gb.fit(X,y)"
   ]
  },
  {
   "cell_type": "code",
   "execution_count": 304,
   "id": "5da8c4c5",
   "metadata": {},
   "outputs": [
    {
     "data": {
      "text/plain": [
       "0.825"
      ]
     },
     "execution_count": 304,
     "metadata": {},
     "output_type": "execute_result"
    }
   ],
   "source": [
    "gbmodel.score(X,y)"
   ]
  },
  {
   "cell_type": "code",
   "execution_count": 305,
   "id": "b4ffd597",
   "metadata": {},
   "outputs": [],
   "source": [
    "gbpredict=gbmodel.predict(X)"
   ]
  },
  {
   "cell_type": "code",
   "execution_count": 306,
   "id": "e840503c",
   "metadata": {},
   "outputs": [
    {
     "data": {
      "text/html": [
       "<div>\n",
       "<style scoped>\n",
       "    .dataframe tbody tr th:only-of-type {\n",
       "        vertical-align: middle;\n",
       "    }\n",
       "\n",
       "    .dataframe tbody tr th {\n",
       "        vertical-align: top;\n",
       "    }\n",
       "\n",
       "    .dataframe thead th {\n",
       "        text-align: right;\n",
       "    }\n",
       "</style>\n",
       "<table border=\"1\" class=\"dataframe\">\n",
       "  <thead>\n",
       "    <tr style=\"text-align: right;\">\n",
       "      <th>col_0</th>\n",
       "      <th>0</th>\n",
       "      <th>1</th>\n",
       "      <th>2</th>\n",
       "    </tr>\n",
       "    <tr>\n",
       "      <th>row_0</th>\n",
       "      <th></th>\n",
       "      <th></th>\n",
       "      <th></th>\n",
       "    </tr>\n",
       "  </thead>\n",
       "  <tbody>\n",
       "    <tr>\n",
       "      <th>0</th>\n",
       "      <td>2048</td>\n",
       "      <td>265</td>\n",
       "      <td>2</td>\n",
       "    </tr>\n",
       "    <tr>\n",
       "      <th>1</th>\n",
       "      <td>277</td>\n",
       "      <td>1363</td>\n",
       "      <td>250</td>\n",
       "    </tr>\n",
       "    <tr>\n",
       "      <th>2</th>\n",
       "      <td>1</td>\n",
       "      <td>220</td>\n",
       "      <td>1374</td>\n",
       "    </tr>\n",
       "  </tbody>\n",
       "</table>\n",
       "</div>"
      ],
      "text/plain": [
       "col_0     0     1     2\n",
       "row_0                  \n",
       "0      2048   265     2\n",
       "1       277  1363   250\n",
       "2         1   220  1374"
      ]
     },
     "execution_count": 306,
     "metadata": {},
     "output_type": "execute_result"
    }
   ],
   "source": [
    "pd.crosstab(y,gbpredict)"
   ]
  },
  {
   "cell_type": "code",
   "execution_count": 307,
   "id": "b66075ef",
   "metadata": {},
   "outputs": [
    {
     "data": {
      "text/plain": [
       "array([0.81982759, 0.81206897, 0.81810345, 0.81034483, 0.80344828])"
      ]
     },
     "execution_count": 307,
     "metadata": {},
     "output_type": "execute_result"
    }
   ],
   "source": [
    "cross_val_score(gb,X,y)"
   ]
  },
  {
   "cell_type": "code",
   "execution_count": 308,
   "id": "58e0248c",
   "metadata": {},
   "outputs": [
    {
     "data": {
      "text/plain": [
       "0.812758624"
      ]
     },
     "execution_count": 308,
     "metadata": {},
     "output_type": "execute_result"
    }
   ],
   "source": [
    "np.mean([0.81982759, 0.81206897, 0.81810345, 0.81034483, 0.80344828])"
   ]
  },
  {
   "cell_type": "code",
   "execution_count": 309,
   "id": "57785243",
   "metadata": {},
   "outputs": [
    {
     "name": "stdout",
     "output_type": "stream",
     "text": [
      "              precision    recall  f1-score   support\n",
      "\n",
      "           0       0.88      0.88      0.88      2315\n",
      "           1       0.74      0.72      0.73      1890\n",
      "           2       0.85      0.86      0.85      1595\n",
      "\n",
      "    accuracy                           0.82      5800\n",
      "   macro avg       0.82      0.82      0.82      5800\n",
      "weighted avg       0.82      0.82      0.82      5800\n",
      "\n"
     ]
    }
   ],
   "source": [
    "print(classification_report(y,gbpredict))"
   ]
  },
  {
   "cell_type": "code",
   "execution_count": 310,
   "id": "564b21f2",
   "metadata": {},
   "outputs": [],
   "source": [
    "gb_testpredict=gb.predict(iitt)"
   ]
  },
  {
   "cell_type": "code",
   "execution_count": 311,
   "id": "52261ab2",
   "metadata": {},
   "outputs": [],
   "source": [
    "gb_testpredict=pd.DataFrame(gb_testpredict)"
   ]
  },
  {
   "cell_type": "code",
   "execution_count": 312,
   "id": "41ef8102",
   "metadata": {},
   "outputs": [
    {
     "data": {
      "text/plain": [
       "0    485\n",
       "1    384\n",
       "2    331\n",
       "Name: count, dtype: int64"
      ]
     },
     "execution_count": 312,
     "metadata": {},
     "output_type": "execute_result"
    }
   ],
   "source": [
    "gb_testpredict.value_counts()"
   ]
  },
  {
   "cell_type": "code",
   "execution_count": 313,
   "id": "e850493d",
   "metadata": {},
   "outputs": [],
   "source": [
    "gb_testpredict=gb_testpredict.replace({0:'Consider',1:'May Consider',2:'Not Consider'})"
   ]
  },
  {
   "cell_type": "code",
   "execution_count": 314,
   "id": "8c542cc6",
   "metadata": {
    "scrolled": true
   },
   "outputs": [
    {
     "data": {
      "text/plain": [
       "Consider        485\n",
       "May Consider    384\n",
       "Not Consider    331\n",
       "Name: count, dtype: int64"
      ]
     },
     "execution_count": 314,
     "metadata": {},
     "output_type": "execute_result"
    }
   ],
   "source": [
    "gb_testpredict.value_counts()"
   ]
  },
  {
   "cell_type": "code",
   "execution_count": null,
   "id": "e1a6e496",
   "metadata": {},
   "outputs": [],
   "source": [
    "gnbtest_predictions_df = pd.DataFrame({'Interview Id': iiptt['Interview Id'], 'Status': gb_testpredict[0]})\n",
    "gnbtest_predictions_df.to_csv('gnb.csv', index=False)"
   ]
  },
  {
   "cell_type": "markdown",
   "id": "8e805724",
   "metadata": {},
   "source": [
    "# KNN"
   ]
  },
  {
   "cell_type": "code",
   "execution_count": 156,
   "id": "b292b6af",
   "metadata": {},
   "outputs": [],
   "source": [
    "from sklearn.neighbors import KNeighborsClassifier"
   ]
  },
  {
   "cell_type": "code",
   "execution_count": 157,
   "id": "60639880",
   "metadata": {},
   "outputs": [],
   "source": [
    "knc=KNeighborsClassifier()"
   ]
  },
  {
   "cell_type": "code",
   "execution_count": 158,
   "id": "bf614e85",
   "metadata": {},
   "outputs": [],
   "source": [
    "kncmodel=knc.fit(X,y)"
   ]
  },
  {
   "cell_type": "code",
   "execution_count": 159,
   "id": "29a73716",
   "metadata": {},
   "outputs": [
    {
     "ename": "AttributeError",
     "evalue": "'Flags' object has no attribute 'c_contiguous'",
     "output_type": "error",
     "traceback": [
      "\u001b[1;31m---------------------------------------------------------------------------\u001b[0m",
      "\u001b[1;31mAttributeError\u001b[0m                            Traceback (most recent call last)",
      "Cell \u001b[1;32mIn[159], line 1\u001b[0m\n\u001b[1;32m----> 1\u001b[0m \u001b[43mkncmodel\u001b[49m\u001b[38;5;241;43m.\u001b[39;49m\u001b[43mscore\u001b[49m\u001b[43m(\u001b[49m\u001b[43mX\u001b[49m\u001b[43m,\u001b[49m\u001b[43my\u001b[49m\u001b[43m)\u001b[49m\n",
      "File \u001b[1;32m~\\anaconda3\\Lib\\site-packages\\sklearn\\base.py:705\u001b[0m, in \u001b[0;36mClassifierMixin.score\u001b[1;34m(self, X, y, sample_weight)\u001b[0m\n\u001b[0;32m    680\u001b[0m \u001b[38;5;250m\u001b[39m\u001b[38;5;124;03m\"\"\"\u001b[39;00m\n\u001b[0;32m    681\u001b[0m \u001b[38;5;124;03mReturn the mean accuracy on the given test data and labels.\u001b[39;00m\n\u001b[0;32m    682\u001b[0m \n\u001b[1;32m   (...)\u001b[0m\n\u001b[0;32m    701\u001b[0m \u001b[38;5;124;03m    Mean accuracy of ``self.predict(X)`` w.r.t. `y`.\u001b[39;00m\n\u001b[0;32m    702\u001b[0m \u001b[38;5;124;03m\"\"\"\u001b[39;00m\n\u001b[0;32m    703\u001b[0m \u001b[38;5;28;01mfrom\u001b[39;00m \u001b[38;5;21;01m.\u001b[39;00m\u001b[38;5;21;01mmetrics\u001b[39;00m \u001b[38;5;28;01mimport\u001b[39;00m accuracy_score\n\u001b[1;32m--> 705\u001b[0m \u001b[38;5;28;01mreturn\u001b[39;00m accuracy_score(y, \u001b[38;5;28;43mself\u001b[39;49m\u001b[38;5;241;43m.\u001b[39;49m\u001b[43mpredict\u001b[49m\u001b[43m(\u001b[49m\u001b[43mX\u001b[49m\u001b[43m)\u001b[49m, sample_weight\u001b[38;5;241m=\u001b[39msample_weight)\n",
      "File \u001b[1;32m~\\anaconda3\\Lib\\site-packages\\sklearn\\neighbors\\_classification.py:246\u001b[0m, in \u001b[0;36mKNeighborsClassifier.predict\u001b[1;34m(self, X)\u001b[0m\n\u001b[0;32m    244\u001b[0m check_is_fitted(\u001b[38;5;28mself\u001b[39m, \u001b[38;5;124m\"\u001b[39m\u001b[38;5;124m_fit_method\u001b[39m\u001b[38;5;124m\"\u001b[39m)\n\u001b[0;32m    245\u001b[0m \u001b[38;5;28;01mif\u001b[39;00m \u001b[38;5;28mself\u001b[39m\u001b[38;5;241m.\u001b[39mweights \u001b[38;5;241m==\u001b[39m \u001b[38;5;124m\"\u001b[39m\u001b[38;5;124muniform\u001b[39m\u001b[38;5;124m\"\u001b[39m:\n\u001b[1;32m--> 246\u001b[0m     \u001b[38;5;28;01mif\u001b[39;00m \u001b[38;5;28mself\u001b[39m\u001b[38;5;241m.\u001b[39m_fit_method \u001b[38;5;241m==\u001b[39m \u001b[38;5;124m\"\u001b[39m\u001b[38;5;124mbrute\u001b[39m\u001b[38;5;124m\"\u001b[39m \u001b[38;5;129;01mand\u001b[39;00m \u001b[43mArgKminClassMode\u001b[49m\u001b[38;5;241;43m.\u001b[39;49m\u001b[43mis_usable_for\u001b[49m\u001b[43m(\u001b[49m\n\u001b[0;32m    247\u001b[0m \u001b[43m        \u001b[49m\u001b[43mX\u001b[49m\u001b[43m,\u001b[49m\u001b[43m \u001b[49m\u001b[38;5;28;43mself\u001b[39;49m\u001b[38;5;241;43m.\u001b[39;49m\u001b[43m_fit_X\u001b[49m\u001b[43m,\u001b[49m\u001b[43m \u001b[49m\u001b[38;5;28;43mself\u001b[39;49m\u001b[38;5;241;43m.\u001b[39;49m\u001b[43mmetric\u001b[49m\n\u001b[0;32m    248\u001b[0m \u001b[43m    \u001b[49m\u001b[43m)\u001b[49m:\n\u001b[0;32m    249\u001b[0m         probabilities \u001b[38;5;241m=\u001b[39m \u001b[38;5;28mself\u001b[39m\u001b[38;5;241m.\u001b[39mpredict_proba(X)\n\u001b[0;32m    250\u001b[0m         \u001b[38;5;28;01mif\u001b[39;00m \u001b[38;5;28mself\u001b[39m\u001b[38;5;241m.\u001b[39moutputs_2d_:\n",
      "File \u001b[1;32m~\\anaconda3\\Lib\\site-packages\\sklearn\\metrics\\_pairwise_distances_reduction\\_dispatcher.py:471\u001b[0m, in \u001b[0;36mArgKminClassMode.is_usable_for\u001b[1;34m(cls, X, Y, metric)\u001b[0m\n\u001b[0;32m    448\u001b[0m \u001b[38;5;129m@classmethod\u001b[39m\n\u001b[0;32m    449\u001b[0m \u001b[38;5;28;01mdef\u001b[39;00m \u001b[38;5;21mis_usable_for\u001b[39m(\u001b[38;5;28mcls\u001b[39m, X, Y, metric) \u001b[38;5;241m-\u001b[39m\u001b[38;5;241m>\u001b[39m \u001b[38;5;28mbool\u001b[39m:\n\u001b[0;32m    450\u001b[0m \u001b[38;5;250m    \u001b[39m\u001b[38;5;124;03m\"\"\"Return True if the dispatcher can be used for the given parameters.\u001b[39;00m\n\u001b[0;32m    451\u001b[0m \n\u001b[0;32m    452\u001b[0m \u001b[38;5;124;03m    Parameters\u001b[39;00m\n\u001b[1;32m   (...)\u001b[0m\n\u001b[0;32m    468\u001b[0m \u001b[38;5;124;03m    True if the PairwiseDistancesReduction can be used, else False.\u001b[39;00m\n\u001b[0;32m    469\u001b[0m \u001b[38;5;124;03m    \"\"\"\u001b[39;00m\n\u001b[0;32m    470\u001b[0m     \u001b[38;5;28;01mreturn\u001b[39;00m (\n\u001b[1;32m--> 471\u001b[0m         \u001b[43mArgKmin\u001b[49m\u001b[38;5;241;43m.\u001b[39;49m\u001b[43mis_usable_for\u001b[49m\u001b[43m(\u001b[49m\u001b[43mX\u001b[49m\u001b[43m,\u001b[49m\u001b[43m \u001b[49m\u001b[43mY\u001b[49m\u001b[43m,\u001b[49m\u001b[43m \u001b[49m\u001b[43mmetric\u001b[49m\u001b[43m)\u001b[49m\n\u001b[0;32m    472\u001b[0m         \u001b[38;5;66;03m# TODO: Support CSR matrices.\u001b[39;00m\n\u001b[0;32m    473\u001b[0m         \u001b[38;5;129;01mand\u001b[39;00m \u001b[38;5;129;01mnot\u001b[39;00m issparse(X)\n\u001b[0;32m    474\u001b[0m         \u001b[38;5;129;01mand\u001b[39;00m \u001b[38;5;129;01mnot\u001b[39;00m issparse(Y)\n\u001b[0;32m    475\u001b[0m         \u001b[38;5;66;03m# TODO: implement Euclidean specialization with GEMM.\u001b[39;00m\n\u001b[0;32m    476\u001b[0m         \u001b[38;5;129;01mand\u001b[39;00m metric \u001b[38;5;129;01mnot\u001b[39;00m \u001b[38;5;129;01min\u001b[39;00m (\u001b[38;5;124m\"\u001b[39m\u001b[38;5;124meuclidean\u001b[39m\u001b[38;5;124m\"\u001b[39m, \u001b[38;5;124m\"\u001b[39m\u001b[38;5;124msqeuclidean\u001b[39m\u001b[38;5;124m\"\u001b[39m)\n\u001b[0;32m    477\u001b[0m     )\n",
      "File \u001b[1;32m~\\anaconda3\\Lib\\site-packages\\sklearn\\metrics\\_pairwise_distances_reduction\\_dispatcher.py:115\u001b[0m, in \u001b[0;36mBaseDistancesReductionDispatcher.is_usable_for\u001b[1;34m(cls, X, Y, metric)\u001b[0m\n\u001b[0;32m    101\u001b[0m \u001b[38;5;28;01mdef\u001b[39;00m \u001b[38;5;21mis_valid_sparse_matrix\u001b[39m(X):\n\u001b[0;32m    102\u001b[0m     \u001b[38;5;28;01mreturn\u001b[39;00m (\n\u001b[0;32m    103\u001b[0m         isspmatrix_csr(X)\n\u001b[0;32m    104\u001b[0m         \u001b[38;5;129;01mand\u001b[39;00m\n\u001b[1;32m   (...)\u001b[0m\n\u001b[0;32m    110\u001b[0m         X\u001b[38;5;241m.\u001b[39mindices\u001b[38;5;241m.\u001b[39mdtype \u001b[38;5;241m==\u001b[39m X\u001b[38;5;241m.\u001b[39mindptr\u001b[38;5;241m.\u001b[39mdtype \u001b[38;5;241m==\u001b[39m np\u001b[38;5;241m.\u001b[39mint32\n\u001b[0;32m    111\u001b[0m     )\n\u001b[0;32m    113\u001b[0m is_usable \u001b[38;5;241m=\u001b[39m (\n\u001b[0;32m    114\u001b[0m     get_config()\u001b[38;5;241m.\u001b[39mget(\u001b[38;5;124m\"\u001b[39m\u001b[38;5;124menable_cython_pairwise_dist\u001b[39m\u001b[38;5;124m\"\u001b[39m, \u001b[38;5;28;01mTrue\u001b[39;00m)\n\u001b[1;32m--> 115\u001b[0m     \u001b[38;5;129;01mand\u001b[39;00m (\u001b[43mis_numpy_c_ordered\u001b[49m\u001b[43m(\u001b[49m\u001b[43mX\u001b[49m\u001b[43m)\u001b[49m \u001b[38;5;129;01mor\u001b[39;00m is_valid_sparse_matrix(X))\n\u001b[0;32m    116\u001b[0m     \u001b[38;5;129;01mand\u001b[39;00m (is_numpy_c_ordered(Y) \u001b[38;5;129;01mor\u001b[39;00m is_valid_sparse_matrix(Y))\n\u001b[0;32m    117\u001b[0m     \u001b[38;5;129;01mand\u001b[39;00m X\u001b[38;5;241m.\u001b[39mdtype \u001b[38;5;241m==\u001b[39m Y\u001b[38;5;241m.\u001b[39mdtype\n\u001b[0;32m    118\u001b[0m     \u001b[38;5;129;01mand\u001b[39;00m X\u001b[38;5;241m.\u001b[39mdtype \u001b[38;5;129;01min\u001b[39;00m (np\u001b[38;5;241m.\u001b[39mfloat32, np\u001b[38;5;241m.\u001b[39mfloat64)\n\u001b[0;32m    119\u001b[0m     \u001b[38;5;129;01mand\u001b[39;00m metric \u001b[38;5;129;01min\u001b[39;00m \u001b[38;5;28mcls\u001b[39m\u001b[38;5;241m.\u001b[39mvalid_metrics()\n\u001b[0;32m    120\u001b[0m )\n\u001b[0;32m    122\u001b[0m \u001b[38;5;28;01mreturn\u001b[39;00m is_usable\n",
      "File \u001b[1;32m~\\anaconda3\\Lib\\site-packages\\sklearn\\metrics\\_pairwise_distances_reduction\\_dispatcher.py:99\u001b[0m, in \u001b[0;36mBaseDistancesReductionDispatcher.is_usable_for.<locals>.is_numpy_c_ordered\u001b[1;34m(X)\u001b[0m\n\u001b[0;32m     98\u001b[0m \u001b[38;5;28;01mdef\u001b[39;00m \u001b[38;5;21mis_numpy_c_ordered\u001b[39m(X):\n\u001b[1;32m---> 99\u001b[0m     \u001b[38;5;28;01mreturn\u001b[39;00m \u001b[38;5;28mhasattr\u001b[39m(X, \u001b[38;5;124m\"\u001b[39m\u001b[38;5;124mflags\u001b[39m\u001b[38;5;124m\"\u001b[39m) \u001b[38;5;129;01mand\u001b[39;00m \u001b[43mX\u001b[49m\u001b[38;5;241;43m.\u001b[39;49m\u001b[43mflags\u001b[49m\u001b[38;5;241;43m.\u001b[39;49m\u001b[43mc_contiguous\u001b[49m\n",
      "\u001b[1;31mAttributeError\u001b[0m: 'Flags' object has no attribute 'c_contiguous'"
     ]
    }
   ],
   "source": [
    "kncmodel.score(X,y)"
   ]
  },
  {
   "cell_type": "code",
   "execution_count": null,
   "id": "1a8db669",
   "metadata": {},
   "outputs": [],
   "source": [
    "kncpredict=kncmodel.predict(X)"
   ]
  },
  {
   "cell_type": "code",
   "execution_count": null,
   "id": "50192bca",
   "metadata": {},
   "outputs": [],
   "source": [
    "pd.crosstab(y,kncpredict)"
   ]
  },
  {
   "cell_type": "code",
   "execution_count": null,
   "id": "6fa25ef9",
   "metadata": {},
   "outputs": [],
   "source": [
    "cross_val_score(knc,X,y)"
   ]
  },
  {
   "cell_type": "code",
   "execution_count": null,
   "id": "67f4797c",
   "metadata": {},
   "outputs": [],
   "source": [
    "np.mean([0.74714286, 0.76285714, 0.75857143, 0.76357143, 0.74857143])"
   ]
  },
  {
   "cell_type": "code",
   "execution_count": null,
   "id": "1ad5ede9",
   "metadata": {},
   "outputs": [],
   "source": [
    "print(classification_report(y,kncpredict))"
   ]
  },
  {
   "cell_type": "code",
   "execution_count": null,
   "id": "ad5744a6",
   "metadata": {},
   "outputs": [],
   "source": [
    "kncpredict_test=knc.predict(house_tt)"
   ]
  },
  {
   "cell_type": "code",
   "execution_count": null,
   "id": "10d0ad0e",
   "metadata": {},
   "outputs": [],
   "source": [
    "kncpredict_test=pd.DataFrame(kncpredict_test)"
   ]
  },
  {
   "cell_type": "code",
   "execution_count": null,
   "id": "07267fed",
   "metadata": {},
   "outputs": [],
   "source": [
    "kncpredict_test.value_counts()"
   ]
  },
  {
   "cell_type": "code",
   "execution_count": null,
   "id": "b5d4689f",
   "metadata": {},
   "outputs": [],
   "source": [
    "kncpredict_test=kncpredict_test.replace({0:'Consider',1:'May Consider',2:'Not Consider'})"
   ]
  },
  {
   "cell_type": "code",
   "execution_count": null,
   "id": "278c9c66",
   "metadata": {},
   "outputs": [],
   "source": []
  }
 ],
 "metadata": {
  "kernelspec": {
   "display_name": "Python 3 (ipykernel)",
   "language": "python",
   "name": "python3"
  },
  "language_info": {
   "codemirror_mode": {
    "name": "ipython",
    "version": 3
   },
   "file_extension": ".py",
   "mimetype": "text/x-python",
   "name": "python",
   "nbconvert_exporter": "python",
   "pygments_lexer": "ipython3",
   "version": "3.11.5"
  }
 },
 "nbformat": 4,
 "nbformat_minor": 5
}
